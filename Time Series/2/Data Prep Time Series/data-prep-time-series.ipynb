{
 "cells": [
  {
   "cell_type": "markdown",
   "metadata": {
    "id": "NOKAiC-jt7yQ"
   },
   "source": [
    "# Demo: Data Preparation for Time Series Forecasting with Prophet"
   ]
  },
  {
   "cell_type": "markdown",
   "metadata": {
    "id": "UcJix4iYvBe0"
   },
   "source": [
    "## Notebook Set Up"
   ]
  },
  {
   "cell_type": "code",
   "execution_count": 1,
   "metadata": {
    "colab": {
     "base_uri": "https://localhost:8080/"
    },
    "id": "qKApHln9vD6E",
    "outputId": "e7541c6c-12de-4119-f763-0ce7d91a3d2c"
   },
   "outputs": [
    {
     "name": "stdout",
     "output_type": "stream",
     "text": [
      "Requirement already satisfied: pystan in c:\\users\\public\\anaconda3\\envs\\dev\\envs\\dev\\lib\\site-packages (2.19.1.1)\n",
      "Requirement already satisfied: Cython!=0.25.1,>=0.22 in c:\\users\\public\\anaconda3\\envs\\dev\\envs\\dev\\lib\\site-packages (from pystan) (0.29.28)\n",
      "Requirement already satisfied: numpy>=1.7 in c:\\users\\public\\anaconda3\\envs\\dev\\envs\\dev\\lib\\site-packages (from pystan) (1.21.5)\n",
      "Requirement already satisfied: prophet in c:\\users\\public\\anaconda3\\envs\\dev\\envs\\dev\\lib\\site-packages (1.1.1)\n",
      "Requirement already satisfied: convertdate>=2.1.2 in c:\\users\\public\\anaconda3\\envs\\dev\\envs\\dev\\lib\\site-packages (from prophet) (2.4.0)\n",
      "Requirement already satisfied: pandas>=1.0.4 in c:\\users\\public\\anaconda3\\envs\\dev\\envs\\dev\\lib\\site-packages (from prophet) (1.3.5)\n",
      "Requirement already satisfied: cmdstanpy>=1.0.4 in c:\\users\\public\\anaconda3\\envs\\dev\\envs\\dev\\lib\\site-packages (from prophet) (1.0.7)\n",
      "Requirement already satisfied: holidays>=0.14.2 in c:\\users\\public\\anaconda3\\envs\\dev\\envs\\dev\\lib\\site-packages (from prophet) (0.15)\n",
      "Requirement already satisfied: LunarCalendar>=0.0.9 in c:\\users\\public\\anaconda3\\envs\\dev\\envs\\dev\\lib\\site-packages (from prophet) (0.0.9)\n",
      "Requirement already satisfied: setuptools-git>=1.2 in c:\\users\\public\\anaconda3\\envs\\dev\\envs\\dev\\lib\\site-packages (from prophet) (1.2)\n",
      "Requirement already satisfied: wheel>=0.37.0 in c:\\users\\public\\anaconda3\\envs\\dev\\envs\\dev\\lib\\site-packages (from prophet) (0.37.1)\n",
      "Requirement already satisfied: numpy>=1.15.4 in c:\\users\\public\\anaconda3\\envs\\dev\\envs\\dev\\lib\\site-packages (from prophet) (1.21.5)\n",
      "Requirement already satisfied: matplotlib>=2.0.0 in c:\\users\\public\\anaconda3\\envs\\dev\\envs\\dev\\lib\\site-packages (from prophet) (3.5.1)\n",
      "Requirement already satisfied: python-dateutil>=2.8.0 in c:\\users\\public\\anaconda3\\envs\\dev\\envs\\dev\\lib\\site-packages (from prophet) (2.8.2)\n",
      "Requirement already satisfied: tqdm>=4.36.1 in c:\\users\\public\\anaconda3\\envs\\dev\\envs\\dev\\lib\\site-packages (from prophet) (4.64.0)\n",
      "Requirement already satisfied: setuptools>=42 in c:\\users\\public\\anaconda3\\envs\\dev\\envs\\dev\\lib\\site-packages (from prophet) (61.2.0)\n",
      "Requirement already satisfied: ujson in c:\\users\\public\\anaconda3\\envs\\dev\\envs\\dev\\lib\\site-packages (from cmdstanpy>=1.0.4->prophet) (5.1.0)\n",
      "Requirement already satisfied: pymeeus<=1,>=0.3.13 in c:\\users\\public\\anaconda3\\envs\\dev\\envs\\dev\\lib\\site-packages (from convertdate>=2.1.2->prophet) (0.5.11)\n",
      "Requirement already satisfied: korean-lunar-calendar in c:\\users\\public\\anaconda3\\envs\\dev\\envs\\dev\\lib\\site-packages (from holidays>=0.14.2->prophet) (0.2.1)\n",
      "Requirement already satisfied: hijri-converter in c:\\users\\public\\anaconda3\\envs\\dev\\envs\\dev\\lib\\site-packages (from holidays>=0.14.2->prophet) (2.2.4)\n",
      "Requirement already satisfied: pytz in c:\\users\\public\\anaconda3\\envs\\dev\\envs\\dev\\lib\\site-packages (from LunarCalendar>=0.0.9->prophet) (2021.3)\n",
      "Requirement already satisfied: ephem>=3.7.5.3 in c:\\users\\public\\anaconda3\\envs\\dev\\envs\\dev\\lib\\site-packages (from LunarCalendar>=0.0.9->prophet) (4.1.3)\n",
      "Requirement already satisfied: pyparsing>=2.2.1 in c:\\users\\public\\anaconda3\\envs\\dev\\envs\\dev\\lib\\site-packages (from matplotlib>=2.0.0->prophet) (3.0.4)\n",
      "Requirement already satisfied: kiwisolver>=1.0.1 in c:\\users\\public\\anaconda3\\envs\\dev\\envs\\dev\\lib\\site-packages (from matplotlib>=2.0.0->prophet) (1.3.2)\n",
      "Requirement already satisfied: pillow>=6.2.0 in c:\\users\\public\\anaconda3\\envs\\dev\\envs\\dev\\lib\\site-packages (from matplotlib>=2.0.0->prophet) (9.0.1)\n",
      "Requirement already satisfied: cycler>=0.10 in c:\\users\\public\\anaconda3\\envs\\dev\\envs\\dev\\lib\\site-packages (from matplotlib>=2.0.0->prophet) (0.11.0)\n",
      "Requirement already satisfied: packaging>=20.0 in c:\\users\\public\\anaconda3\\envs\\dev\\envs\\dev\\lib\\site-packages (from matplotlib>=2.0.0->prophet) (21.3)\n",
      "Requirement already satisfied: fonttools>=4.22.0 in c:\\users\\public\\anaconda3\\envs\\dev\\envs\\dev\\lib\\site-packages (from matplotlib>=2.0.0->prophet) (4.25.0)\n",
      "Requirement already satisfied: six>=1.5 in c:\\users\\public\\anaconda3\\envs\\dev\\envs\\dev\\lib\\site-packages (from python-dateutil>=2.8.0->prophet) (1.16.0)\n",
      "Requirement already satisfied: colorama in c:\\users\\public\\anaconda3\\envs\\dev\\envs\\dev\\lib\\site-packages (from tqdm>=4.36.1->prophet) (0.4.4)\n",
      "Requirement already satisfied: hvplot in c:\\users\\public\\anaconda3\\envs\\dev\\envs\\dev\\lib\\site-packages (0.7.3)\n",
      "Requirement already satisfied: colorcet>=2 in c:\\users\\public\\anaconda3\\envs\\dev\\envs\\dev\\lib\\site-packages (from hvplot) (2.0.6)\n",
      "Requirement already satisfied: holoviews>=1.11.0 in c:\\users\\public\\anaconda3\\envs\\dev\\envs\\dev\\lib\\site-packages (from hvplot) (1.14.8)\n",
      "Requirement already satisfied: numpy>=1.15 in c:\\users\\public\\anaconda3\\envs\\dev\\envs\\dev\\lib\\site-packages (from hvplot) (1.21.5)\n",
      "Requirement already satisfied: bokeh>=1.0.0 in c:\\users\\public\\anaconda3\\envs\\dev\\envs\\dev\\lib\\site-packages (from hvplot) (2.4.2)\n",
      "Requirement already satisfied: pandas in c:\\users\\public\\anaconda3\\envs\\dev\\envs\\dev\\lib\\site-packages (from hvplot) (1.3.5)\n",
      "Requirement already satisfied: PyYAML>=3.10 in c:\\users\\public\\anaconda3\\envs\\dev\\envs\\dev\\lib\\site-packages (from bokeh>=1.0.0->hvplot) (6.0)\n",
      "Requirement already satisfied: pillow>=7.1.0 in c:\\users\\public\\anaconda3\\envs\\dev\\envs\\dev\\lib\\site-packages (from bokeh>=1.0.0->hvplot) (9.0.1)\n",
      "Requirement already satisfied: Jinja2>=2.9 in c:\\users\\public\\anaconda3\\envs\\dev\\envs\\dev\\lib\\site-packages (from bokeh>=1.0.0->hvplot) (2.11.3)\n",
      "Requirement already satisfied: packaging>=16.8 in c:\\users\\public\\anaconda3\\envs\\dev\\envs\\dev\\lib\\site-packages (from bokeh>=1.0.0->hvplot) (21.3)\n",
      "Requirement already satisfied: tornado>=5.1 in c:\\users\\public\\anaconda3\\envs\\dev\\envs\\dev\\lib\\site-packages (from bokeh>=1.0.0->hvplot) (6.1)\n",
      "Requirement already satisfied: typing-extensions>=3.10.0 in c:\\users\\public\\anaconda3\\envs\\dev\\envs\\dev\\lib\\site-packages (from bokeh>=1.0.0->hvplot) (4.1.1)\n",
      "Requirement already satisfied: pyct>=0.4.4 in c:\\users\\public\\anaconda3\\envs\\dev\\envs\\dev\\lib\\site-packages (from colorcet>=2->hvplot) (0.4.8)\n",
      "Requirement already satisfied: param>=1.7.0 in c:\\users\\public\\anaconda3\\envs\\dev\\envs\\dev\\lib\\site-packages (from colorcet>=2->hvplot) (1.12.0)\n",
      "Requirement already satisfied: panel>=0.8.0 in c:\\users\\public\\anaconda3\\envs\\dev\\envs\\dev\\lib\\site-packages (from holoviews>=1.11.0->hvplot) (0.13.0)\n",
      "Requirement already satisfied: pyviz-comms>=0.7.4 in c:\\users\\public\\anaconda3\\envs\\dev\\envs\\dev\\lib\\site-packages (from holoviews>=1.11.0->hvplot) (2.0.2)\n",
      "Requirement already satisfied: MarkupSafe>=0.23 in c:\\users\\public\\anaconda3\\envs\\dev\\envs\\dev\\lib\\site-packages (from Jinja2>=2.9->bokeh>=1.0.0->hvplot) (2.0.1)\n",
      "Requirement already satisfied: pyparsing!=3.0.5,>=2.0.2 in c:\\users\\public\\anaconda3\\envs\\dev\\envs\\dev\\lib\\site-packages (from packaging>=16.8->bokeh>=1.0.0->hvplot) (3.0.4)\n",
      "Requirement already satisfied: python-dateutil>=2.7.3 in c:\\users\\public\\anaconda3\\envs\\dev\\envs\\dev\\lib\\site-packages (from pandas->hvplot) (2.8.2)\n",
      "Requirement already satisfied: pytz>=2017.3 in c:\\users\\public\\anaconda3\\envs\\dev\\envs\\dev\\lib\\site-packages (from pandas->hvplot) (2021.3)\n",
      "Requirement already satisfied: markdown in c:\\users\\public\\anaconda3\\envs\\dev\\envs\\dev\\lib\\site-packages (from panel>=0.8.0->holoviews>=1.11.0->hvplot) (3.3.4)\n",
      "Requirement already satisfied: requests in c:\\users\\public\\anaconda3\\envs\\dev\\envs\\dev\\lib\\site-packages (from panel>=0.8.0->holoviews>=1.11.0->hvplot) (2.27.1)\n",
      "Requirement already satisfied: bleach in c:\\users\\public\\anaconda3\\envs\\dev\\envs\\dev\\lib\\site-packages (from panel>=0.8.0->holoviews>=1.11.0->hvplot) (4.1.0)\n",
      "Requirement already satisfied: tqdm>=4.48.0 in c:\\users\\public\\anaconda3\\envs\\dev\\envs\\dev\\lib\\site-packages (from panel>=0.8.0->holoviews>=1.11.0->hvplot) (4.64.0)\n",
      "Requirement already satisfied: six>=1.5 in c:\\users\\public\\anaconda3\\envs\\dev\\envs\\dev\\lib\\site-packages (from python-dateutil>=2.7.3->pandas->hvplot) (1.16.0)\n",
      "Requirement already satisfied: colorama in c:\\users\\public\\anaconda3\\envs\\dev\\envs\\dev\\lib\\site-packages (from tqdm>=4.48.0->panel>=0.8.0->holoviews>=1.11.0->hvplot) (0.4.4)\n",
      "Requirement already satisfied: webencodings in c:\\users\\public\\anaconda3\\envs\\dev\\envs\\dev\\lib\\site-packages (from bleach->panel>=0.8.0->holoviews>=1.11.0->hvplot) (0.5.1)\n",
      "Requirement already satisfied: importlib-metadata in c:\\users\\public\\anaconda3\\envs\\dev\\envs\\dev\\lib\\site-packages (from markdown->panel>=0.8.0->holoviews>=1.11.0->hvplot) (4.11.3)\n",
      "Requirement already satisfied: zipp>=0.5 in c:\\users\\public\\anaconda3\\envs\\dev\\envs\\dev\\lib\\site-packages (from importlib-metadata->markdown->panel>=0.8.0->holoviews>=1.11.0->hvplot) (3.7.0)\n",
      "Requirement already satisfied: urllib3<1.27,>=1.21.1 in c:\\users\\public\\anaconda3\\envs\\dev\\envs\\dev\\lib\\site-packages (from requests->panel>=0.8.0->holoviews>=1.11.0->hvplot) (1.26.9)\n",
      "Requirement already satisfied: charset-normalizer~=2.0.0 in c:\\users\\public\\anaconda3\\envs\\dev\\envs\\dev\\lib\\site-packages (from requests->panel>=0.8.0->holoviews>=1.11.0->hvplot) (2.0.4)\n",
      "Requirement already satisfied: certifi>=2017.4.17 in c:\\users\\public\\anaconda3\\envs\\dev\\envs\\dev\\lib\\site-packages (from requests->panel>=0.8.0->holoviews>=1.11.0->hvplot) (2022.6.15)\n",
      "Requirement already satisfied: idna<4,>=2.5 in c:\\users\\public\\anaconda3\\envs\\dev\\envs\\dev\\lib\\site-packages (from requests->panel>=0.8.0->holoviews>=1.11.0->hvplot) (3.3)\n",
      "Requirement already satisfied: holoviews in c:\\users\\public\\anaconda3\\envs\\dev\\envs\\dev\\lib\\site-packages (1.14.8)\n",
      "Requirement already satisfied: pandas>=0.20.0 in c:\\users\\public\\anaconda3\\envs\\dev\\envs\\dev\\lib\\site-packages (from holoviews) (1.3.5)\n",
      "Requirement already satisfied: colorcet in c:\\users\\public\\anaconda3\\envs\\dev\\envs\\dev\\lib\\site-packages (from holoviews) (2.0.6)\n",
      "Requirement already satisfied: numpy>=1.0 in c:\\users\\public\\anaconda3\\envs\\dev\\envs\\dev\\lib\\site-packages (from holoviews) (1.21.5)\n",
      "Requirement already satisfied: param<2.0,>=1.9.3 in c:\\users\\public\\anaconda3\\envs\\dev\\envs\\dev\\lib\\site-packages (from holoviews) (1.12.0)\n",
      "Requirement already satisfied: panel>=0.8.0 in c:\\users\\public\\anaconda3\\envs\\dev\\envs\\dev\\lib\\site-packages (from holoviews) (0.13.0)\n",
      "Requirement already satisfied: pyviz-comms>=0.7.4 in c:\\users\\public\\anaconda3\\envs\\dev\\envs\\dev\\lib\\site-packages (from holoviews) (2.0.2)\n",
      "Requirement already satisfied: packaging in c:\\users\\public\\anaconda3\\envs\\dev\\envs\\dev\\lib\\site-packages (from holoviews) (21.3)\n",
      "Requirement already satisfied: pytz>=2017.3 in c:\\users\\public\\anaconda3\\envs\\dev\\envs\\dev\\lib\\site-packages (from pandas>=0.20.0->holoviews) (2021.3)\n",
      "Requirement already satisfied: python-dateutil>=2.7.3 in c:\\users\\public\\anaconda3\\envs\\dev\\envs\\dev\\lib\\site-packages (from pandas>=0.20.0->holoviews) (2.8.2)\n",
      "Requirement already satisfied: markdown in c:\\users\\public\\anaconda3\\envs\\dev\\envs\\dev\\lib\\site-packages (from panel>=0.8.0->holoviews) (3.3.4)\n",
      "Requirement already satisfied: bokeh<2.5.0,>=2.4.0 in c:\\users\\public\\anaconda3\\envs\\dev\\envs\\dev\\lib\\site-packages (from panel>=0.8.0->holoviews) (2.4.2)\n",
      "Requirement already satisfied: bleach in c:\\users\\public\\anaconda3\\envs\\dev\\envs\\dev\\lib\\site-packages (from panel>=0.8.0->holoviews) (4.1.0)\n",
      "Requirement already satisfied: requests in c:\\users\\public\\anaconda3\\envs\\dev\\envs\\dev\\lib\\site-packages (from panel>=0.8.0->holoviews) (2.27.1)\n",
      "Requirement already satisfied: tqdm>=4.48.0 in c:\\users\\public\\anaconda3\\envs\\dev\\envs\\dev\\lib\\site-packages (from panel>=0.8.0->holoviews) (4.64.0)\n",
      "Requirement already satisfied: pyct>=0.4.4 in c:\\users\\public\\anaconda3\\envs\\dev\\envs\\dev\\lib\\site-packages (from panel>=0.8.0->holoviews) (0.4.8)\n",
      "Requirement already satisfied: PyYAML>=3.10 in c:\\users\\public\\anaconda3\\envs\\dev\\envs\\dev\\lib\\site-packages (from bokeh<2.5.0,>=2.4.0->panel>=0.8.0->holoviews) (6.0)\n",
      "Requirement already satisfied: typing-extensions>=3.10.0 in c:\\users\\public\\anaconda3\\envs\\dev\\envs\\dev\\lib\\site-packages (from bokeh<2.5.0,>=2.4.0->panel>=0.8.0->holoviews) (4.1.1)\n",
      "Requirement already satisfied: Jinja2>=2.9 in c:\\users\\public\\anaconda3\\envs\\dev\\envs\\dev\\lib\\site-packages (from bokeh<2.5.0,>=2.4.0->panel>=0.8.0->holoviews) (2.11.3)\n",
      "Requirement already satisfied: tornado>=5.1 in c:\\users\\public\\anaconda3\\envs\\dev\\envs\\dev\\lib\\site-packages (from bokeh<2.5.0,>=2.4.0->panel>=0.8.0->holoviews) (6.1)\n",
      "Requirement already satisfied: pillow>=7.1.0 in c:\\users\\public\\anaconda3\\envs\\dev\\envs\\dev\\lib\\site-packages (from bokeh<2.5.0,>=2.4.0->panel>=0.8.0->holoviews) (9.0.1)\n",
      "Requirement already satisfied: MarkupSafe>=0.23 in c:\\users\\public\\anaconda3\\envs\\dev\\envs\\dev\\lib\\site-packages (from Jinja2>=2.9->bokeh<2.5.0,>=2.4.0->panel>=0.8.0->holoviews) (2.0.1)\n",
      "Requirement already satisfied: pyparsing!=3.0.5,>=2.0.2 in c:\\users\\public\\anaconda3\\envs\\dev\\envs\\dev\\lib\\site-packages (from packaging->holoviews) (3.0.4)\n",
      "Requirement already satisfied: six>=1.5 in c:\\users\\public\\anaconda3\\envs\\dev\\envs\\dev\\lib\\site-packages (from python-dateutil>=2.7.3->pandas>=0.20.0->holoviews) (1.16.0)\n",
      "Requirement already satisfied: colorama in c:\\users\\public\\anaconda3\\envs\\dev\\envs\\dev\\lib\\site-packages (from tqdm>=4.48.0->panel>=0.8.0->holoviews) (0.4.4)\n",
      "Requirement already satisfied: webencodings in c:\\users\\public\\anaconda3\\envs\\dev\\envs\\dev\\lib\\site-packages (from bleach->panel>=0.8.0->holoviews) (0.5.1)\n",
      "Requirement already satisfied: importlib-metadata in c:\\users\\public\\anaconda3\\envs\\dev\\envs\\dev\\lib\\site-packages (from markdown->panel>=0.8.0->holoviews) (4.11.3)\n",
      "Requirement already satisfied: zipp>=0.5 in c:\\users\\public\\anaconda3\\envs\\dev\\envs\\dev\\lib\\site-packages (from importlib-metadata->markdown->panel>=0.8.0->holoviews) (3.7.0)\n",
      "Requirement already satisfied: certifi>=2017.4.17 in c:\\users\\public\\anaconda3\\envs\\dev\\envs\\dev\\lib\\site-packages (from requests->panel>=0.8.0->holoviews) (2022.6.15)\n",
      "Requirement already satisfied: urllib3<1.27,>=1.21.1 in c:\\users\\public\\anaconda3\\envs\\dev\\envs\\dev\\lib\\site-packages (from requests->panel>=0.8.0->holoviews) (1.26.9)\n",
      "Requirement already satisfied: charset-normalizer~=2.0.0 in c:\\users\\public\\anaconda3\\envs\\dev\\envs\\dev\\lib\\site-packages (from requests->panel>=0.8.0->holoviews) (2.0.4)\n",
      "Requirement already satisfied: idna<4,>=2.5 in c:\\users\\public\\anaconda3\\envs\\dev\\envs\\dev\\lib\\site-packages (from requests->panel>=0.8.0->holoviews) (3.3)\n"
     ]
    }
   ],
   "source": [
    "# Install the required libraries\n",
    "!pip install pystan\n",
    "!pip install prophet\n",
    "!pip install hvplot\n",
    "!pip install holoviews"
   ]
  },
  {
   "cell_type": "code",
   "execution_count": null,
   "metadata": {
    "colab": {
     "base_uri": "https://localhost:8080/",
     "height": 17
    },
    "id": "gBceGHgIvGQP",
    "outputId": "65b2cb00-b1ab-4139-c4c1-4e880821b5eb"
   },
   "outputs": [],
   "source": [
    "# Import the required libraries and dependencies\n",
    "import pandas as pd\n",
    "import hvplot.pandas\n",
    "import datetime as dt\n",
    "import holoviews as hv\n",
    "from prophet import Prophet\n",
    "\n",
    "%matplotlib inline"
   ]
  },
  {
   "cell_type": "code",
   "execution_count": null,
   "metadata": {
    "id": "bDzEDxdrvOTn"
   },
   "outputs": [],
   "source": [
    "# Import the `files` library to allow files upload\n",
    "from google.colab import files"
   ]
  },
  {
   "cell_type": "code",
   "execution_count": null,
   "metadata": {
    "colab": {
     "base_uri": "https://localhost:8080/",
     "height": 42
    },
    "id": "OuKBm9u0vQrH",
    "outputId": "cf772a7c-082e-46d0-9372-ae67e179f07a"
   },
   "outputs": [],
   "source": [
    "# Setting `bokeh` to render hvPlot charts\n",
    "hv.extension(\"bokeh\")"
   ]
  },
  {
   "cell_type": "markdown",
   "metadata": {
    "id": "3TXbwISGvWnd"
   },
   "source": [
    "## Plot the Data"
   ]
  },
  {
   "cell_type": "code",
   "execution_count": null,
   "metadata": {
    "colab": {
     "base_uri": "https://localhost:8080/",
     "height": 72,
     "resources": {
      "http://localhost:8080/nbextensions/google.colab/files.js": {
       "data": "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",
       "headers": [
        [
         "content-type",
         "application/javascript"
        ]
       ],
       "ok": true,
       "status": 200,
       "status_text": ""
      }
     }
    },
    "id": "p1Y7nXOCvSXC",
    "outputId": "c7d14f95-5096-45be-d57d-785457eb3efe"
   },
   "outputs": [],
   "source": [
    "# Upload \"hourly_grid_prices.csv\" into Colab, then store in a DataFrame\n",
    "uploaded = files.upload()"
   ]
  },
  {
   "cell_type": "code",
   "execution_count": null,
   "metadata": {
    "colab": {
     "base_uri": "https://localhost:8080/",
     "height": 453
    },
    "id": "XzeLvhobwOMl",
    "outputId": "8ebd0507-7844-4d7d-f6d0-1d94af86d6ad"
   },
   "outputs": [],
   "source": [
    "# Load the data into the DataFrame\n",
    "\n",
    "\n",
    "# Display the first and last five rows of the DataFrame\n"
   ]
  },
  {
   "cell_type": "code",
   "execution_count": null,
   "metadata": {
    "colab": {
     "base_uri": "https://localhost:8080/",
     "height": 327
    },
    "id": "6qdS_uJkwQ1z",
    "outputId": "ac49a46a-3499-4dc4-f778-c0e3f08c9527"
   },
   "outputs": [],
   "source": [
    "# Holoviews extension to render hvPlots in Colab\n",
    "\n",
    "\n",
    "# Plot the DataFrame\n"
   ]
  },
  {
   "cell_type": "markdown",
   "metadata": {
    "id": "5zVMePxrySWR"
   },
   "source": [
    "## Prepare the Data"
   ]
  },
  {
   "cell_type": "code",
   "execution_count": null,
   "metadata": {
    "colab": {
     "base_uri": "https://localhost:8080/",
     "height": 391
    },
    "id": "r7yBtOOZyVBK",
    "outputId": "d781f027-823f-4631-a15e-070751742202"
   },
   "outputs": [],
   "source": [
    "# Reset the index of the DataFrame\n",
    "\n",
    "\n",
    "# Review the first and last five rows of the DataFrame\n"
   ]
  },
  {
   "cell_type": "code",
   "execution_count": null,
   "metadata": {
    "colab": {
     "base_uri": "https://localhost:8080/",
     "height": 204
    },
    "id": "Kton9J-MyXBr",
    "outputId": "edca8073-9761-4c27-b85b-73c689b2537a"
   },
   "outputs": [],
   "source": [
    "# Prepare the training data to be read into a prophet model\n",
    "# Rename the columns to names that Prophet recognizes\n"
   ]
  },
  {
   "cell_type": "code",
   "execution_count": null,
   "metadata": {
    "colab": {
     "base_uri": "https://localhost:8080/",
     "height": 204
    },
    "id": "xNsNf0VKzH7x",
    "outputId": "2a12e924-b097-4752-8392-0adcd008f13c"
   },
   "outputs": [],
   "source": [
    "# Confirm that there are no NaN values\n"
   ]
  },
  {
   "cell_type": "code",
   "execution_count": null,
   "metadata": {
    "id": "cJ8NT87dz1Qy"
   },
   "outputs": [],
   "source": []
  }
 ],
 "metadata": {
  "colab": {
   "name": "data-prep-time-series.ipynb",
   "provenance": []
  },
  "kernelspec": {
   "display_name": "Python 3 (ipykernel)",
   "language": "python",
   "name": "python3"
  },
  "language_info": {
   "codemirror_mode": {
    "name": "ipython",
    "version": 3
   },
   "file_extension": ".py",
   "mimetype": "text/x-python",
   "name": "python",
   "nbconvert_exporter": "python",
   "pygments_lexer": "ipython3",
   "version": "3.7.13"
  }
 },
 "nbformat": 4,
 "nbformat_minor": 4
}
