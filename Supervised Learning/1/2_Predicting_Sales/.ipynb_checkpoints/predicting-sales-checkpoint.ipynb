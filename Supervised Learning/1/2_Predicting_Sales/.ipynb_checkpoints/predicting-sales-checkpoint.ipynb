{
 "cells": [
  {
   "cell_type": "markdown",
   "metadata": {},
   "source": [
    "# Predicting Sales with Linear Regression\n",
    "\n",
    "## Background\n",
    "\n",
    "You and some friends created the ultimate child seat. It's a light and resistant seat that can be folded and stored in a backpack; it's the perfect solution for families traveling with children or people sharing their cars to take their kiddos to the school.\n",
    "\n",
    "You want to spread the word about your invention, so you decided to run a digital marketing campaign using online ads. After running the campaign for a few days displaying different ads per day, you want to create a model to predict the expected sales depending on the number of ads you decide to show on the internet.\n",
    "\n",
    "You realized that this is an excellent opportunity to use your linear regression skills to create a prediction model.\n",
    "\n",
    "## Instructions\n",
    "\n",
    "Follow the following steps to create a linear regression model to predict sales based on the historical data provided.\n",
    "\n",
    "1. Load and visualize the sales data.\n",
    "\n",
    "2. Prepare the data to fit the linear regression model.\n",
    "\n",
    "3. Build the linear regression model using the `LinearRegression` module of Scikit-learn.\n",
    "\n",
    "4. Plot the best fit line for the sales prediction model.\n",
    "\n",
    "5. Use the linear regression model to predict the sales with 100 ads manually.\n",
    "\n",
    "6. Make predictions using the `predict` function of the `LinearRegression` module.\n",
    "\n",
    "7. Use the original data (the `X` and `y` sets) to assess the linear regression model using the score, r2, mse, rmse, and standard deviation metrics."
   ]
  },
  {
   "cell_type": "code",
   "execution_count": 86,
   "metadata": {},
   "outputs": [],
   "source": [
    "# Import required libraries\n",
    "import numpy as np\n",
    "import pandas as pd\n",
    "import hvplot.pandas\n",
    "from pathlib import Path\n",
    "from sklearn.linear_model import LinearRegression"
   ]
  },
  {
   "cell_type": "markdown",
   "metadata": {},
   "source": [
    "## Load and Visualize the Sales Data"
   ]
  },
  {
   "cell_type": "code",
   "execution_count": 87,
   "metadata": {},
   "outputs": [
    {
     "data": {
      "text/html": [
       "<div>\n",
       "<style scoped>\n",
       "    .dataframe tbody tr th:only-of-type {\n",
       "        vertical-align: middle;\n",
       "    }\n",
       "\n",
       "    .dataframe tbody tr th {\n",
       "        vertical-align: top;\n",
       "    }\n",
       "\n",
       "    .dataframe thead th {\n",
       "        text-align: right;\n",
       "    }\n",
       "</style>\n",
       "<table border=\"1\" class=\"dataframe\">\n",
       "  <thead>\n",
       "    <tr style=\"text-align: right;\">\n",
       "      <th></th>\n",
       "      <th>ads</th>\n",
       "      <th>sales</th>\n",
       "    </tr>\n",
       "  </thead>\n",
       "  <tbody>\n",
       "    <tr>\n",
       "      <th>0</th>\n",
       "      <td>21</td>\n",
       "      <td>8350</td>\n",
       "    </tr>\n",
       "    <tr>\n",
       "      <th>1</th>\n",
       "      <td>180</td>\n",
       "      <td>22820</td>\n",
       "    </tr>\n",
       "    <tr>\n",
       "      <th>2</th>\n",
       "      <td>50</td>\n",
       "      <td>12950</td>\n",
       "    </tr>\n",
       "    <tr>\n",
       "      <th>3</th>\n",
       "      <td>195</td>\n",
       "      <td>21105</td>\n",
       "    </tr>\n",
       "    <tr>\n",
       "      <th>4</th>\n",
       "      <td>96</td>\n",
       "      <td>15008</td>\n",
       "    </tr>\n",
       "  </tbody>\n",
       "</table>\n",
       "</div>"
      ],
      "text/plain": [
       "   ads  sales\n",
       "0   21   8350\n",
       "1  180  22820\n",
       "2   50  12950\n",
       "3  195  21105\n",
       "4   96  15008"
      ]
     },
     "execution_count": 87,
     "metadata": {},
     "output_type": "execute_result"
    }
   ],
   "source": [
    "# Read the sales data\n",
    "file_path = Path('sales.csv')\n",
    "df_sales = pd.read_csv(file_path)\n",
    "\n",
    "# Display sample data\n",
    "df_sales.head()"
   ]
  },
  {
   "cell_type": "code",
   "execution_count": 110,
   "metadata": {},
   "outputs": [
    {
     "data": {},
     "metadata": {},
     "output_type": "display_data"
    },
    {
     "data": {
      "application/vnd.holoviews_exec.v0+json": "",
      "text/html": [
       "<div id='2639'>\n",
       "  <div class=\"bk-root\" id=\"07d68760-14f5-4941-91a1-09c389de2360\" data-root-id=\"2639\"></div>\n",
       "</div>\n",
       "<script type=\"application/javascript\">(function(root) {\n",
       "  function embed_document(root) {\n",
       "    var docs_json = {\"41c63804-993c-465b-b414-a94e2ebd8cee\":{\"defs\":[{\"extends\":null,\"module\":null,\"name\":\"ReactiveHTML1\",\"overrides\":[],\"properties\":[]},{\"extends\":null,\"module\":null,\"name\":\"FlexBox1\",\"overrides\":[],\"properties\":[{\"default\":\"flex-start\",\"kind\":null,\"name\":\"align_content\"},{\"default\":\"flex-start\",\"kind\":null,\"name\":\"align_items\"},{\"default\":\"row\",\"kind\":null,\"name\":\"flex_direction\"},{\"default\":\"wrap\",\"kind\":null,\"name\":\"flex_wrap\"},{\"default\":\"flex-start\",\"kind\":null,\"name\":\"justify_content\"}]},{\"extends\":null,\"module\":null,\"name\":\"GridStack1\",\"overrides\":[],\"properties\":[{\"default\":\"warn\",\"kind\":null,\"name\":\"mode\"},{\"default\":null,\"kind\":null,\"name\":\"ncols\"},{\"default\":null,\"kind\":null,\"name\":\"nrows\"},{\"default\":true,\"kind\":null,\"name\":\"allow_resize\"},{\"default\":true,\"kind\":null,\"name\":\"allow_drag\"},{\"default\":[],\"kind\":null,\"name\":\"state\"}]},{\"extends\":null,\"module\":null,\"name\":\"click1\",\"overrides\":[],\"properties\":[{\"default\":\"\",\"kind\":null,\"name\":\"terminal_output\"},{\"default\":\"\",\"kind\":null,\"name\":\"debug_name\"},{\"default\":0,\"kind\":null,\"name\":\"clears\"}]},{\"extends\":null,\"module\":null,\"name\":\"NotificationAreaBase1\",\"overrides\":[],\"properties\":[{\"default\":\"bottom-right\",\"kind\":null,\"name\":\"position\"},{\"default\":0,\"kind\":null,\"name\":\"_clear\"}]},{\"extends\":null,\"module\":null,\"name\":\"NotificationArea1\",\"overrides\":[],\"properties\":[{\"default\":[],\"kind\":null,\"name\":\"notifications\"},{\"default\":\"bottom-right\",\"kind\":null,\"name\":\"position\"},{\"default\":0,\"kind\":null,\"name\":\"_clear\"},{\"default\":[{\"background\":\"#ffc107\",\"icon\":{\"className\":\"fas fa-exclamation-triangle\",\"color\":\"white\",\"tagName\":\"i\"},\"type\":\"warning\"},{\"background\":\"#007bff\",\"icon\":{\"className\":\"fas fa-info-circle\",\"color\":\"white\",\"tagName\":\"i\"},\"type\":\"info\"}],\"kind\":null,\"name\":\"types\"}]},{\"extends\":null,\"module\":null,\"name\":\"Notification\",\"overrides\":[],\"properties\":[{\"default\":null,\"kind\":null,\"name\":\"background\"},{\"default\":3000,\"kind\":null,\"name\":\"duration\"},{\"default\":null,\"kind\":null,\"name\":\"icon\"},{\"default\":\"\",\"kind\":null,\"name\":\"message\"},{\"default\":null,\"kind\":null,\"name\":\"notification_type\"},{\"default\":false,\"kind\":null,\"name\":\"_destroyed\"}]},{\"extends\":null,\"module\":null,\"name\":\"TemplateActions1\",\"overrides\":[],\"properties\":[{\"default\":0,\"kind\":null,\"name\":\"open_modal\"},{\"default\":0,\"kind\":null,\"name\":\"close_modal\"}]},{\"extends\":null,\"module\":null,\"name\":\"MaterialTemplateActions1\",\"overrides\":[],\"properties\":[{\"default\":0,\"kind\":null,\"name\":\"open_modal\"},{\"default\":0,\"kind\":null,\"name\":\"close_modal\"}]}],\"roots\":{\"references\":[{\"attributes\":{},\"id\":\"2649\",\"type\":\"LinearScale\"},{\"attributes\":{\"margin\":[5,5,5,5],\"name\":\"HSpacer02171\",\"sizing_mode\":\"stretch_width\"},\"id\":\"2640\",\"type\":\"Spacer\"},{\"attributes\":{\"children\":[{\"id\":\"2640\"},{\"id\":\"2644\"},{\"id\":\"2699\"}],\"margin\":[0,0,0,0],\"name\":\"Row02167\",\"tags\":[\"embedded\"]},\"id\":\"2639\",\"type\":\"Row\"},{\"attributes\":{},\"id\":\"2654\",\"type\":\"BasicTicker\"},{\"attributes\":{\"axis\":{\"id\":\"2653\"},\"coordinates\":null,\"grid_line_color\":null,\"group\":null,\"ticker\":null},\"id\":\"2656\",\"type\":\"Grid\"},{\"attributes\":{},\"id\":\"2696\",\"type\":\"UnionRenderers\"},{\"attributes\":{\"bottom_units\":\"screen\",\"coordinates\":null,\"fill_alpha\":0.5,\"fill_color\":\"lightgrey\",\"group\":null,\"left_units\":\"screen\",\"level\":\"overlay\",\"line_alpha\":1.0,\"line_color\":\"black\",\"line_dash\":[4,4],\"line_width\":2,\"right_units\":\"screen\",\"syncable\":false,\"top_units\":\"screen\"},\"id\":\"2666\",\"type\":\"BoxAnnotation\"},{\"attributes\":{},\"id\":\"2651\",\"type\":\"LinearScale\"},{\"attributes\":{\"tools\":[{\"id\":\"2643\"},{\"id\":\"2661\"},{\"id\":\"2662\"},{\"id\":\"2663\"},{\"id\":\"2664\"},{\"id\":\"2665\"}]},\"id\":\"2667\",\"type\":\"Toolbar\"},{\"attributes\":{\"fill_color\":{\"value\":\"#30a2da\"},\"hatch_color\":{\"value\":\"#30a2da\"},\"line_color\":{\"value\":\"#30a2da\"},\"size\":{\"value\":5.477225575051661},\"x\":{\"field\":\"ads\"},\"y\":{\"field\":\"sales\"}},\"id\":\"2677\",\"type\":\"Scatter\"},{\"attributes\":{\"axis_label\":\"sales\",\"coordinates\":null,\"formatter\":{\"id\":\"2687\"},\"group\":null,\"major_label_policy\":{\"id\":\"2688\"},\"ticker\":{\"id\":\"2658\"}},\"id\":\"2657\",\"type\":\"LinearAxis\"},{\"attributes\":{},\"id\":\"2688\",\"type\":\"AllLabels\"},{\"attributes\":{\"axis_label\":\"ads\",\"coordinates\":null,\"formatter\":{\"id\":\"2684\"},\"group\":null,\"major_label_policy\":{\"id\":\"2685\"},\"ticker\":{\"id\":\"2654\"}},\"id\":\"2653\",\"type\":\"LinearAxis\"},{\"attributes\":{\"angle\":{\"value\":0.0},\"fill_alpha\":{\"value\":1.0},\"fill_color\":{\"value\":\"#30a2da\"},\"hatch_alpha\":{\"value\":1.0},\"hatch_color\":{\"value\":\"#30a2da\"},\"hatch_scale\":{\"value\":12.0},\"hatch_weight\":{\"value\":1.0},\"line_alpha\":{\"value\":1.0},\"line_cap\":{\"value\":\"butt\"},\"line_color\":{\"value\":\"#30a2da\"},\"line_dash\":{\"value\":[]},\"line_dash_offset\":{\"value\":0},\"line_join\":{\"value\":\"bevel\"},\"line_width\":{\"value\":1},\"marker\":{\"value\":\"circle\"},\"size\":{\"value\":5.477225575051661},\"x\":{\"field\":\"ads\"},\"y\":{\"field\":\"sales\"}},\"id\":\"2682\",\"type\":\"Scatter\"},{\"attributes\":{\"axis\":{\"id\":\"2657\"},\"coordinates\":null,\"dimension\":1,\"grid_line_color\":null,\"group\":null,\"ticker\":null},\"id\":\"2660\",\"type\":\"Grid\"},{\"attributes\":{},\"id\":\"2685\",\"type\":\"AllLabels\"},{\"attributes\":{\"source\":{\"id\":\"2674\"}},\"id\":\"2681\",\"type\":\"CDSView\"},{\"attributes\":{},\"id\":\"2687\",\"type\":\"BasicTickFormatter\"},{\"attributes\":{\"end\":27820.0,\"reset_end\":27820.0,\"reset_start\":6580.0,\"start\":6580.0,\"tags\":[[[\"sales\",\"sales\",null]]]},\"id\":\"2642\",\"type\":\"Range1d\"},{\"attributes\":{},\"id\":\"2675\",\"type\":\"Selection\"},{\"attributes\":{\"below\":[{\"id\":\"2653\"}],\"center\":[{\"id\":\"2656\"},{\"id\":\"2660\"}],\"height\":300,\"left\":[{\"id\":\"2657\"}],\"margin\":[5,5,5,5],\"min_border_bottom\":10,\"min_border_left\":10,\"min_border_right\":10,\"min_border_top\":10,\"renderers\":[{\"id\":\"2680\"}],\"sizing_mode\":\"fixed\",\"title\":{\"id\":\"2645\"},\"toolbar\":{\"id\":\"2667\"},\"width\":700,\"x_range\":{\"id\":\"2641\"},\"x_scale\":{\"id\":\"2649\"},\"y_range\":{\"id\":\"2642\"},\"y_scale\":{\"id\":\"2651\"}},\"id\":\"2644\",\"subtype\":\"Figure\",\"type\":\"Plot\"},{\"attributes\":{\"callback\":null,\"renderers\":[{\"id\":\"2680\"}],\"tags\":[\"hv_created\"],\"tooltips\":[[\"ads\",\"@{ads}\"],[\"sales\",\"@{sales}\"]]},\"id\":\"2643\",\"type\":\"HoverTool\"},{\"attributes\":{\"coordinates\":null,\"data_source\":{\"id\":\"2674\"},\"glyph\":{\"id\":\"2677\"},\"group\":null,\"hover_glyph\":null,\"muted_glyph\":{\"id\":\"2679\"},\"nonselection_glyph\":{\"id\":\"2678\"},\"selection_glyph\":{\"id\":\"2682\"},\"view\":{\"id\":\"2681\"}},\"id\":\"2680\",\"type\":\"GlyphRenderer\"},{\"attributes\":{\"data\":{\"ads\":[21,180,50,195,96,44,171,135,120,75,106,198],\"sales\":[8350,22820,12950,21105,15008,12390,20695,21121,17000,13150,15695,26050]},\"selected\":{\"id\":\"2675\"},\"selection_policy\":{\"id\":\"2696\"}},\"id\":\"2674\",\"type\":\"ColumnDataSource\"},{\"attributes\":{\"margin\":[5,5,5,5],\"name\":\"HSpacer02172\",\"sizing_mode\":\"stretch_width\"},\"id\":\"2699\",\"type\":\"Spacer\"},{\"attributes\":{},\"id\":\"2661\",\"type\":\"SaveTool\"},{\"attributes\":{},\"id\":\"2662\",\"type\":\"PanTool\"},{\"attributes\":{},\"id\":\"2663\",\"type\":\"WheelZoomTool\"},{\"attributes\":{},\"id\":\"2658\",\"type\":\"BasicTicker\"},{\"attributes\":{\"fill_alpha\":{\"value\":0.1},\"fill_color\":{\"value\":\"#30a2da\"},\"hatch_alpha\":{\"value\":0.1},\"hatch_color\":{\"value\":\"#30a2da\"},\"line_alpha\":{\"value\":0.1},\"line_color\":{\"value\":\"#30a2da\"},\"size\":{\"value\":5.477225575051661},\"x\":{\"field\":\"ads\"},\"y\":{\"field\":\"sales\"}},\"id\":\"2678\",\"type\":\"Scatter\"},{\"attributes\":{\"overlay\":{\"id\":\"2666\"}},\"id\":\"2664\",\"type\":\"BoxZoomTool\"},{\"attributes\":{},\"id\":\"2684\",\"type\":\"BasicTickFormatter\"},{\"attributes\":{\"fill_alpha\":{\"value\":0.2},\"fill_color\":{\"value\":\"#30a2da\"},\"hatch_alpha\":{\"value\":0.2},\"hatch_color\":{\"value\":\"#30a2da\"},\"line_alpha\":{\"value\":0.2},\"line_color\":{\"value\":\"#30a2da\"},\"size\":{\"value\":5.477225575051661},\"x\":{\"field\":\"ads\"},\"y\":{\"field\":\"sales\"}},\"id\":\"2679\",\"type\":\"Scatter\"},{\"attributes\":{},\"id\":\"2665\",\"type\":\"ResetTool\"},{\"attributes\":{\"end\":205.5857142857143,\"reset_end\":205.5857142857143,\"reset_start\":13.414285714285715,\"start\":13.414285714285715,\"tags\":[[[\"ads\",\"ads\",null]]]},\"id\":\"2641\",\"type\":\"Range1d\"},{\"attributes\":{\"coordinates\":null,\"group\":null,\"text\":\"Sales Based on Number of Ads\",\"text_color\":\"black\",\"text_font_size\":\"12pt\"},\"id\":\"2645\",\"type\":\"Title\"}],\"root_ids\":[\"2639\"]},\"title\":\"Bokeh Application\",\"version\":\"2.4.3\"}};\n",
       "    var render_items = [{\"docid\":\"41c63804-993c-465b-b414-a94e2ebd8cee\",\"root_ids\":[\"2639\"],\"roots\":{\"2639\":\"07d68760-14f5-4941-91a1-09c389de2360\"}}];\n",
       "    root.Bokeh.embed.embed_items_notebook(docs_json, render_items);\n",
       "  }\n",
       "  if (root.Bokeh !== undefined && root.Bokeh.Panel !== undefined) {\n",
       "    embed_document(root);\n",
       "  } else {\n",
       "    var attempts = 0;\n",
       "    var timer = setInterval(function(root) {\n",
       "      if (root.Bokeh !== undefined && root.Bokeh.Panel !== undefined) {\n",
       "        clearInterval(timer);\n",
       "        embed_document(root);\n",
       "      } else if (document.readyState == \"complete\") {\n",
       "        attempts++;\n",
       "        if (attempts > 200) {\n",
       "          clearInterval(timer);\n",
       "          console.log(\"Bokeh: ERROR: Unable to run BokehJS code because BokehJS library is missing\");\n",
       "        }\n",
       "      }\n",
       "    }, 25, root)\n",
       "  }\n",
       "})(window);</script>"
      ],
      "text/plain": [
       ":Scatter   [ads]   (sales)"
      ]
     },
     "execution_count": 110,
     "metadata": {
      "application/vnd.holoviews_exec.v0+json": {
       "id": "2639"
      }
     },
     "output_type": "execute_result"
    }
   ],
   "source": [
    "# Create a scatter plot with the sales information\n",
    "sales_plot = df_sales.hvplot.scatter(\n",
    "    x='ads',\n",
    "    y='sales',\n",
    "    title='Sales Based on Number of Ads'\n",
    ")\n",
    "sales_plot"
   ]
  },
  {
   "cell_type": "markdown",
   "metadata": {},
   "source": [
    "## Prepare the Data to Fit the Linear Regression Model"
   ]
  },
  {
   "cell_type": "code",
   "execution_count": 111,
   "metadata": {},
   "outputs": [
    {
     "data": {
      "text/plain": [
       "array([[ 21],\n",
       "       [180],\n",
       "       [ 50],\n",
       "       [195],\n",
       "       [ 96]], dtype=int64)"
      ]
     },
     "execution_count": 111,
     "metadata": {},
     "output_type": "execute_result"
    }
   ],
   "source": [
    "# Create the X set by using the `reshape` function to format the ads data as a single column array.\n",
    "X = df_sales['ads'].values.reshape(-1, 1)\n",
    "\n",
    "# Display sample data\n",
    "X[:5]"
   ]
  },
  {
   "cell_type": "code",
   "execution_count": 112,
   "metadata": {},
   "outputs": [],
   "source": [
    "# Create an array for the dependent variable y with the sales data\n",
    "y = df_sales['sales']"
   ]
  },
  {
   "cell_type": "markdown",
   "metadata": {},
   "source": [
    "## Build the Linear Regression Model"
   ]
  },
  {
   "cell_type": "code",
   "execution_count": 113,
   "metadata": {},
   "outputs": [],
   "source": [
    "# Create a model with scikit-learn\n",
    "model = LinearRegression()"
   ]
  },
  {
   "cell_type": "code",
   "execution_count": 114,
   "metadata": {},
   "outputs": [
    {
     "data": {
      "text/plain": [
       "LinearRegression()"
      ]
     },
     "execution_count": 114,
     "metadata": {},
     "output_type": "execute_result"
    }
   ],
   "source": [
    "# Fit the data into the model\n",
    "model.fit(X, y)"
   ]
  },
  {
   "cell_type": "code",
   "execution_count": 115,
   "metadata": {},
   "outputs": [
    {
     "name": "stdout",
     "output_type": "stream",
     "text": [
      "Model's slope: [81.34898394]\n"
     ]
    }
   ],
   "source": [
    "# Display the slope\n",
    "print(f\"Model's slope: {model.coef_}\")"
   ]
  },
  {
   "cell_type": "code",
   "execution_count": 116,
   "metadata": {},
   "outputs": [
    {
     "name": "stdout",
     "output_type": "stream",
     "text": [
      "Model's y-intercept: 7764.796945240409\n"
     ]
    }
   ],
   "source": [
    "# Display the y-intercept\n",
    "print(f\"Model's y-intercept: {model.intercept_}\")"
   ]
  },
  {
   "cell_type": "code",
   "execution_count": 117,
   "metadata": {},
   "outputs": [
    {
     "name": "stdout",
     "output_type": "stream",
     "text": [
      "Model's formula: y = 7764.796945240409 + 81.34898393753781X\n"
     ]
    }
   ],
   "source": [
    "# Display the model's best fit line formula\n",
    "print(f\"Model's formula: y = {model.intercept_} + {model.coef_[0]}X\")"
   ]
  },
  {
   "cell_type": "markdown",
   "metadata": {},
   "source": [
    "## Plot the Best Fit Line for the Sales Prediction Model"
   ]
  },
  {
   "cell_type": "code",
   "execution_count": 119,
   "metadata": {},
   "outputs": [],
   "source": [
    "# Make predictions using the X set\n",
    "predicted_y_values = model.predict(X)"
   ]
  },
  {
   "cell_type": "code",
   "execution_count": 120,
   "metadata": {},
   "outputs": [
    {
     "data": {
      "text/html": [
       "<div>\n",
       "<style scoped>\n",
       "    .dataframe tbody tr th:only-of-type {\n",
       "        vertical-align: middle;\n",
       "    }\n",
       "\n",
       "    .dataframe tbody tr th {\n",
       "        vertical-align: top;\n",
       "    }\n",
       "\n",
       "    .dataframe thead th {\n",
       "        text-align: right;\n",
       "    }\n",
       "</style>\n",
       "<table border=\"1\" class=\"dataframe\">\n",
       "  <thead>\n",
       "    <tr style=\"text-align: right;\">\n",
       "      <th></th>\n",
       "      <th>ads</th>\n",
       "      <th>sales</th>\n",
       "      <th>sales_predicted</th>\n",
       "    </tr>\n",
       "  </thead>\n",
       "  <tbody>\n",
       "    <tr>\n",
       "      <th>0</th>\n",
       "      <td>21</td>\n",
       "      <td>8350</td>\n",
       "      <td>9473.125608</td>\n",
       "    </tr>\n",
       "    <tr>\n",
       "      <th>1</th>\n",
       "      <td>180</td>\n",
       "      <td>22820</td>\n",
       "      <td>22407.614054</td>\n",
       "    </tr>\n",
       "    <tr>\n",
       "      <th>2</th>\n",
       "      <td>50</td>\n",
       "      <td>12950</td>\n",
       "      <td>11832.246142</td>\n",
       "    </tr>\n",
       "    <tr>\n",
       "      <th>3</th>\n",
       "      <td>195</td>\n",
       "      <td>21105</td>\n",
       "      <td>23627.848813</td>\n",
       "    </tr>\n",
       "    <tr>\n",
       "      <th>4</th>\n",
       "      <td>96</td>\n",
       "      <td>15008</td>\n",
       "      <td>15574.299403</td>\n",
       "    </tr>\n",
       "  </tbody>\n",
       "</table>\n",
       "</div>"
      ],
      "text/plain": [
       "   ads  sales  sales_predicted\n",
       "0   21   8350      9473.125608\n",
       "1  180  22820     22407.614054\n",
       "2   50  12950     11832.246142\n",
       "3  195  21105     23627.848813\n",
       "4   96  15008     15574.299403"
      ]
     },
     "execution_count": 120,
     "metadata": {},
     "output_type": "execute_result"
    }
   ],
   "source": [
    "# Create a copy of the original data\n",
    "df_sales_predicted = df_sales.copy()\n",
    "\n",
    "# Add a column with the predicted sales values\n",
    "df_sales_predicted['sales_predicted'] = predicted_y_values\n",
    "\n",
    "# Display sample data\n",
    "df_sales_predicted.head()"
   ]
  },
  {
   "cell_type": "code",
   "execution_count": 121,
   "metadata": {},
   "outputs": [
    {
     "data": {},
     "metadata": {},
     "output_type": "display_data"
    },
    {
     "data": {
      "application/vnd.holoviews_exec.v0+json": "",
      "text/html": [
       "<div id='2751'>\n",
       "  <div class=\"bk-root\" id=\"e6bcc08f-b2b7-4811-a65f-22d493b6d3c4\" data-root-id=\"2751\"></div>\n",
       "</div>\n",
       "<script type=\"application/javascript\">(function(root) {\n",
       "  function embed_document(root) {\n",
       "    var docs_json = {\"a8ecaf26-cb28-48d6-b3a7-77d1bf3173da\":{\"defs\":[{\"extends\":null,\"module\":null,\"name\":\"ReactiveHTML1\",\"overrides\":[],\"properties\":[]},{\"extends\":null,\"module\":null,\"name\":\"FlexBox1\",\"overrides\":[],\"properties\":[{\"default\":\"flex-start\",\"kind\":null,\"name\":\"align_content\"},{\"default\":\"flex-start\",\"kind\":null,\"name\":\"align_items\"},{\"default\":\"row\",\"kind\":null,\"name\":\"flex_direction\"},{\"default\":\"wrap\",\"kind\":null,\"name\":\"flex_wrap\"},{\"default\":\"flex-start\",\"kind\":null,\"name\":\"justify_content\"}]},{\"extends\":null,\"module\":null,\"name\":\"GridStack1\",\"overrides\":[],\"properties\":[{\"default\":\"warn\",\"kind\":null,\"name\":\"mode\"},{\"default\":null,\"kind\":null,\"name\":\"ncols\"},{\"default\":null,\"kind\":null,\"name\":\"nrows\"},{\"default\":true,\"kind\":null,\"name\":\"allow_resize\"},{\"default\":true,\"kind\":null,\"name\":\"allow_drag\"},{\"default\":[],\"kind\":null,\"name\":\"state\"}]},{\"extends\":null,\"module\":null,\"name\":\"click1\",\"overrides\":[],\"properties\":[{\"default\":\"\",\"kind\":null,\"name\":\"terminal_output\"},{\"default\":\"\",\"kind\":null,\"name\":\"debug_name\"},{\"default\":0,\"kind\":null,\"name\":\"clears\"}]},{\"extends\":null,\"module\":null,\"name\":\"NotificationAreaBase1\",\"overrides\":[],\"properties\":[{\"default\":\"bottom-right\",\"kind\":null,\"name\":\"position\"},{\"default\":0,\"kind\":null,\"name\":\"_clear\"}]},{\"extends\":null,\"module\":null,\"name\":\"NotificationArea1\",\"overrides\":[],\"properties\":[{\"default\":[],\"kind\":null,\"name\":\"notifications\"},{\"default\":\"bottom-right\",\"kind\":null,\"name\":\"position\"},{\"default\":0,\"kind\":null,\"name\":\"_clear\"},{\"default\":[{\"background\":\"#ffc107\",\"icon\":{\"className\":\"fas fa-exclamation-triangle\",\"color\":\"white\",\"tagName\":\"i\"},\"type\":\"warning\"},{\"background\":\"#007bff\",\"icon\":{\"className\":\"fas fa-info-circle\",\"color\":\"white\",\"tagName\":\"i\"},\"type\":\"info\"}],\"kind\":null,\"name\":\"types\"}]},{\"extends\":null,\"module\":null,\"name\":\"Notification\",\"overrides\":[],\"properties\":[{\"default\":null,\"kind\":null,\"name\":\"background\"},{\"default\":3000,\"kind\":null,\"name\":\"duration\"},{\"default\":null,\"kind\":null,\"name\":\"icon\"},{\"default\":\"\",\"kind\":null,\"name\":\"message\"},{\"default\":null,\"kind\":null,\"name\":\"notification_type\"},{\"default\":false,\"kind\":null,\"name\":\"_destroyed\"}]},{\"extends\":null,\"module\":null,\"name\":\"TemplateActions1\",\"overrides\":[],\"properties\":[{\"default\":0,\"kind\":null,\"name\":\"open_modal\"},{\"default\":0,\"kind\":null,\"name\":\"close_modal\"}]},{\"extends\":null,\"module\":null,\"name\":\"MaterialTemplateActions1\",\"overrides\":[],\"properties\":[{\"default\":0,\"kind\":null,\"name\":\"open_modal\"},{\"default\":0,\"kind\":null,\"name\":\"close_modal\"}]}],\"roots\":{\"references\":[{\"attributes\":{},\"id\":\"2777\",\"type\":\"ResetTool\"},{\"attributes\":{},\"id\":\"2797\",\"type\":\"AllLabels\"},{\"attributes\":{\"coordinates\":null,\"group\":null,\"text_color\":\"black\",\"text_font_size\":\"12pt\"},\"id\":\"2757\",\"type\":\"Title\"},{\"attributes\":{\"axis\":{\"id\":\"2765\"},\"coordinates\":null,\"grid_line_color\":null,\"group\":null,\"ticker\":null},\"id\":\"2768\",\"type\":\"Grid\"},{\"attributes\":{},\"id\":\"2761\",\"type\":\"LinearScale\"},{\"attributes\":{},\"id\":\"2766\",\"type\":\"BasicTicker\"},{\"attributes\":{\"margin\":[5,5,5,5],\"name\":\"HSpacer02277\",\"sizing_mode\":\"stretch_width\"},\"id\":\"2752\",\"type\":\"Spacer\"},{\"attributes\":{},\"id\":\"2770\",\"type\":\"BasicTicker\"},{\"attributes\":{},\"id\":\"2799\",\"type\":\"BasicTickFormatter\"},{\"attributes\":{\"source\":{\"id\":\"2786\"}},\"id\":\"2793\",\"type\":\"CDSView\"},{\"attributes\":{\"tools\":[{\"id\":\"2755\"},{\"id\":\"2773\"},{\"id\":\"2774\"},{\"id\":\"2775\"},{\"id\":\"2776\"},{\"id\":\"2777\"}]},\"id\":\"2779\",\"type\":\"Toolbar\"},{\"attributes\":{\"overlay\":{\"id\":\"2778\"}},\"id\":\"2776\",\"type\":\"BoxZoomTool\"},{\"attributes\":{},\"id\":\"2763\",\"type\":\"LinearScale\"},{\"attributes\":{\"data\":{\"ads\":[21,180,50,195,96,44,171,135,120,75,106,198],\"sales_predicted\":{\"__ndarray__\":\"86zrE5CAwkABI6lM5+HVQPy7lYEfHMdAlQP0UvYS10C7cthSJmvOQFIIjXwTKMZAQpziSN4q1UBFgcg5uk7SQLCgfTOrHdFA6v05QfwUy0DAefOC8gDQQIAwNlT5T9dA\",\"dtype\":\"float64\",\"order\":\"little\",\"shape\":[12]}},\"selected\":{\"id\":\"2787\"},\"selection_policy\":{\"id\":\"2808\"}},\"id\":\"2786\",\"type\":\"ColumnDataSource\"},{\"attributes\":{\"bottom_units\":\"screen\",\"coordinates\":null,\"fill_alpha\":0.5,\"fill_color\":\"lightgrey\",\"group\":null,\"left_units\":\"screen\",\"level\":\"overlay\",\"line_alpha\":1.0,\"line_color\":\"black\",\"line_dash\":[4,4],\"line_width\":2,\"right_units\":\"screen\",\"syncable\":false,\"top_units\":\"screen\"},\"id\":\"2778\",\"type\":\"BoxAnnotation\"},{\"attributes\":{\"axis_label\":\"ads\",\"coordinates\":null,\"formatter\":{\"id\":\"2796\"},\"group\":null,\"major_label_policy\":{\"id\":\"2797\"},\"ticker\":{\"id\":\"2766\"}},\"id\":\"2765\",\"type\":\"LinearAxis\"},{\"attributes\":{\"line_color\":\"blue\",\"line_width\":2,\"x\":{\"field\":\"ads\"},\"y\":{\"field\":\"sales_predicted\"}},\"id\":\"2794\",\"type\":\"Line\"},{\"attributes\":{\"axis\":{\"id\":\"2769\"},\"coordinates\":null,\"dimension\":1,\"grid_line_color\":null,\"group\":null,\"ticker\":null},\"id\":\"2772\",\"type\":\"Grid\"},{\"attributes\":{\"axis_label\":\"sales_predicted\",\"coordinates\":null,\"formatter\":{\"id\":\"2799\"},\"group\":null,\"major_label_policy\":{\"id\":\"2800\"},\"ticker\":{\"id\":\"2770\"}},\"id\":\"2769\",\"type\":\"LinearAxis\"},{\"attributes\":{\"line_alpha\":0.2,\"line_color\":\"blue\",\"line_width\":2,\"x\":{\"field\":\"ads\"},\"y\":{\"field\":\"sales_predicted\"}},\"id\":\"2791\",\"type\":\"Line\"},{\"attributes\":{},\"id\":\"2796\",\"type\":\"BasicTickFormatter\"},{\"attributes\":{},\"id\":\"2800\",\"type\":\"AllLabels\"},{\"attributes\":{},\"id\":\"2808\",\"type\":\"UnionRenderers\"},{\"attributes\":{},\"id\":\"2787\",\"type\":\"Selection\"},{\"attributes\":{\"children\":[{\"id\":\"2752\"},{\"id\":\"2756\"},{\"id\":\"2811\"}],\"margin\":[0,0,0,0],\"name\":\"Row02273\",\"tags\":[\"embedded\"]},\"id\":\"2751\",\"type\":\"Row\"},{\"attributes\":{\"end\":25311.772780567317,\"reset_end\":25311.772780567317,\"reset_start\":8033.248592234284,\"start\":8033.248592234284,\"tags\":[[[\"sales_predicted\",\"sales_predicted\",null]]]},\"id\":\"2754\",\"type\":\"Range1d\"},{\"attributes\":{\"line_alpha\":0.1,\"line_color\":\"blue\",\"line_width\":2,\"x\":{\"field\":\"ads\"},\"y\":{\"field\":\"sales_predicted\"}},\"id\":\"2790\",\"type\":\"Line\"},{\"attributes\":{\"callback\":null,\"renderers\":[{\"id\":\"2792\"}],\"tags\":[\"hv_created\"],\"tooltips\":[[\"ads\",\"@{ads}\"],[\"sales_predicted\",\"@{sales_predicted}\"]]},\"id\":\"2755\",\"type\":\"HoverTool\"},{\"attributes\":{\"below\":[{\"id\":\"2765\"}],\"center\":[{\"id\":\"2768\"},{\"id\":\"2772\"}],\"height\":300,\"left\":[{\"id\":\"2769\"}],\"margin\":[5,5,5,5],\"min_border_bottom\":10,\"min_border_left\":10,\"min_border_right\":10,\"min_border_top\":10,\"renderers\":[{\"id\":\"2792\"}],\"sizing_mode\":\"fixed\",\"title\":{\"id\":\"2757\"},\"toolbar\":{\"id\":\"2779\"},\"width\":700,\"x_range\":{\"id\":\"2753\"},\"x_scale\":{\"id\":\"2761\"},\"y_range\":{\"id\":\"2754\"},\"y_scale\":{\"id\":\"2763\"}},\"id\":\"2756\",\"subtype\":\"Figure\",\"type\":\"Plot\"},{\"attributes\":{\"line_color\":\"blue\",\"line_width\":2,\"x\":{\"field\":\"ads\"},\"y\":{\"field\":\"sales_predicted\"}},\"id\":\"2789\",\"type\":\"Line\"},{\"attributes\":{},\"id\":\"2773\",\"type\":\"SaveTool\"},{\"attributes\":{},\"id\":\"2774\",\"type\":\"PanTool\"},{\"attributes\":{\"margin\":[5,5,5,5],\"name\":\"HSpacer02278\",\"sizing_mode\":\"stretch_width\"},\"id\":\"2811\",\"type\":\"Spacer\"},{\"attributes\":{},\"id\":\"2775\",\"type\":\"WheelZoomTool\"},{\"attributes\":{\"coordinates\":null,\"data_source\":{\"id\":\"2786\"},\"glyph\":{\"id\":\"2789\"},\"group\":null,\"hover_glyph\":null,\"muted_glyph\":{\"id\":\"2791\"},\"nonselection_glyph\":{\"id\":\"2790\"},\"selection_glyph\":{\"id\":\"2794\"},\"view\":{\"id\":\"2793\"}},\"id\":\"2792\",\"type\":\"GlyphRenderer\"},{\"attributes\":{\"end\":198.0,\"reset_end\":198.0,\"reset_start\":21.0,\"start\":21.0,\"tags\":[[[\"ads\",\"ads\",null]]]},\"id\":\"2753\",\"type\":\"Range1d\"}],\"root_ids\":[\"2751\"]},\"title\":\"Bokeh Application\",\"version\":\"2.4.3\"}};\n",
       "    var render_items = [{\"docid\":\"a8ecaf26-cb28-48d6-b3a7-77d1bf3173da\",\"root_ids\":[\"2751\"],\"roots\":{\"2751\":\"e6bcc08f-b2b7-4811-a65f-22d493b6d3c4\"}}];\n",
       "    root.Bokeh.embed.embed_items_notebook(docs_json, render_items);\n",
       "  }\n",
       "  if (root.Bokeh !== undefined && root.Bokeh.Panel !== undefined) {\n",
       "    embed_document(root);\n",
       "  } else {\n",
       "    var attempts = 0;\n",
       "    var timer = setInterval(function(root) {\n",
       "      if (root.Bokeh !== undefined && root.Bokeh.Panel !== undefined) {\n",
       "        clearInterval(timer);\n",
       "        embed_document(root);\n",
       "      } else if (document.readyState == \"complete\") {\n",
       "        attempts++;\n",
       "        if (attempts > 200) {\n",
       "          clearInterval(timer);\n",
       "          console.log(\"Bokeh: ERROR: Unable to run BokehJS code because BokehJS library is missing\");\n",
       "        }\n",
       "      }\n",
       "    }, 25, root)\n",
       "  }\n",
       "})(window);</script>"
      ],
      "text/plain": [
       ":Curve   [ads]   (sales_predicted)"
      ]
     },
     "execution_count": 121,
     "metadata": {
      "application/vnd.holoviews_exec.v0+json": {
       "id": "2751"
      }
     },
     "output_type": "execute_result"
    }
   ],
   "source": [
    "# Create a line plot of the predicted salary values\n",
    "best_fit_line = df_sales_predicted.hvplot.line(\n",
    "    x = 'ads',\n",
    "    y = 'sales_predicted',\n",
    "    color = 'blue'\n",
    ")\n",
    "best_fit_line"
   ]
  },
  {
   "cell_type": "code",
   "execution_count": 122,
   "metadata": {},
   "outputs": [
    {
     "data": {},
     "metadata": {},
     "output_type": "display_data"
    },
    {
     "data": {
      "application/vnd.holoviews_exec.v0+json": "",
      "text/html": [
       "<div id='2863'>\n",
       "  <div class=\"bk-root\" id=\"c79ddc11-9dc3-403d-921a-5da77a3df592\" data-root-id=\"2863\"></div>\n",
       "</div>\n",
       "<script type=\"application/javascript\">(function(root) {\n",
       "  function embed_document(root) {\n",
       "    var docs_json = {\"cdc4307e-7953-43fd-912b-633ebbd65e92\":{\"defs\":[{\"extends\":null,\"module\":null,\"name\":\"ReactiveHTML1\",\"overrides\":[],\"properties\":[]},{\"extends\":null,\"module\":null,\"name\":\"FlexBox1\",\"overrides\":[],\"properties\":[{\"default\":\"flex-start\",\"kind\":null,\"name\":\"align_content\"},{\"default\":\"flex-start\",\"kind\":null,\"name\":\"align_items\"},{\"default\":\"row\",\"kind\":null,\"name\":\"flex_direction\"},{\"default\":\"wrap\",\"kind\":null,\"name\":\"flex_wrap\"},{\"default\":\"flex-start\",\"kind\":null,\"name\":\"justify_content\"}]},{\"extends\":null,\"module\":null,\"name\":\"GridStack1\",\"overrides\":[],\"properties\":[{\"default\":\"warn\",\"kind\":null,\"name\":\"mode\"},{\"default\":null,\"kind\":null,\"name\":\"ncols\"},{\"default\":null,\"kind\":null,\"name\":\"nrows\"},{\"default\":true,\"kind\":null,\"name\":\"allow_resize\"},{\"default\":true,\"kind\":null,\"name\":\"allow_drag\"},{\"default\":[],\"kind\":null,\"name\":\"state\"}]},{\"extends\":null,\"module\":null,\"name\":\"click1\",\"overrides\":[],\"properties\":[{\"default\":\"\",\"kind\":null,\"name\":\"terminal_output\"},{\"default\":\"\",\"kind\":null,\"name\":\"debug_name\"},{\"default\":0,\"kind\":null,\"name\":\"clears\"}]},{\"extends\":null,\"module\":null,\"name\":\"NotificationAreaBase1\",\"overrides\":[],\"properties\":[{\"default\":\"bottom-right\",\"kind\":null,\"name\":\"position\"},{\"default\":0,\"kind\":null,\"name\":\"_clear\"}]},{\"extends\":null,\"module\":null,\"name\":\"NotificationArea1\",\"overrides\":[],\"properties\":[{\"default\":[],\"kind\":null,\"name\":\"notifications\"},{\"default\":\"bottom-right\",\"kind\":null,\"name\":\"position\"},{\"default\":0,\"kind\":null,\"name\":\"_clear\"},{\"default\":[{\"background\":\"#ffc107\",\"icon\":{\"className\":\"fas fa-exclamation-triangle\",\"color\":\"white\",\"tagName\":\"i\"},\"type\":\"warning\"},{\"background\":\"#007bff\",\"icon\":{\"className\":\"fas fa-info-circle\",\"color\":\"white\",\"tagName\":\"i\"},\"type\":\"info\"}],\"kind\":null,\"name\":\"types\"}]},{\"extends\":null,\"module\":null,\"name\":\"Notification\",\"overrides\":[],\"properties\":[{\"default\":null,\"kind\":null,\"name\":\"background\"},{\"default\":3000,\"kind\":null,\"name\":\"duration\"},{\"default\":null,\"kind\":null,\"name\":\"icon\"},{\"default\":\"\",\"kind\":null,\"name\":\"message\"},{\"default\":null,\"kind\":null,\"name\":\"notification_type\"},{\"default\":false,\"kind\":null,\"name\":\"_destroyed\"}]},{\"extends\":null,\"module\":null,\"name\":\"TemplateActions1\",\"overrides\":[],\"properties\":[{\"default\":0,\"kind\":null,\"name\":\"open_modal\"},{\"default\":0,\"kind\":null,\"name\":\"close_modal\"}]},{\"extends\":null,\"module\":null,\"name\":\"MaterialTemplateActions1\",\"overrides\":[],\"properties\":[{\"default\":0,\"kind\":null,\"name\":\"open_modal\"},{\"default\":0,\"kind\":null,\"name\":\"close_modal\"}]}],\"roots\":{\"references\":[{\"attributes\":{},\"id\":\"2883\",\"type\":\"BasicTicker\"},{\"attributes\":{},\"id\":\"2931\",\"type\":\"UnionRenderers\"},{\"attributes\":{\"axis\":{\"id\":\"2878\"},\"coordinates\":null,\"grid_line_color\":null,\"group\":null,\"ticker\":null},\"id\":\"2881\",\"type\":\"Grid\"},{\"attributes\":{\"data\":{\"ads\":[21,180,50,195,96,44,171,135,120,75,106,198],\"sales_predicted\":{\"__ndarray__\":\"86zrE5CAwkABI6lM5+HVQPy7lYEfHMdAlQP0UvYS10C7cthSJmvOQFIIjXwTKMZAQpziSN4q1UBFgcg5uk7SQLCgfTOrHdFA6v05QfwUy0DAefOC8gDQQIAwNlT5T9dA\",\"dtype\":\"float64\",\"order\":\"little\",\"shape\":[12]}},\"selected\":{\"id\":\"2916\"},\"selection_policy\":{\"id\":\"2933\"}},\"id\":\"2915\",\"type\":\"ColumnDataSource\"},{\"attributes\":{},\"id\":\"2879\",\"type\":\"BasicTicker\"},{\"attributes\":{\"axis_label\":\"sales\",\"coordinates\":null,\"formatter\":{\"id\":\"2904\"},\"group\":null,\"major_label_policy\":{\"id\":\"2905\"},\"ticker\":{\"id\":\"2883\"}},\"id\":\"2882\",\"type\":\"LinearAxis\"},{\"attributes\":{\"source\":{\"id\":\"2915\"}},\"id\":\"2922\",\"type\":\"CDSView\"},{\"attributes\":{},\"id\":\"2916\",\"type\":\"Selection\"},{\"attributes\":{\"end\":27820.0,\"reset_end\":27820.0,\"reset_start\":6580.0,\"start\":6580.0,\"tags\":[[[\"sales\",\"sales\",null]]]},\"id\":\"2866\",\"type\":\"Range1d\"},{\"attributes\":{\"data\":{\"ads\":[21,180,50,195,96,44,171,135,120,75,106,198],\"sales\":[8350,22820,12950,21105,15008,12390,20695,21121,17000,13150,15695,26050]},\"selected\":{\"id\":\"2907\"},\"selection_policy\":{\"id\":\"2931\"}},\"id\":\"2906\",\"type\":\"ColumnDataSource\"},{\"attributes\":{\"axis\":{\"id\":\"2882\"},\"coordinates\":null,\"dimension\":1,\"grid_line_color\":null,\"group\":null,\"ticker\":null},\"id\":\"2885\",\"type\":\"Grid\"},{\"attributes\":{\"line_color\":\"blue\",\"line_width\":2,\"x\":{\"field\":\"ads\"},\"y\":{\"field\":\"sales_predicted\"}},\"id\":\"2923\",\"type\":\"Line\"},{\"attributes\":{\"line_alpha\":0.1,\"line_color\":\"blue\",\"line_width\":2,\"x\":{\"field\":\"ads\"},\"y\":{\"field\":\"sales_predicted\"}},\"id\":\"2919\",\"type\":\"Line\"},{\"attributes\":{\"fill_alpha\":{\"value\":0.2},\"fill_color\":{\"value\":\"#30a2da\"},\"hatch_alpha\":{\"value\":0.2},\"hatch_color\":{\"value\":\"#30a2da\"},\"line_alpha\":{\"value\":0.2},\"line_color\":{\"value\":\"#30a2da\"},\"size\":{\"value\":5.477225575051661},\"x\":{\"field\":\"ads\"},\"y\":{\"field\":\"sales\"}},\"id\":\"2911\",\"type\":\"Scatter\"},{\"attributes\":{\"line_color\":\"blue\",\"line_width\":2,\"x\":{\"field\":\"ads\"},\"y\":{\"field\":\"sales_predicted\"}},\"id\":\"2918\",\"type\":\"Line\"},{\"attributes\":{\"callback\":null,\"renderers\":[{\"id\":\"2912\"}],\"tags\":[\"hv_created\"],\"tooltips\":[[\"ads\",\"@{ads}\"],[\"sales\",\"@{sales}\"]]},\"id\":\"2867\",\"type\":\"HoverTool\"},{\"attributes\":{},\"id\":\"2905\",\"type\":\"AllLabels\"},{\"attributes\":{\"callback\":null,\"renderers\":[{\"id\":\"2921\"}],\"tags\":[\"hv_created\"],\"tooltips\":[[\"ads\",\"@{ads}\"],[\"sales_predicted\",\"@{sales_predicted}\"]]},\"id\":\"2868\",\"type\":\"HoverTool\"},{\"attributes\":{},\"id\":\"2901\",\"type\":\"BasicTickFormatter\"},{\"attributes\":{\"below\":[{\"id\":\"2878\"}],\"center\":[{\"id\":\"2881\"},{\"id\":\"2885\"}],\"height\":300,\"left\":[{\"id\":\"2882\"}],\"margin\":[5,5,5,5],\"min_border_bottom\":10,\"min_border_left\":10,\"min_border_right\":10,\"min_border_top\":10,\"renderers\":[{\"id\":\"2912\"},{\"id\":\"2921\"}],\"sizing_mode\":\"fixed\",\"title\":{\"id\":\"2870\"},\"toolbar\":{\"id\":\"2892\"},\"width\":700,\"x_range\":{\"id\":\"2865\"},\"x_scale\":{\"id\":\"2874\"},\"y_range\":{\"id\":\"2866\"},\"y_scale\":{\"id\":\"2876\"}},\"id\":\"2869\",\"subtype\":\"Figure\",\"type\":\"Plot\"},{\"attributes\":{\"margin\":[5,5,5,5],\"name\":\"HSpacer02305\",\"sizing_mode\":\"stretch_width\"},\"id\":\"2864\",\"type\":\"Spacer\"},{\"attributes\":{},\"id\":\"2876\",\"type\":\"LinearScale\"},{\"attributes\":{\"angle\":{\"value\":0.0},\"fill_alpha\":{\"value\":1.0},\"fill_color\":{\"value\":\"#30a2da\"},\"hatch_alpha\":{\"value\":1.0},\"hatch_color\":{\"value\":\"#30a2da\"},\"hatch_scale\":{\"value\":12.0},\"hatch_weight\":{\"value\":1.0},\"line_alpha\":{\"value\":1.0},\"line_cap\":{\"value\":\"butt\"},\"line_color\":{\"value\":\"#30a2da\"},\"line_dash\":{\"value\":[]},\"line_dash_offset\":{\"value\":0},\"line_join\":{\"value\":\"bevel\"},\"line_width\":{\"value\":1},\"marker\":{\"value\":\"circle\"},\"size\":{\"value\":5.477225575051661},\"x\":{\"field\":\"ads\"},\"y\":{\"field\":\"sales\"}},\"id\":\"2914\",\"type\":\"Scatter\"},{\"attributes\":{\"bottom_units\":\"screen\",\"coordinates\":null,\"fill_alpha\":0.5,\"fill_color\":\"lightgrey\",\"group\":null,\"left_units\":\"screen\",\"level\":\"overlay\",\"line_alpha\":1.0,\"line_color\":\"black\",\"line_dash\":[4,4],\"line_width\":2,\"right_units\":\"screen\",\"syncable\":false,\"top_units\":\"screen\"},\"id\":\"2891\",\"type\":\"BoxAnnotation\"},{\"attributes\":{\"fill_color\":{\"value\":\"#30a2da\"},\"hatch_color\":{\"value\":\"#30a2da\"},\"line_color\":{\"value\":\"#30a2da\"},\"size\":{\"value\":5.477225575051661},\"x\":{\"field\":\"ads\"},\"y\":{\"field\":\"sales\"}},\"id\":\"2909\",\"type\":\"Scatter\"},{\"attributes\":{},\"id\":\"2886\",\"type\":\"SaveTool\"},{\"attributes\":{\"children\":[{\"id\":\"2864\"},{\"id\":\"2869\"},{\"id\":\"2936\"}],\"margin\":[0,0,0,0],\"name\":\"Row02301\",\"tags\":[\"embedded\"]},\"id\":\"2863\",\"type\":\"Row\"},{\"attributes\":{\"coordinates\":null,\"data_source\":{\"id\":\"2906\"},\"glyph\":{\"id\":\"2909\"},\"group\":null,\"hover_glyph\":null,\"muted_glyph\":{\"id\":\"2911\"},\"nonselection_glyph\":{\"id\":\"2910\"},\"selection_glyph\":{\"id\":\"2914\"},\"view\":{\"id\":\"2913\"}},\"id\":\"2912\",\"type\":\"GlyphRenderer\"},{\"attributes\":{\"line_alpha\":0.2,\"line_color\":\"blue\",\"line_width\":2,\"x\":{\"field\":\"ads\"},\"y\":{\"field\":\"sales_predicted\"}},\"id\":\"2920\",\"type\":\"Line\"},{\"attributes\":{},\"id\":\"2887\",\"type\":\"PanTool\"},{\"attributes\":{\"overlay\":{\"id\":\"2891\"}},\"id\":\"2889\",\"type\":\"BoxZoomTool\"},{\"attributes\":{\"fill_alpha\":{\"value\":0.1},\"fill_color\":{\"value\":\"#30a2da\"},\"hatch_alpha\":{\"value\":0.1},\"hatch_color\":{\"value\":\"#30a2da\"},\"line_alpha\":{\"value\":0.1},\"line_color\":{\"value\":\"#30a2da\"},\"size\":{\"value\":5.477225575051661},\"x\":{\"field\":\"ads\"},\"y\":{\"field\":\"sales\"}},\"id\":\"2910\",\"type\":\"Scatter\"},{\"attributes\":{},\"id\":\"2888\",\"type\":\"WheelZoomTool\"},{\"attributes\":{\"coordinates\":null,\"data_source\":{\"id\":\"2915\"},\"glyph\":{\"id\":\"2918\"},\"group\":null,\"hover_glyph\":null,\"muted_glyph\":{\"id\":\"2920\"},\"nonselection_glyph\":{\"id\":\"2919\"},\"selection_glyph\":{\"id\":\"2923\"},\"view\":{\"id\":\"2922\"}},\"id\":\"2921\",\"type\":\"GlyphRenderer\"},{\"attributes\":{\"source\":{\"id\":\"2906\"}},\"id\":\"2913\",\"type\":\"CDSView\"},{\"attributes\":{},\"id\":\"2904\",\"type\":\"BasicTickFormatter\"},{\"attributes\":{\"end\":205.5857142857143,\"reset_end\":205.5857142857143,\"reset_start\":13.414285714285715,\"start\":13.414285714285715,\"tags\":[[[\"ads\",\"ads\",null]]]},\"id\":\"2865\",\"type\":\"Range1d\"},{\"attributes\":{\"axis_label\":\"ads\",\"coordinates\":null,\"formatter\":{\"id\":\"2901\"},\"group\":null,\"major_label_policy\":{\"id\":\"2902\"},\"ticker\":{\"id\":\"2879\"}},\"id\":\"2878\",\"type\":\"LinearAxis\"},{\"attributes\":{\"coordinates\":null,\"group\":null,\"text\":\"Sales Based on Number of Ads\",\"text_color\":\"black\",\"text_font_size\":\"12pt\"},\"id\":\"2870\",\"type\":\"Title\"},{\"attributes\":{\"margin\":[5,5,5,5],\"name\":\"HSpacer02306\",\"sizing_mode\":\"stretch_width\"},\"id\":\"2936\",\"type\":\"Spacer\"},{\"attributes\":{},\"id\":\"2890\",\"type\":\"ResetTool\"},{\"attributes\":{},\"id\":\"2874\",\"type\":\"LinearScale\"},{\"attributes\":{\"tools\":[{\"id\":\"2867\"},{\"id\":\"2868\"},{\"id\":\"2886\"},{\"id\":\"2887\"},{\"id\":\"2888\"},{\"id\":\"2889\"},{\"id\":\"2890\"}]},\"id\":\"2892\",\"type\":\"Toolbar\"},{\"attributes\":{},\"id\":\"2907\",\"type\":\"Selection\"},{\"attributes\":{},\"id\":\"2933\",\"type\":\"UnionRenderers\"},{\"attributes\":{},\"id\":\"2902\",\"type\":\"AllLabels\"}],\"root_ids\":[\"2863\"]},\"title\":\"Bokeh Application\",\"version\":\"2.4.3\"}};\n",
       "    var render_items = [{\"docid\":\"cdc4307e-7953-43fd-912b-633ebbd65e92\",\"root_ids\":[\"2863\"],\"roots\":{\"2863\":\"c79ddc11-9dc3-403d-921a-5da77a3df592\"}}];\n",
       "    root.Bokeh.embed.embed_items_notebook(docs_json, render_items);\n",
       "  }\n",
       "  if (root.Bokeh !== undefined && root.Bokeh.Panel !== undefined) {\n",
       "    embed_document(root);\n",
       "  } else {\n",
       "    var attempts = 0;\n",
       "    var timer = setInterval(function(root) {\n",
       "      if (root.Bokeh !== undefined && root.Bokeh.Panel !== undefined) {\n",
       "        clearInterval(timer);\n",
       "        embed_document(root);\n",
       "      } else if (document.readyState == \"complete\") {\n",
       "        attempts++;\n",
       "        if (attempts > 200) {\n",
       "          clearInterval(timer);\n",
       "          console.log(\"Bokeh: ERROR: Unable to run BokehJS code because BokehJS library is missing\");\n",
       "        }\n",
       "      }\n",
       "    }, 25, root)\n",
       "  }\n",
       "})(window);</script>"
      ],
      "text/plain": [
       ":Overlay\n",
       "   .Scatter.I :Scatter   [ads]   (sales)\n",
       "   .Curve.I   :Curve   [ads]   (sales_predicted)"
      ]
     },
     "execution_count": 122,
     "metadata": {
      "application/vnd.holoviews_exec.v0+json": {
       "id": "2863"
      }
     },
     "output_type": "execute_result"
    }
   ],
   "source": [
    "# Superpose the original data and the best fit line\n",
    "sales_plot * best_fit_line"
   ]
  },
  {
   "cell_type": "markdown",
   "metadata": {},
   "source": [
    "## Make Manual Predictions"
   ]
  },
  {
   "cell_type": "code",
   "execution_count": 123,
   "metadata": {},
   "outputs": [
    {
     "name": "stdout",
     "output_type": "stream",
     "text": [
      "Model's formula: y = 7764.796945240409 + 81.34898393753781 * 100\n",
      "Predicted sales with 100 ads: $15899.70\n"
     ]
    }
   ],
   "source": [
    "# Display the formula to predict the sales with 100 ads\n",
    "print(f\"Model's formula: y = {model.intercept_} + {model.coef_[0]} * 100\")\n",
    "\n",
    "# Predict the sales with 100 ads\n",
    "y_100 = model.intercept_ + model.coef_[0] * 100\n",
    "\n",
    "# Display the prediction\n",
    "print(f\"Predicted sales with 100 ads: ${y_100:.2f}\")"
   ]
  },
  {
   "cell_type": "markdown",
   "metadata": {},
   "source": [
    "## Make Predictions Using the `predict` Function"
   ]
  },
  {
   "cell_type": "code",
   "execution_count": 124,
   "metadata": {},
   "outputs": [
    {
     "data": {
      "text/plain": [
       "array([[100],\n",
       "       [150],\n",
       "       [200],\n",
       "       [250],\n",
       "       [300]])"
      ]
     },
     "execution_count": 124,
     "metadata": {},
     "output_type": "execute_result"
    }
   ],
   "source": [
    "# Create an array to predict sales for 100, 150, 200, 250, and 300 ads\n",
    "X_ads = np.array([100, 150, 200, 250, 300])\n",
    "\n",
    "# Format the array as a one-column array\n",
    "X_ads = X_ads.reshape(-1, 1)\n",
    "\n",
    "# Display sample data\n",
    "X_ads"
   ]
  },
  {
   "cell_type": "code",
   "execution_count": 125,
   "metadata": {},
   "outputs": [
    {
     "data": {
      "text/plain": [
       "array([15899.69533899, 19967.14453587, 24034.59373275, 28102.04292962,\n",
       "       32169.4921265 ])"
      ]
     },
     "execution_count": 125,
     "metadata": {},
     "output_type": "execute_result"
    }
   ],
   "source": [
    "# Predict sales for 100, 150, 200, 250, and 300 ads\n",
    "predicted_sales = model.predict(X_ads)\n",
    "predicted_sales"
   ]
  },
  {
   "cell_type": "code",
   "execution_count": 126,
   "metadata": {},
   "outputs": [
    {
     "data": {
      "text/html": [
       "<div>\n",
       "<style scoped>\n",
       "    .dataframe tbody tr th:only-of-type {\n",
       "        vertical-align: middle;\n",
       "    }\n",
       "\n",
       "    .dataframe tbody tr th {\n",
       "        vertical-align: top;\n",
       "    }\n",
       "\n",
       "    .dataframe thead th {\n",
       "        text-align: right;\n",
       "    }\n",
       "</style>\n",
       "<table border=\"1\" class=\"dataframe\">\n",
       "  <thead>\n",
       "    <tr style=\"text-align: right;\">\n",
       "      <th></th>\n",
       "      <th>ads</th>\n",
       "      <th>predicted_sales</th>\n",
       "    </tr>\n",
       "  </thead>\n",
       "  <tbody>\n",
       "    <tr>\n",
       "      <th>0</th>\n",
       "      <td>100</td>\n",
       "      <td>15899.695339</td>\n",
       "    </tr>\n",
       "    <tr>\n",
       "      <th>1</th>\n",
       "      <td>150</td>\n",
       "      <td>19967.144536</td>\n",
       "    </tr>\n",
       "    <tr>\n",
       "      <th>2</th>\n",
       "      <td>200</td>\n",
       "      <td>24034.593733</td>\n",
       "    </tr>\n",
       "    <tr>\n",
       "      <th>3</th>\n",
       "      <td>250</td>\n",
       "      <td>28102.042930</td>\n",
       "    </tr>\n",
       "    <tr>\n",
       "      <th>4</th>\n",
       "      <td>300</td>\n",
       "      <td>32169.492127</td>\n",
       "    </tr>\n",
       "  </tbody>\n",
       "</table>\n",
       "</div>"
      ],
      "text/plain": [
       "   ads  predicted_sales\n",
       "0  100     15899.695339\n",
       "1  150     19967.144536\n",
       "2  200     24034.593733\n",
       "3  250     28102.042930\n",
       "4  300     32169.492127"
      ]
     },
     "execution_count": 126,
     "metadata": {},
     "output_type": "execute_result"
    }
   ],
   "source": [
    "# Create a DataFrame for the predicted sales\n",
    "df_predicted_sales = pd.DataFrame({'ads':X_ads.reshape(1, -1)[0],'predicted_sales':predicted_sales})\n",
    "# Display data\n",
    "df_predicted_sales"
   ]
  },
  {
   "cell_type": "markdown",
   "metadata": {},
   "source": [
    "## Assess the Linear Regression Model"
   ]
  },
  {
   "cell_type": "code",
   "execution_count": 127,
   "metadata": {},
   "outputs": [],
   "source": [
    "# Import relevant metrics from scikit-learn: score, r2, mse, rmse, std\n",
    "from sklearn.metrics import mean_squared_error, r2_score"
   ]
  },
  {
   "cell_type": "code",
   "execution_count": 128,
   "metadata": {},
   "outputs": [
    {
     "name": "stdout",
     "output_type": "stream",
     "text": [
      "The score is 0.9219961974942597.\n",
      "The r2 is 0.9219961974942597.\n",
      "The mean squared error is 1922652.7853956893.\n",
      "The root mean squared error is 1386.5975571144243.\n",
      "The standard deviation is 4964.6946616416735.\n"
     ]
    }
   ],
   "source": [
    "# Compute the metrics for the linear regression model\n",
    "score = model.score(X, y, sample_weight = None)\n",
    "r2 = r2_score(y, predicted_y_values)\n",
    "mse = mean_squared_error(y, predicted_y_values)\n",
    "rmse = np.sqrt(mse)\n",
    "std = np.std(y)\n",
    "\n",
    "# Print releveant metrics.\n",
    "print(f\"The score is {score}.\")\n",
    "print(f\"The r2 is {r2}.\")\n",
    "print(f\"The mean squared error is {mse}.\")\n",
    "print(f\"The root mean squared error is {rmse}.\")\n",
    "print(f\"The standard deviation is {std}.\")"
   ]
  },
  {
   "cell_type": "code",
   "execution_count": null,
   "metadata": {},
   "outputs": [],
   "source": []
  }
 ],
 "metadata": {
  "kernelspec": {
   "display_name": "Python 3 (ipykernel)",
   "language": "python",
   "name": "python3"
  },
  "language_info": {
   "codemirror_mode": {
    "name": "ipython",
    "version": 3
   },
   "file_extension": ".py",
   "mimetype": "text/x-python",
   "name": "python",
   "nbconvert_exporter": "python",
   "pygments_lexer": "ipython3",
   "version": "3.7.13"
  }
 },
 "nbformat": 4,
 "nbformat_minor": 4
}
