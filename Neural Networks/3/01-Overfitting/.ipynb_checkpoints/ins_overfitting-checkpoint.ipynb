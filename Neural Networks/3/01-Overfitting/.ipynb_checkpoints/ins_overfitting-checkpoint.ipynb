{
 "cells": [
  {
   "cell_type": "markdown",
   "id": "4104bbc9",
   "metadata": {},
   "source": [
    "# Overfitting"
   ]
  },
  {
   "cell_type": "code",
   "execution_count": 1,
   "id": "038c919a",
   "metadata": {},
   "outputs": [],
   "source": [
    "import pandas as pd\n",
    "import numpy as np"
   ]
  },
  {
   "cell_type": "code",
   "execution_count": 2,
   "id": "292c574b",
   "metadata": {},
   "outputs": [],
   "source": [
    "from keras.models import Sequential\n",
    "from keras.layers import Dense, Activation"
   ]
  },
  {
   "cell_type": "code",
   "execution_count": 3,
   "id": "322048df",
   "metadata": {},
   "outputs": [],
   "source": [
    "df = pd.read_csv('meet_or_beat.csv')"
   ]
  },
  {
   "cell_type": "markdown",
   "id": "c8e6b8ab",
   "metadata": {},
   "source": [
    "### Preparing the Data"
   ]
  },
  {
   "cell_type": "code",
   "execution_count": 5,
   "id": "7f12a832",
   "metadata": {},
   "outputs": [
    {
     "data": {
      "text/plain": [
       "2    14676\n",
       "1    14555\n",
       "5    14268\n",
       "4    14251\n",
       "3    14218\n",
       "Name: earnings_quantile, dtype: int64"
      ]
     },
     "execution_count": 5,
     "metadata": {},
     "output_type": "execute_result"
    }
   ],
   "source": [
    "# Use qcut to group earnings results into 5 buckets\n",
    "df['earnings_quantile'] = (pd.qcut(df['EPS'], q=5, labels=False))+1\n",
    "#Verify buckets are approximately balanced\n",
    "# (Slight imbalance from ties is OK)\n",
    "df['earnings_quantile'].value_counts()"
   ]
  },
  {
   "cell_type": "code",
   "execution_count": 6,
   "id": "5ef6dad0",
   "metadata": {},
   "outputs": [],
   "source": [
    "# Save bucket ('quantile') value as the new 'y' variable\n",
    "y_quantile = df['earnings_quantile']"
   ]
  },
  {
   "cell_type": "code",
   "execution_count": 8,
   "id": "09248537",
   "metadata": {},
   "outputs": [
    {
     "data": {
      "text/plain": [
       "5"
      ]
     },
     "execution_count": 8,
     "metadata": {},
     "output_type": "execute_result"
    }
   ],
   "source": [
    "# Save the unique count of categories for later use\n",
    "number_of_classes = len(y_quantile.unique())"
   ]
  },
  {
   "cell_type": "code",
   "execution_count": 9,
   "id": "2aeb6ee9-4d39-4065-9c8a-2b24a06f1702",
   "metadata": {},
   "outputs": [
    {
     "data": {
      "text/plain": [
       "array([4, 2, 1, ..., 2, 1, 0], dtype=int64)"
      ]
     },
     "execution_count": 9,
     "metadata": {},
     "output_type": "execute_result"
    }
   ],
   "source": [
    "# Encode quantiles into labels\n",
    "from sklearn.preprocessing import LabelEncoder\n",
    "encoder = LabelEncoder()\n",
    "encoder.fit(y_quantile)\n",
    "encoded_y = encoder.transform(y_quantile)\n",
    "encoded_y"
   ]
  },
  {
   "cell_type": "code",
   "execution_count": 10,
   "id": "e1ee558c-9d60-4e9b-abf6-f75f6377c13e",
   "metadata": {},
   "outputs": [],
   "source": [
    "# Encode labels into categories\n",
    "from keras.utils.np_utils import to_categorical\n",
    "y_categorical = to_categorical(encoded_y, num_classes=number_of_classes)"
   ]
  },
  {
   "cell_type": "code",
   "execution_count": 11,
   "id": "f742d776-11e5-4edc-9acb-027e6b02103a",
   "metadata": {},
   "outputs": [
    {
     "data": {
      "text/html": [
       "<div>\n",
       "<style scoped>\n",
       "    .dataframe tbody tr th:only-of-type {\n",
       "        vertical-align: middle;\n",
       "    }\n",
       "\n",
       "    .dataframe tbody tr th {\n",
       "        vertical-align: top;\n",
       "    }\n",
       "\n",
       "    .dataframe thead th {\n",
       "        text-align: right;\n",
       "    }\n",
       "</style>\n",
       "<table border=\"1\" class=\"dataframe\">\n",
       "  <thead>\n",
       "    <tr style=\"text-align: right;\">\n",
       "      <th></th>\n",
       "      <th>forecasted_eps</th>\n",
       "      <th>before_total_returns</th>\n",
       "      <th>noOfEsts</th>\n",
       "    </tr>\n",
       "  </thead>\n",
       "  <tbody>\n",
       "    <tr>\n",
       "      <th>0</th>\n",
       "      <td>1.67</td>\n",
       "      <td>0.018585</td>\n",
       "      <td>11.0</td>\n",
       "    </tr>\n",
       "    <tr>\n",
       "      <th>1</th>\n",
       "      <td>0.19</td>\n",
       "      <td>-0.000510</td>\n",
       "      <td>6.0</td>\n",
       "    </tr>\n",
       "    <tr>\n",
       "      <th>2</th>\n",
       "      <td>0.14</td>\n",
       "      <td>-0.046104</td>\n",
       "      <td>4.0</td>\n",
       "    </tr>\n",
       "    <tr>\n",
       "      <th>3</th>\n",
       "      <td>0.51</td>\n",
       "      <td>-0.004899</td>\n",
       "      <td>8.0</td>\n",
       "    </tr>\n",
       "    <tr>\n",
       "      <th>4</th>\n",
       "      <td>-0.27</td>\n",
       "      <td>-0.025466</td>\n",
       "      <td>9.0</td>\n",
       "    </tr>\n",
       "  </tbody>\n",
       "</table>\n",
       "</div>"
      ],
      "text/plain": [
       "   forecasted_eps  before_total_returns  noOfEsts\n",
       "0            1.67              0.018585      11.0\n",
       "1            0.19             -0.000510       6.0\n",
       "2            0.14             -0.046104       4.0\n",
       "3            0.51             -0.004899       8.0\n",
       "4           -0.27             -0.025466       9.0"
      ]
     },
     "execution_count": 11,
     "metadata": {},
     "output_type": "execute_result"
    }
   ],
   "source": [
    "# Specify X (predictor) variables\n",
    "X = df[['forecasted_eps', 'before_total_returns', 'noOfEsts']]\n",
    "X.head()"
   ]
  },
  {
   "cell_type": "code",
   "execution_count": 12,
   "id": "d9a94b0b-588b-4099-b42c-41029747a456",
   "metadata": {},
   "outputs": [],
   "source": [
    "# Split into training and testing windows\n",
    "from sklearn.model_selection import train_test_split\n",
    "X_train, X_test, y_train, y_test = train_test_split(X, y_categorical, random_state=1)"
   ]
  },
  {
   "cell_type": "code",
   "execution_count": 13,
   "id": "895a6dc6-9e1c-4c7b-85aa-630204fbc28f",
   "metadata": {},
   "outputs": [
    {
     "data": {
      "text/plain": [
       "array([[0., 0., 0., 0., 1.],\n",
       "       [0., 0., 0., 1., 0.],\n",
       "       [0., 0., 0., 0., 1.],\n",
       "       ...,\n",
       "       [0., 0., 1., 0., 0.],\n",
       "       [0., 0., 1., 0., 0.],\n",
       "       [0., 0., 0., 1., 0.]], dtype=float32)"
      ]
     },
     "execution_count": 13,
     "metadata": {},
     "output_type": "execute_result"
    }
   ],
   "source": [
    "# Preview the 'y_train' values\n",
    "y_train"
   ]
  },
  {
   "cell_type": "code",
   "execution_count": 15,
   "id": "f7a6da1c-7f4f-4082-84a9-4f5820b08a3e",
   "metadata": {},
   "outputs": [
    {
     "data": {
      "text/plain": [
       "3"
      ]
     },
     "execution_count": 15,
     "metadata": {},
     "output_type": "execute_result"
    }
   ],
   "source": [
    "# Save the count of unique predictor variables for use in model\n",
    "number_of_predictors = len(X.columns)\n",
    "len(X.columns)"
   ]
  },
  {
   "cell_type": "markdown",
   "id": "a1c124ca",
   "metadata": {},
   "source": [
    "### Building the Model"
   ]
  },
  {
   "cell_type": "code",
   "execution_count": 16,
   "id": "7650611a-6086-447c-8c2e-be3b86a45b60",
   "metadata": {},
   "outputs": [],
   "source": [
    "# Import the 'Dropout' \n",
    "from keras.layers import Dropout\n",
    "# Import regularizers\n",
    "from keras.regularizers import l1, l2"
   ]
  },
  {
   "cell_type": "code",
   "execution_count": 18,
   "id": "530b8154",
   "metadata": {},
   "outputs": [],
   "source": [
    "# Build the Model\n",
    "model = Sequential()\n",
    "# Add a dense layer (as before)\n",
    "model.add(Dense(10, input_dim=number_of_predictors, activation='relu'))\n",
    "# Now add a dropout layer\n",
    "model.add(Dropout(.2, input_shape=(10, )))\n",
    "# Add regularization to another dense layer\n",
    "model.add(Dense(5, activation='relu', kernel_regularizer=l2(0.01), bias_regularizer=l2(0.01)))\n"
   ]
  },
  {
   "cell_type": "code",
   "execution_count": 19,
   "id": "8c9e5e76",
   "metadata": {},
   "outputs": [],
   "source": [
    "# Add the final output layer\n",
    "# (Set the # of possible outputs equal to the number of classes)\n",
    "model.add(Dense(number_of_classes, activation='softmax'))"
   ]
  },
  {
   "cell_type": "code",
   "execution_count": 20,
   "id": "38dfa571",
   "metadata": {},
   "outputs": [],
   "source": [
    "# Compile the model\n",
    "model.compile(loss='categorical_crossentropy', optimizer='adam', metrics=['categorical_accuracy'])"
   ]
  },
  {
   "cell_type": "code",
   "execution_count": 21,
   "id": "0e479ba2-fa10-4abc-9727-508600dfc4e8",
   "metadata": {},
   "outputs": [
    {
     "name": "stdout",
     "output_type": "stream",
     "text": [
      "Model: \"sequential_1\"\n",
      "_________________________________________________________________\n",
      " Layer (type)                Output Shape              Param #   \n",
      "=================================================================\n",
      " dense_1 (Dense)             (None, 10)                40        \n",
      "                                                                 \n",
      " dropout (Dropout)           (None, 10)                0         \n",
      "                                                                 \n",
      " dense_2 (Dense)             (None, 5)                 55        \n",
      "                                                                 \n",
      " dense_3 (Dense)             (None, 5)                 30        \n",
      "                                                                 \n",
      "=================================================================\n",
      "Total params: 125\n",
      "Trainable params: 125\n",
      "Non-trainable params: 0\n",
      "_________________________________________________________________\n"
     ]
    }
   ],
   "source": [
    "# Summarize the model\n",
    "model.summary()"
   ]
  },
  {
   "cell_type": "code",
   "execution_count": 22,
   "id": "736bb029-b0d9-4736-948a-f3a9423b41f6",
   "metadata": {},
   "outputs": [
    {
     "name": "stdout",
     "output_type": "stream",
     "text": [
      "Epoch 1/50\n",
      "44/44 [==============================] - 1s 8ms/step - loss: 2.6966 - categorical_accuracy: 0.2001 - val_loss: 2.1210 - val_categorical_accuracy: 0.1991\n",
      "Epoch 2/50\n",
      "44/44 [==============================] - 0s 4ms/step - loss: 2.1328 - categorical_accuracy: 0.2134 - val_loss: 1.8244 - val_categorical_accuracy: 0.2658\n",
      "Epoch 3/50\n",
      "44/44 [==============================] - 0s 4ms/step - loss: 1.8453 - categorical_accuracy: 0.2190 - val_loss: 1.7144 - val_categorical_accuracy: 0.1945\n",
      "Epoch 4/50\n",
      "44/44 [==============================] - 0s 3ms/step - loss: 1.7485 - categorical_accuracy: 0.1846 - val_loss: 1.6728 - val_categorical_accuracy: 0.1169\n",
      "Epoch 5/50\n",
      "44/44 [==============================] - 0s 3ms/step - loss: 1.7113 - categorical_accuracy: 0.1724 - val_loss: 1.6599 - val_categorical_accuracy: 0.1868\n",
      "Epoch 6/50\n",
      "44/44 [==============================] - 0s 3ms/step - loss: 1.7110 - categorical_accuracy: 0.1771 - val_loss: 1.6540 - val_categorical_accuracy: 0.1923\n",
      "Epoch 7/50\n",
      "44/44 [==============================] - 0s 3ms/step - loss: 1.6690 - categorical_accuracy: 0.1780 - val_loss: 1.6479 - val_categorical_accuracy: 0.1991\n",
      "Epoch 8/50\n",
      "44/44 [==============================] - 0s 3ms/step - loss: 1.6538 - categorical_accuracy: 0.1877 - val_loss: 1.6437 - val_categorical_accuracy: 0.2007\n",
      "Epoch 9/50\n",
      "44/44 [==============================] - 0s 3ms/step - loss: 1.6454 - categorical_accuracy: 0.2117 - val_loss: 1.6391 - val_categorical_accuracy: 0.1783\n",
      "Epoch 10/50\n",
      "44/44 [==============================] - 0s 3ms/step - loss: 1.6399 - categorical_accuracy: 0.2230 - val_loss: 1.6273 - val_categorical_accuracy: 0.2338\n",
      "Epoch 11/50\n",
      "44/44 [==============================] - 0s 3ms/step - loss: 1.6001 - categorical_accuracy: 0.2358 - val_loss: 1.5524 - val_categorical_accuracy: 0.2884\n",
      "Epoch 12/50\n",
      "44/44 [==============================] - 0s 3ms/step - loss: 1.5550 - categorical_accuracy: 0.2731 - val_loss: 1.5096 - val_categorical_accuracy: 0.3758\n",
      "Epoch 13/50\n",
      "44/44 [==============================] - 0s 3ms/step - loss: 1.5217 - categorical_accuracy: 0.3058 - val_loss: 1.4760 - val_categorical_accuracy: 0.3884\n",
      "Epoch 14/50\n",
      "44/44 [==============================] - 0s 3ms/step - loss: 1.4934 - categorical_accuracy: 0.3192 - val_loss: 1.4475 - val_categorical_accuracy: 0.3908\n",
      "Epoch 15/50\n",
      "44/44 [==============================] - 0s 3ms/step - loss: 1.4669 - categorical_accuracy: 0.3346 - val_loss: 1.4132 - val_categorical_accuracy: 0.3963\n",
      "Epoch 16/50\n",
      "44/44 [==============================] - 0s 3ms/step - loss: 1.4431 - categorical_accuracy: 0.3498 - val_loss: 1.3810 - val_categorical_accuracy: 0.4497\n",
      "Epoch 17/50\n",
      "44/44 [==============================] - 0s 3ms/step - loss: 1.4201 - categorical_accuracy: 0.3761 - val_loss: 1.3464 - val_categorical_accuracy: 0.4999\n",
      "Epoch 18/50\n",
      "44/44 [==============================] - 0s 3ms/step - loss: 1.3841 - categorical_accuracy: 0.4101 - val_loss: 1.3033 - val_categorical_accuracy: 0.5396\n",
      "Epoch 19/50\n",
      "44/44 [==============================] - 0s 3ms/step - loss: 1.3509 - categorical_accuracy: 0.4413 - val_loss: 1.2566 - val_categorical_accuracy: 0.5582\n",
      "Epoch 20/50\n",
      "44/44 [==============================] - 0s 3ms/step - loss: 1.3080 - categorical_accuracy: 0.4706 - val_loss: 1.2118 - val_categorical_accuracy: 0.5622\n",
      "Epoch 21/50\n",
      "44/44 [==============================] - 0s 3ms/step - loss: 1.2624 - categorical_accuracy: 0.4981 - val_loss: 1.1750 - val_categorical_accuracy: 0.5668\n",
      "Epoch 22/50\n",
      "44/44 [==============================] - 0s 3ms/step - loss: 1.2218 - categorical_accuracy: 0.5197 - val_loss: 1.1368 - val_categorical_accuracy: 0.5868\n",
      "Epoch 23/50\n",
      "44/44 [==============================] - 0s 3ms/step - loss: 1.1847 - categorical_accuracy: 0.5353 - val_loss: 1.0997 - val_categorical_accuracy: 0.6205\n",
      "Epoch 24/50\n",
      "44/44 [==============================] - 0s 3ms/step - loss: 1.1508 - categorical_accuracy: 0.5585 - val_loss: 1.0664 - val_categorical_accuracy: 0.6412\n",
      "Epoch 25/50\n",
      "44/44 [==============================] - 0s 3ms/step - loss: 1.1240 - categorical_accuracy: 0.5773 - val_loss: 1.0386 - val_categorical_accuracy: 0.6499\n",
      "Epoch 26/50\n",
      "44/44 [==============================] - 0s 3ms/step - loss: 1.1201 - categorical_accuracy: 0.5895 - val_loss: 1.0148 - val_categorical_accuracy: 0.6548\n",
      "Epoch 27/50\n",
      "44/44 [==============================] - 0s 3ms/step - loss: 1.0885 - categorical_accuracy: 0.5926 - val_loss: 0.9948 - val_categorical_accuracy: 0.6732\n",
      "Epoch 28/50\n",
      "44/44 [==============================] - 0s 3ms/step - loss: 1.0719 - categorical_accuracy: 0.5977 - val_loss: 0.9788 - val_categorical_accuracy: 0.6828\n",
      "Epoch 29/50\n",
      "44/44 [==============================] - 0s 3ms/step - loss: 1.0576 - categorical_accuracy: 0.6023 - val_loss: 0.9641 - val_categorical_accuracy: 0.6953\n",
      "Epoch 30/50\n",
      "44/44 [==============================] - 0s 3ms/step - loss: 1.0460 - categorical_accuracy: 0.6100 - val_loss: 0.9514 - val_categorical_accuracy: 0.7127\n",
      "Epoch 31/50\n",
      "44/44 [==============================] - 0s 3ms/step - loss: 1.0408 - categorical_accuracy: 0.6106 - val_loss: 0.9403 - val_categorical_accuracy: 0.7035\n",
      "Epoch 32/50\n",
      "44/44 [==============================] - 0s 3ms/step - loss: 1.0305 - categorical_accuracy: 0.6070 - val_loss: 0.9300 - val_categorical_accuracy: 0.7100\n",
      "Epoch 33/50\n",
      "44/44 [==============================] - 0s 3ms/step - loss: 1.0236 - categorical_accuracy: 0.6056 - val_loss: 0.9201 - val_categorical_accuracy: 0.7130\n",
      "Epoch 34/50\n",
      "44/44 [==============================] - 0s 3ms/step - loss: 1.0115 - categorical_accuracy: 0.6148 - val_loss: 0.9083 - val_categorical_accuracy: 0.7381\n",
      "Epoch 35/50\n",
      "44/44 [==============================] - 0s 3ms/step - loss: 0.9991 - categorical_accuracy: 0.6313 - val_loss: 0.8866 - val_categorical_accuracy: 0.7535\n",
      "Epoch 36/50\n",
      "44/44 [==============================] - 0s 3ms/step - loss: 0.9820 - categorical_accuracy: 0.6454 - val_loss: 0.8567 - val_categorical_accuracy: 0.7752\n",
      "Epoch 37/50\n",
      "44/44 [==============================] - 0s 3ms/step - loss: 0.9559 - categorical_accuracy: 0.6635 - val_loss: 0.8319 - val_categorical_accuracy: 0.8038\n",
      "Epoch 38/50\n",
      "44/44 [==============================] - 0s 3ms/step - loss: 0.9408 - categorical_accuracy: 0.6695 - val_loss: 0.8154 - val_categorical_accuracy: 0.8101\n",
      "Epoch 39/50\n",
      "44/44 [==============================] - 0s 3ms/step - loss: 0.9311 - categorical_accuracy: 0.6794 - val_loss: 0.8039 - val_categorical_accuracy: 0.8172\n",
      "Epoch 40/50\n",
      "44/44 [==============================] - 0s 3ms/step - loss: 0.9229 - categorical_accuracy: 0.6817 - val_loss: 0.7950 - val_categorical_accuracy: 0.8170\n",
      "Epoch 41/50\n",
      "44/44 [==============================] - 0s 3ms/step - loss: 0.9094 - categorical_accuracy: 0.6909 - val_loss: 0.7866 - val_categorical_accuracy: 0.8216\n",
      "Epoch 42/50\n",
      "44/44 [==============================] - 0s 3ms/step - loss: 0.9112 - categorical_accuracy: 0.6881 - val_loss: 0.7812 - val_categorical_accuracy: 0.8235\n",
      "Epoch 43/50\n",
      "44/44 [==============================] - 0s 3ms/step - loss: 0.8987 - categorical_accuracy: 0.6949 - val_loss: 0.7746 - val_categorical_accuracy: 0.8213\n",
      "Epoch 44/50\n",
      "44/44 [==============================] - 0s 3ms/step - loss: 0.8945 - categorical_accuracy: 0.6955 - val_loss: 0.7697 - val_categorical_accuracy: 0.8228\n",
      "Epoch 45/50\n",
      "44/44 [==============================] - 0s 3ms/step - loss: 0.8938 - categorical_accuracy: 0.6986 - val_loss: 0.7658 - val_categorical_accuracy: 0.8252\n",
      "Epoch 46/50\n",
      "44/44 [==============================] - 0s 3ms/step - loss: 0.8875 - categorical_accuracy: 0.7018 - val_loss: 0.7612 - val_categorical_accuracy: 0.8249\n",
      "Epoch 47/50\n",
      "44/44 [==============================] - 0s 3ms/step - loss: 0.8852 - categorical_accuracy: 0.7006 - val_loss: 0.7584 - val_categorical_accuracy: 0.8276\n",
      "Epoch 48/50\n",
      "44/44 [==============================] - 0s 3ms/step - loss: 0.8817 - categorical_accuracy: 0.7030 - val_loss: 0.7544 - val_categorical_accuracy: 0.8258\n",
      "Epoch 49/50\n",
      "44/44 [==============================] - 0s 3ms/step - loss: 0.8784 - categorical_accuracy: 0.7047 - val_loss: 0.7505 - val_categorical_accuracy: 0.8285\n",
      "Epoch 50/50\n",
      "44/44 [==============================] - 0s 3ms/step - loss: 0.8719 - categorical_accuracy: 0.7068 - val_loss: 0.7461 - val_categorical_accuracy: 0.8261\n"
     ]
    },
    {
     "data": {
      "text/plain": [
       "<keras.callbacks.History at 0x13d3da6d388>"
      ]
     },
     "execution_count": 22,
     "metadata": {},
     "output_type": "execute_result"
    }
   ],
   "source": [
    "# Add in valdiation loss to select the number of epochs\n",
    "# Fit the model\n",
    "number_of_epochs = 50\n",
    "model.fit(X_train, y_train,\n",
    "          epochs=number_of_epochs,\n",
    "          batch_size=1000,\n",
    "          validation_split=0.2,\n",
    "          shuffle=True)"
   ]
  },
  {
   "cell_type": "code",
   "execution_count": 23,
   "id": "ba24012c-5d92-4745-a43c-36f313ffc29e",
   "metadata": {},
   "outputs": [
    {
     "data": {
      "text/plain": [
       "dict_keys(['loss', 'categorical_accuracy', 'val_loss', 'val_categorical_accuracy'])"
      ]
     },
     "execution_count": 23,
     "metadata": {},
     "output_type": "execute_result"
    }
   ],
   "source": [
    "# Save model history across epochs\n",
    "model_history = model.history.history\n",
    "model_history.keys()"
   ]
  },
  {
   "cell_type": "code",
   "execution_count": 24,
   "id": "21e909d4-8974-4646-b48f-a18e55a6a0eb",
   "metadata": {},
   "outputs": [
    {
     "data": {
      "text/plain": [
       "[0.2000926285982132,\n",
       " 0.21338582038879395,\n",
       " 0.21903659403324127,\n",
       " 0.1846456676721573,\n",
       " 0.17244094610214233,\n",
       " 0.17711903154850006,\n",
       " 0.17795275151729584,\n",
       " 0.1877489537000656,\n",
       " 0.2117183953523636,\n",
       " 0.22301991283893585,\n",
       " 0.235826775431633,\n",
       " 0.27311256527900696,\n",
       " 0.305836021900177,\n",
       " 0.31919869780540466,\n",
       " 0.33462250232696533,\n",
       " 0.3498147428035736,\n",
       " 0.37605372071266174,\n",
       " 0.4100741147994995,\n",
       " 0.4412690997123718,\n",
       " 0.4705650806427002,\n",
       " 0.49814727902412415,\n",
       " 0.5196850299835205,\n",
       " 0.5352941155433655,\n",
       " 0.5585456490516663,\n",
       " 0.5773274898529053,\n",
       " 0.5895090103149414,\n",
       " 0.5926123261451721,\n",
       " 0.5976609587669373,\n",
       " 0.6022927165031433,\n",
       " 0.6099814772605896,\n",
       " 0.6106299161911011,\n",
       " 0.6070171594619751,\n",
       " 0.6055812835693359,\n",
       " 0.6148216724395752,\n",
       " 0.6312876343727112,\n",
       " 0.6453914046287537,\n",
       " 0.6635016202926636,\n",
       " 0.6695229411125183,\n",
       " 0.6793885827064514,\n",
       " 0.681658148765564,\n",
       " 0.6909449100494385,\n",
       " 0.6880963444709778,\n",
       " 0.6949282288551331,\n",
       " 0.695530354976654,\n",
       " 0.6986104846000671,\n",
       " 0.7017600536346436,\n",
       " 0.7005558013916016,\n",
       " 0.7030338048934937,\n",
       " 0.7047475576400757,\n",
       " 0.7067623734474182]"
      ]
     },
     "execution_count": 24,
     "metadata": {},
     "output_type": "execute_result"
    }
   ],
   "source": [
    "# View 'categorical_accuracy' for the training dataset\n",
    "model_history['categorical_accuracy']"
   ]
  },
  {
   "cell_type": "code",
   "execution_count": 26,
   "id": "e85f1d6c-00f3-40eb-8b3f-f6e7dbd5d691",
   "metadata": {},
   "outputs": [
    {
     "data": {
      "text/plain": [
       "<AxesSubplot:title={'center':'Performance Across Training and Validation'}>"
      ]
     },
     "execution_count": 26,
     "metadata": {},
     "output_type": "execute_result"
    },
    {
     "data": {
      "image/png": "[encoded data removed]",
      "text/plain": [
       "<Figure size 432x288 with 1 Axes>"
      ]
     },
     "metadata": {
      "needs_background": "light"
     },
     "output_type": "display_data"
    }
   ],
   "source": [
    "# Save accuracy for training and validation set across epochs\n",
    "training_results = pd.DataFrame(index=range(1, number_of_epochs+1))\n",
    "training_results['Training'] = model_history['categorical_accuracy']\n",
    "training_results['Validation'] = model_history['val_categorical_accuracy']\n",
    "training_results.plot(title='Performance Across Training and Validation')"
   ]
  },
  {
   "cell_type": "code",
   "execution_count": null,
   "id": "7f3aa040-59bf-4c99-87d0-a74755ca41e5",
   "metadata": {},
   "outputs": [],
   "source": []
  }
 ],
 "metadata": {
  "kernelspec": {
   "display_name": "Python 3 (ipykernel)",
   "language": "python",
   "name": "python3"
  },
  "language_info": {
   "codemirror_mode": {
    "name": "ipython",
    "version": 3
   },
   "file_extension": ".py",
   "mimetype": "text/x-python",
   "name": "python",
   "nbconvert_exporter": "python",
   "pygments_lexer": "ipython3",
   "version": "3.7.13"
  }
 },
 "nbformat": 4,
 "nbformat_minor": 5
}
