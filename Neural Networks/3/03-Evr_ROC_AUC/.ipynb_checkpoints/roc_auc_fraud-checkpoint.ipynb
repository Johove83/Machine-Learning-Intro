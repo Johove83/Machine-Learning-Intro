{
 "cells": [
  {
   "cell_type": "markdown",
   "metadata": {},
   "source": [
    "# Instructor Do: Intro to the ROC Curve and AUC\n",
    "\n",
    "In this activity, students will learn how to measure the performance of a binary classification model by fetching metrics from Keras, as well as plotting and interpreting the ROC curve and AUC."
   ]
  },
  {
   "cell_type": "code",
   "execution_count": 1,
   "metadata": {},
   "outputs": [],
   "source": [
    "# Initial imports\n",
    "import pandas as pd\n",
    "import numpy as np\n",
    "import matplotlib.pyplot as plt\n",
    "import tensorflow as tf\n",
    "from pathlib import Path\n",
    "\n",
    "%matplotlib inline"
   ]
  },
  {
   "cell_type": "markdown",
   "metadata": {},
   "source": [
    "## The Dataset\n",
    "\n",
    "The data provided for this demo contains anonymous information about `284807` credit card transactions made by European credit cardholders in September 2013.\n",
    "\n",
    "The dataset is going to be used to create a binary classification model using a deep neural network to detect fraudulent transactions. It contains nine numerical variables, which are the result of PCA transformation to protect the confidentiality of credit cardholders. Only the transaction amount can be seen as is.\n",
    "\n",
    "This dataset is an abstract of the file shared by the [Machine Learning Group](http://mlg.ulb.ac.be) of the Université Libre de Bruxelles (ULB)."
   ]
  },
  {
   "cell_type": "code",
   "execution_count": 3,
   "metadata": {},
   "outputs": [
    {
     "data": {
      "text/html": [
       "<div>\n",
       "<style scoped>\n",
       "    .dataframe tbody tr th:only-of-type {\n",
       "        vertical-align: middle;\n",
       "    }\n",
       "\n",
       "    .dataframe tbody tr th {\n",
       "        vertical-align: top;\n",
       "    }\n",
       "\n",
       "    .dataframe thead th {\n",
       "        text-align: right;\n",
       "    }\n",
       "</style>\n",
       "<table border=\"1\" class=\"dataframe\">\n",
       "  <thead>\n",
       "    <tr style=\"text-align: right;\">\n",
       "      <th></th>\n",
       "      <th>V1</th>\n",
       "      <th>V2</th>\n",
       "      <th>V3</th>\n",
       "      <th>V4</th>\n",
       "      <th>V5</th>\n",
       "      <th>V6</th>\n",
       "      <th>V7</th>\n",
       "      <th>V8</th>\n",
       "      <th>V9</th>\n",
       "      <th>Amount</th>\n",
       "      <th>Class</th>\n",
       "    </tr>\n",
       "  </thead>\n",
       "  <tbody>\n",
       "    <tr>\n",
       "      <th>0</th>\n",
       "      <td>-1.359807</td>\n",
       "      <td>-0.072781</td>\n",
       "      <td>2.536347</td>\n",
       "      <td>1.378155</td>\n",
       "      <td>-0.338321</td>\n",
       "      <td>0.462388</td>\n",
       "      <td>0.239599</td>\n",
       "      <td>0.098698</td>\n",
       "      <td>0.363787</td>\n",
       "      <td>149.62</td>\n",
       "      <td>0</td>\n",
       "    </tr>\n",
       "    <tr>\n",
       "      <th>1</th>\n",
       "      <td>1.191857</td>\n",
       "      <td>0.266151</td>\n",
       "      <td>0.166480</td>\n",
       "      <td>0.448154</td>\n",
       "      <td>0.060018</td>\n",
       "      <td>-0.082361</td>\n",
       "      <td>-0.078803</td>\n",
       "      <td>0.085102</td>\n",
       "      <td>-0.255425</td>\n",
       "      <td>2.69</td>\n",
       "      <td>0</td>\n",
       "    </tr>\n",
       "    <tr>\n",
       "      <th>2</th>\n",
       "      <td>-1.358354</td>\n",
       "      <td>-1.340163</td>\n",
       "      <td>1.773209</td>\n",
       "      <td>0.379780</td>\n",
       "      <td>-0.503198</td>\n",
       "      <td>1.800499</td>\n",
       "      <td>0.791461</td>\n",
       "      <td>0.247676</td>\n",
       "      <td>-1.514654</td>\n",
       "      <td>378.66</td>\n",
       "      <td>0</td>\n",
       "    </tr>\n",
       "    <tr>\n",
       "      <th>3</th>\n",
       "      <td>-0.966272</td>\n",
       "      <td>-0.185226</td>\n",
       "      <td>1.792993</td>\n",
       "      <td>-0.863291</td>\n",
       "      <td>-0.010309</td>\n",
       "      <td>1.247203</td>\n",
       "      <td>0.237609</td>\n",
       "      <td>0.377436</td>\n",
       "      <td>-1.387024</td>\n",
       "      <td>123.50</td>\n",
       "      <td>0</td>\n",
       "    </tr>\n",
       "    <tr>\n",
       "      <th>4</th>\n",
       "      <td>-1.158233</td>\n",
       "      <td>0.877737</td>\n",
       "      <td>1.548718</td>\n",
       "      <td>0.403034</td>\n",
       "      <td>-0.407193</td>\n",
       "      <td>0.095921</td>\n",
       "      <td>0.592941</td>\n",
       "      <td>-0.270533</td>\n",
       "      <td>0.817739</td>\n",
       "      <td>69.99</td>\n",
       "      <td>0</td>\n",
       "    </tr>\n",
       "  </tbody>\n",
       "</table>\n",
       "</div>"
      ],
      "text/plain": [
       "         V1        V2        V3        V4        V5        V6        V7  \\\n",
       "0 -1.359807 -0.072781  2.536347  1.378155 -0.338321  0.462388  0.239599   \n",
       "1  1.191857  0.266151  0.166480  0.448154  0.060018 -0.082361 -0.078803   \n",
       "2 -1.358354 -1.340163  1.773209  0.379780 -0.503198  1.800499  0.791461   \n",
       "3 -0.966272 -0.185226  1.792993 -0.863291 -0.010309  1.247203  0.237609   \n",
       "4 -1.158233  0.877737  1.548718  0.403034 -0.407193  0.095921  0.592941   \n",
       "\n",
       "         V8        V9  Amount  Class  \n",
       "0  0.098698  0.363787  149.62      0  \n",
       "1  0.085102 -0.255425    2.69      0  \n",
       "2  0.247676 -1.514654  378.66      0  \n",
       "3  0.377436 -1.387024  123.50      0  \n",
       "4 -0.270533  0.817739   69.99      0  "
      ]
     },
     "execution_count": 3,
     "metadata": {},
     "output_type": "execute_result"
    }
   ],
   "source": [
    "# Import the dataset\n",
    "transactions_df = pd.read_csv(Path('transactions.csv'))\n",
    "transactions_df.head()"
   ]
  },
  {
   "cell_type": "markdown",
   "metadata": {},
   "source": [
    "## Data Preprocessing"
   ]
  },
  {
   "cell_type": "code",
   "execution_count": 4,
   "metadata": {},
   "outputs": [],
   "source": [
    "# Creating the X and y sets\n",
    "X = transactions_df.drop(columns='Class')\n",
    "y = transactions_df['Class']"
   ]
  },
  {
   "cell_type": "code",
   "execution_count": 5,
   "metadata": {},
   "outputs": [],
   "source": [
    "# Creating training, validation, and testing sets\n",
    "from sklearn.model_selection import train_test_split\n",
    "\n",
    "X_train, X_test, y_train, y_test = train_test_split(X,y, random_state=78)\n",
    "\n",
    "X_train, X_val, y_train, y_val = train_test_split(X_train, y_train, random_state=78)"
   ]
  },
  {
   "cell_type": "code",
   "execution_count": 7,
   "metadata": {},
   "outputs": [],
   "source": [
    "# Import the StandardScaler from sklearn\n",
    "from sklearn.preprocessing import StandardScaler\n",
    "\n",
    "# Scale the data\n",
    "scaler = StandardScaler().fit(X_train)\n",
    "X_train = scaler.transform(X_train)"
   ]
  },
  {
   "cell_type": "markdown",
   "metadata": {},
   "source": [
    "## Build and Train the Deep Learning Model"
   ]
  },
  {
   "cell_type": "markdown",
   "metadata": {},
   "source": [
    " ### Importing the Keras Modules"
   ]
  },
  {
   "cell_type": "code",
   "execution_count": 8,
   "metadata": {},
   "outputs": [],
   "source": [
    "# Import Keras modules for model creation\n",
    "from tensorflow.keras.models import Sequential\n",
    "from tensorflow.keras.layers import Dense"
   ]
  },
  {
   "cell_type": "markdown",
   "metadata": {},
   "source": [
    " ### Setting Up the Model"
   ]
  },
  {
   "cell_type": "code",
   "execution_count": 9,
   "metadata": {},
   "outputs": [],
   "source": [
    "# Model set-up\n",
    "number_input_features = 10\n",
    "hidden_nodes_layer1 = 15\n",
    "hidden_nodes_layer2 = 5"
   ]
  },
  {
   "cell_type": "markdown",
   "metadata": {},
   "source": [
    " ### Defining the Model's Structure"
   ]
  },
  {
   "cell_type": "code",
   "execution_count": 10,
   "metadata": {},
   "outputs": [],
   "source": [
    "# Define the LSTM RNN model\n",
    "model = Sequential()\n",
    "# Layer 1\n",
    "model.add(Dense(units=hidden_nodes_layer1, input_dim=number_input_features, activation='relu'))\n",
    "\n",
    "# Layer 2\n",
    "model.add(Dense(units=hidden_nodes_layer2, activation='relu'))\n",
    "# Output layer\n",
    "model.add(Dense(1, activation='sigmoid'))"
   ]
  },
  {
   "cell_type": "markdown",
   "metadata": {},
   "source": [
    " ### Compiling the Model"
   ]
  },
  {
   "cell_type": "code",
   "execution_count": 14,
   "metadata": {},
   "outputs": [],
   "source": [
    "# Compile the model\n",
    "model.compile(\n",
    "    loss='binary_crossentropy', optimizer='adam', metrics=['accuracy',\n",
    "                                                           tf.keras.metrics.TruePositives(name='tp'),\n",
    "                                                           tf.keras.metrics.TrueNegatives(name='tn'),\n",
    "                                                           tf.keras.metrics.FalsePositives(name='fp'),\n",
    "                                                           tf.keras.metrics.FalseNegatives(name='fn'),\n",
    "                                                           tf.keras.metrics.Precision(name='precision'),\n",
    "                                                           tf.keras.metrics.Recall(name='recall'),\n",
    "                                                           tf.keras.metrics.AUC(name='auc')])"
   ]
  },
  {
   "cell_type": "code",
   "execution_count": 15,
   "metadata": {},
   "outputs": [
    {
     "name": "stdout",
     "output_type": "stream",
     "text": [
      "Model: \"sequential\"\n",
      "_________________________________________________________________\n",
      " Layer (type)                Output Shape              Param #   \n",
      "=================================================================\n",
      " dense (Dense)               (None, 15)                165       \n",
      "                                                                 \n",
      " dense_1 (Dense)             (None, 5)                 80        \n",
      "                                                                 \n",
      " dense_2 (Dense)             (None, 1)                 6         \n",
      "                                                                 \n",
      "=================================================================\n",
      "Total params: 251\n",
      "Trainable params: 251\n",
      "Non-trainable params: 0\n",
      "_________________________________________________________________\n"
     ]
    }
   ],
   "source": [
    "# Summarize the model\n",
    "model.summary()"
   ]
  },
  {
   "cell_type": "markdown",
   "metadata": {},
   "source": [
    " ### Training the Model"
   ]
  },
  {
   "cell_type": "code",
   "execution_count": 16,
   "metadata": {},
   "outputs": [
    {
     "name": "stdout",
     "output_type": "stream",
     "text": [
      "Epoch 1/50\n",
      "161/161 [==============================] - 2s 5ms/step - loss: 0.1309 - accuracy: 0.9984 - tp: 0.0000e+00 - tn: 159946.0000 - fp: 0.0000e+00 - fn: 257.0000 - precision: 0.0000e+00 - recall: 0.0000e+00 - auc: 0.1425 - val_loss: 0.1384 - val_accuracy: 0.9980 - val_tp: 0.0000e+00 - val_tn: 53297.0000 - val_fp: 0.0000e+00 - val_fn: 105.0000 - val_precision: 0.0000e+00 - val_recall: 0.0000e+00 - val_auc: 0.4419\n",
      "Epoch 2/50\n",
      "161/161 [==============================] - 0s 3ms/step - loss: 0.0255 - accuracy: 0.9984 - tp: 0.0000e+00 - tn: 159946.0000 - fp: 0.0000e+00 - fn: 257.0000 - precision: 0.0000e+00 - recall: 0.0000e+00 - auc: 0.4355 - val_loss: 0.1971 - val_accuracy: 0.9980 - val_tp: 0.0000e+00 - val_tn: 53297.0000 - val_fp: 0.0000e+00 - val_fn: 105.0000 - val_precision: 0.0000e+00 - val_recall: 0.0000e+00 - val_auc: 0.5797\n",
      "Epoch 3/50\n",
      "161/161 [==============================] - 0s 3ms/step - loss: 0.0121 - accuracy: 0.9984 - tp: 1.0000 - tn: 159946.0000 - fp: 0.0000e+00 - fn: 256.0000 - precision: 1.0000 - recall: 0.0039 - auc: 0.7739 - val_loss: 0.2352 - val_accuracy: 0.9982 - val_tp: 13.0000 - val_tn: 53292.0000 - val_fp: 5.0000 - val_fn: 92.0000 - val_precision: 0.7222 - val_recall: 0.1238 - val_auc: 0.6426\n",
      "Epoch 4/50\n",
      "161/161 [==============================] - 0s 3ms/step - loss: 0.0078 - accuracy: 0.9989 - tp: 89.0000 - tn: 159930.0000 - fp: 16.0000 - fn: 168.0000 - precision: 0.8476 - recall: 0.3463 - auc: 0.8385 - val_loss: 0.2572 - val_accuracy: 0.9983 - val_tp: 23.0000 - val_tn: 53287.0000 - val_fp: 10.0000 - val_fn: 82.0000 - val_precision: 0.6970 - val_recall: 0.2190 - val_auc: 0.6599\n",
      "Epoch 5/50\n",
      "161/161 [==============================] - 0s 3ms/step - loss: 0.0064 - accuracy: 0.9990 - tp: 112.0000 - tn: 159926.0000 - fp: 20.0000 - fn: 145.0000 - precision: 0.8485 - recall: 0.4358 - auc: 0.8686 - val_loss: 0.2673 - val_accuracy: 0.9983 - val_tp: 27.0000 - val_tn: 53283.0000 - val_fp: 14.0000 - val_fn: 78.0000 - val_precision: 0.6585 - val_recall: 0.2571 - val_auc: 0.6926\n",
      "Epoch 6/50\n",
      "161/161 [==============================] - 0s 3ms/step - loss: 0.0056 - accuracy: 0.9990 - tp: 121.0000 - tn: 159922.0000 - fp: 24.0000 - fn: 136.0000 - precision: 0.8345 - recall: 0.4708 - auc: 0.8807 - val_loss: 0.2676 - val_accuracy: 0.9983 - val_tp: 31.0000 - val_tn: 53282.0000 - val_fp: 15.0000 - val_fn: 74.0000 - val_precision: 0.6739 - val_recall: 0.2952 - val_auc: 0.7130\n",
      "Epoch 7/50\n",
      "161/161 [==============================] - 0s 3ms/step - loss: 0.0051 - accuracy: 0.9990 - tp: 122.0000 - tn: 159923.0000 - fp: 23.0000 - fn: 135.0000 - precision: 0.8414 - recall: 0.4747 - auc: 0.8882 - val_loss: 0.2575 - val_accuracy: 0.9983 - val_tp: 33.0000 - val_tn: 53277.0000 - val_fp: 20.0000 - val_fn: 72.0000 - val_precision: 0.6226 - val_recall: 0.3143 - val_auc: 0.7234\n",
      "Epoch 8/50\n",
      "161/161 [==============================] - 0s 3ms/step - loss: 0.0048 - accuracy: 0.9990 - tp: 132.0000 - tn: 159916.0000 - fp: 30.0000 - fn: 125.0000 - precision: 0.8148 - recall: 0.5136 - auc: 0.8951 - val_loss: 0.2538 - val_accuracy: 0.9983 - val_tp: 33.0000 - val_tn: 53279.0000 - val_fp: 18.0000 - val_fn: 72.0000 - val_precision: 0.6471 - val_recall: 0.3143 - val_auc: 0.7290\n",
      "Epoch 9/50\n",
      "161/161 [==============================] - 0s 3ms/step - loss: 0.0046 - accuracy: 0.9991 - tp: 133.0000 - tn: 159920.0000 - fp: 26.0000 - fn: 124.0000 - precision: 0.8365 - recall: 0.5175 - auc: 0.9034 - val_loss: 0.2483 - val_accuracy: 0.9983 - val_tp: 34.0000 - val_tn: 53278.0000 - val_fp: 19.0000 - val_fn: 71.0000 - val_precision: 0.6415 - val_recall: 0.3238 - val_auc: 0.7389\n",
      "Epoch 10/50\n",
      "161/161 [==============================] - 0s 3ms/step - loss: 0.0044 - accuracy: 0.9991 - tp: 136.0000 - tn: 159917.0000 - fp: 29.0000 - fn: 121.0000 - precision: 0.8242 - recall: 0.5292 - auc: 0.9057 - val_loss: 0.2407 - val_accuracy: 0.9983 - val_tp: 35.0000 - val_tn: 53277.0000 - val_fp: 20.0000 - val_fn: 70.0000 - val_precision: 0.6364 - val_recall: 0.3333 - val_auc: 0.7438\n",
      "Epoch 11/50\n",
      "161/161 [==============================] - 0s 2ms/step - loss: 0.0043 - accuracy: 0.9991 - tp: 144.0000 - tn: 159919.0000 - fp: 27.0000 - fn: 113.0000 - precision: 0.8421 - recall: 0.5603 - auc: 0.9099 - val_loss: 0.2345 - val_accuracy: 0.9983 - val_tp: 38.0000 - val_tn: 53275.0000 - val_fp: 22.0000 - val_fn: 67.0000 - val_precision: 0.6333 - val_recall: 0.3619 - val_auc: 0.7487\n",
      "Epoch 12/50\n",
      "161/161 [==============================] - 0s 2ms/step - loss: 0.0042 - accuracy: 0.9992 - tp: 151.0000 - tn: 159918.0000 - fp: 28.0000 - fn: 106.0000 - precision: 0.8436 - recall: 0.5875 - auc: 0.9139 - val_loss: 0.2216 - val_accuracy: 0.9982 - val_tp: 38.0000 - val_tn: 53267.0000 - val_fp: 30.0000 - val_fn: 67.0000 - val_precision: 0.5588 - val_recall: 0.3619 - val_auc: 0.7485\n",
      "Epoch 13/50\n",
      "161/161 [==============================] - 0s 3ms/step - loss: 0.0041 - accuracy: 0.9992 - tp: 152.0000 - tn: 159919.0000 - fp: 27.0000 - fn: 105.0000 - precision: 0.8492 - recall: 0.5914 - auc: 0.9160 - val_loss: 0.2166 - val_accuracy: 0.9981 - val_tp: 38.0000 - val_tn: 53265.0000 - val_fp: 32.0000 - val_fn: 67.0000 - val_precision: 0.5429 - val_recall: 0.3619 - val_auc: 0.7581\n",
      "Epoch 14/50\n",
      "161/161 [==============================] - 0s 2ms/step - loss: 0.0040 - accuracy: 0.9992 - tp: 150.0000 - tn: 159923.0000 - fp: 23.0000 - fn: 107.0000 - precision: 0.8671 - recall: 0.5837 - auc: 0.9163 - val_loss: 0.2102 - val_accuracy: 0.9982 - val_tp: 42.0000 - val_tn: 53263.0000 - val_fp: 34.0000 - val_fn: 63.0000 - val_precision: 0.5526 - val_recall: 0.4000 - val_auc: 0.7583\n",
      "Epoch 15/50\n",
      "161/161 [==============================] - 0s 2ms/step - loss: 0.0040 - accuracy: 0.9992 - tp: 154.0000 - tn: 159923.0000 - fp: 23.0000 - fn: 103.0000 - precision: 0.8701 - recall: 0.5992 - auc: 0.9163 - val_loss: 0.2069 - val_accuracy: 0.9982 - val_tp: 43.0000 - val_tn: 53263.0000 - val_fp: 34.0000 - val_fn: 62.0000 - val_precision: 0.5584 - val_recall: 0.4095 - val_auc: 0.7583\n",
      "Epoch 16/50\n",
      "161/161 [==============================] - 0s 2ms/step - loss: 0.0039 - accuracy: 0.9992 - tp: 153.0000 - tn: 159922.0000 - fp: 24.0000 - fn: 104.0000 - precision: 0.8644 - recall: 0.5953 - auc: 0.9164 - val_loss: 0.2033 - val_accuracy: 0.9982 - val_tp: 42.0000 - val_tn: 53264.0000 - val_fp: 33.0000 - val_fn: 63.0000 - val_precision: 0.5600 - val_recall: 0.4000 - val_auc: 0.7582\n",
      "Epoch 17/50\n",
      "161/161 [==============================] - 0s 3ms/step - loss: 0.0039 - accuracy: 0.9992 - tp: 159.0000 - tn: 159923.0000 - fp: 23.0000 - fn: 98.0000 - precision: 0.8736 - recall: 0.6187 - auc: 0.9165 - val_loss: 0.1986 - val_accuracy: 0.9982 - val_tp: 45.0000 - val_tn: 53261.0000 - val_fp: 36.0000 - val_fn: 60.0000 - val_precision: 0.5556 - val_recall: 0.4286 - val_auc: 0.7582\n",
      "Epoch 18/50\n",
      "161/161 [==============================] - 0s 2ms/step - loss: 0.0038 - accuracy: 0.9993 - tp: 160.0000 - tn: 159925.0000 - fp: 21.0000 - fn: 97.0000 - precision: 0.8840 - recall: 0.6226 - auc: 0.9165 - val_loss: 0.1915 - val_accuracy: 0.9980 - val_tp: 47.0000 - val_tn: 53246.0000 - val_fp: 51.0000 - val_fn: 58.0000 - val_precision: 0.4796 - val_recall: 0.4476 - val_auc: 0.7624\n",
      "Epoch 19/50\n",
      "161/161 [==============================] - 0s 3ms/step - loss: 0.0038 - accuracy: 0.9993 - tp: 164.0000 - tn: 159921.0000 - fp: 25.0000 - fn: 93.0000 - precision: 0.8677 - recall: 0.6381 - auc: 0.9165 - val_loss: 0.1892 - val_accuracy: 0.9981 - val_tp: 46.0000 - val_tn: 53253.0000 - val_fp: 44.0000 - val_fn: 59.0000 - val_precision: 0.5111 - val_recall: 0.4381 - val_auc: 0.7579\n",
      "Epoch 20/50\n",
      "161/161 [==============================] - 0s 3ms/step - loss: 0.0037 - accuracy: 0.9993 - tp: 161.0000 - tn: 159923.0000 - fp: 23.0000 - fn: 96.0000 - precision: 0.8750 - recall: 0.6265 - auc: 0.9187 - val_loss: 0.1848 - val_accuracy: 0.9981 - val_tp: 46.0000 - val_tn: 53256.0000 - val_fp: 41.0000 - val_fn: 59.0000 - val_precision: 0.5287 - val_recall: 0.4381 - val_auc: 0.7667\n",
      "Epoch 21/50\n",
      "161/161 [==============================] - 0s 2ms/step - loss: 0.0037 - accuracy: 0.9993 - tp: 159.0000 - tn: 159925.0000 - fp: 21.0000 - fn: 98.0000 - precision: 0.8833 - recall: 0.6187 - auc: 0.9186 - val_loss: 0.1804 - val_accuracy: 0.9980 - val_tp: 48.0000 - val_tn: 53249.0000 - val_fp: 48.0000 - val_fn: 57.0000 - val_precision: 0.5000 - val_recall: 0.4571 - val_auc: 0.7667\n",
      "Epoch 22/50\n",
      "161/161 [==============================] - 0s 3ms/step - loss: 0.0037 - accuracy: 0.9993 - tp: 163.0000 - tn: 159923.0000 - fp: 23.0000 - fn: 94.0000 - precision: 0.8763 - recall: 0.6342 - auc: 0.9186 - val_loss: 0.1785 - val_accuracy: 0.9979 - val_tp: 48.0000 - val_tn: 53244.0000 - val_fp: 53.0000 - val_fn: 57.0000 - val_precision: 0.4752 - val_recall: 0.4571 - val_auc: 0.7666\n",
      "Epoch 23/50\n",
      "161/161 [==============================] - 0s 2ms/step - loss: 0.0036 - accuracy: 0.9993 - tp: 162.0000 - tn: 159924.0000 - fp: 22.0000 - fn: 95.0000 - precision: 0.8804 - recall: 0.6304 - auc: 0.9246 - val_loss: 0.1775 - val_accuracy: 0.9981 - val_tp: 48.0000 - val_tn: 53250.0000 - val_fp: 47.0000 - val_fn: 57.0000 - val_precision: 0.5053 - val_recall: 0.4571 - val_auc: 0.7665\n",
      "Epoch 24/50\n",
      "161/161 [==============================] - 0s 2ms/step - loss: 0.0036 - accuracy: 0.9993 - tp: 163.0000 - tn: 159924.0000 - fp: 22.0000 - fn: 94.0000 - precision: 0.8811 - recall: 0.6342 - auc: 0.9188 - val_loss: 0.1765 - val_accuracy: 0.9980 - val_tp: 47.0000 - val_tn: 53249.0000 - val_fp: 48.0000 - val_fn: 58.0000 - val_precision: 0.4947 - val_recall: 0.4476 - val_auc: 0.7662\n",
      "Epoch 25/50\n",
      "161/161 [==============================] - 0s 2ms/step - loss: 0.0035 - accuracy: 0.9993 - tp: 163.0000 - tn: 159926.0000 - fp: 20.0000 - fn: 94.0000 - precision: 0.8907 - recall: 0.6342 - auc: 0.9264 - val_loss: 0.1812 - val_accuracy: 0.9981 - val_tp: 47.0000 - val_tn: 53252.0000 - val_fp: 45.0000 - val_fn: 58.0000 - val_precision: 0.5109 - val_recall: 0.4476 - val_auc: 0.7667\n",
      "Epoch 26/50\n",
      "161/161 [==============================] - 0s 2ms/step - loss: 0.0035 - accuracy: 0.9993 - tp: 164.0000 - tn: 159924.0000 - fp: 22.0000 - fn: 93.0000 - precision: 0.8817 - recall: 0.6381 - auc: 0.9246 - val_loss: 0.1826 - val_accuracy: 0.9980 - val_tp: 48.0000 - val_tn: 53248.0000 - val_fp: 49.0000 - val_fn: 57.0000 - val_precision: 0.4948 - val_recall: 0.4571 - val_auc: 0.7664\n",
      "Epoch 27/50\n",
      "161/161 [==============================] - 0s 2ms/step - loss: 0.0035 - accuracy: 0.9993 - tp: 165.0000 - tn: 159925.0000 - fp: 21.0000 - fn: 92.0000 - precision: 0.8871 - recall: 0.6420 - auc: 0.9267 - val_loss: 0.1902 - val_accuracy: 0.9980 - val_tp: 48.0000 - val_tn: 53249.0000 - val_fp: 48.0000 - val_fn: 57.0000 - val_precision: 0.5000 - val_recall: 0.4571 - val_auc: 0.7666\n",
      "Epoch 28/50\n",
      "161/161 [==============================] - 0s 2ms/step - loss: 0.0035 - accuracy: 0.9993 - tp: 165.0000 - tn: 159925.0000 - fp: 21.0000 - fn: 92.0000 - precision: 0.8871 - recall: 0.6420 - auc: 0.9266 - val_loss: 0.1869 - val_accuracy: 0.9978 - val_tp: 48.0000 - val_tn: 53238.0000 - val_fp: 59.0000 - val_fn: 57.0000 - val_precision: 0.4486 - val_recall: 0.4571 - val_auc: 0.7662\n",
      "Epoch 29/50\n",
      "161/161 [==============================] - 0s 2ms/step - loss: 0.0035 - accuracy: 0.9993 - tp: 168.0000 - tn: 159922.0000 - fp: 24.0000 - fn: 89.0000 - precision: 0.8750 - recall: 0.6537 - auc: 0.9267 - val_loss: 0.1850 - val_accuracy: 0.9980 - val_tp: 48.0000 - val_tn: 53246.0000 - val_fp: 51.0000 - val_fn: 57.0000 - val_precision: 0.4848 - val_recall: 0.4571 - val_auc: 0.7660\n",
      "Epoch 30/50\n",
      "161/161 [==============================] - 0s 2ms/step - loss: 0.0034 - accuracy: 0.9993 - tp: 168.0000 - tn: 159925.0000 - fp: 21.0000 - fn: 89.0000 - precision: 0.8889 - recall: 0.6537 - auc: 0.9304 - val_loss: 0.1887 - val_accuracy: 0.9980 - val_tp: 47.0000 - val_tn: 53247.0000 - val_fp: 50.0000 - val_fn: 58.0000 - val_precision: 0.4845 - val_recall: 0.4476 - val_auc: 0.7662\n",
      "Epoch 31/50\n",
      "161/161 [==============================] - 0s 2ms/step - loss: 0.0034 - accuracy: 0.9993 - tp: 167.0000 - tn: 159925.0000 - fp: 21.0000 - fn: 90.0000 - precision: 0.8883 - recall: 0.6498 - auc: 0.9267 - val_loss: 0.1893 - val_accuracy: 0.9980 - val_tp: 47.0000 - val_tn: 53250.0000 - val_fp: 47.0000 - val_fn: 58.0000 - val_precision: 0.5000 - val_recall: 0.4476 - val_auc: 0.7662\n",
      "Epoch 32/50\n",
      "161/161 [==============================] - 0s 3ms/step - loss: 0.0034 - accuracy: 0.9993 - tp: 169.0000 - tn: 159925.0000 - fp: 21.0000 - fn: 88.0000 - precision: 0.8895 - recall: 0.6576 - auc: 0.9305 - val_loss: 0.1912 - val_accuracy: 0.9979 - val_tp: 47.0000 - val_tn: 53245.0000 - val_fp: 52.0000 - val_fn: 58.0000 - val_precision: 0.4747 - val_recall: 0.4476 - val_auc: 0.7662\n",
      "Epoch 33/50\n",
      "161/161 [==============================] - 0s 2ms/step - loss: 0.0033 - accuracy: 0.9993 - tp: 168.0000 - tn: 159926.0000 - fp: 20.0000 - fn: 89.0000 - precision: 0.8936 - recall: 0.6537 - auc: 0.9324 - val_loss: 0.1933 - val_accuracy: 0.9980 - val_tp: 47.0000 - val_tn: 53250.0000 - val_fp: 47.0000 - val_fn: 58.0000 - val_precision: 0.5000 - val_recall: 0.4476 - val_auc: 0.7663\n",
      "Epoch 34/50\n",
      "161/161 [==============================] - 0s 2ms/step - loss: 0.0034 - accuracy: 0.9993 - tp: 171.0000 - tn: 159925.0000 - fp: 21.0000 - fn: 86.0000 - precision: 0.8906 - recall: 0.6654 - auc: 0.9306 - val_loss: 0.1884 - val_accuracy: 0.9978 - val_tp: 47.0000 - val_tn: 53237.0000 - val_fp: 60.0000 - val_fn: 58.0000 - val_precision: 0.4393 - val_recall: 0.4476 - val_auc: 0.7658\n",
      "Epoch 35/50\n",
      "161/161 [==============================] - 0s 2ms/step - loss: 0.0033 - accuracy: 0.9993 - tp: 172.0000 - tn: 159926.0000 - fp: 20.0000 - fn: 85.0000 - precision: 0.8958 - recall: 0.6693 - auc: 0.9364 - val_loss: 0.1884 - val_accuracy: 0.9979 - val_tp: 47.0000 - val_tn: 53245.0000 - val_fp: 52.0000 - val_fn: 58.0000 - val_precision: 0.4747 - val_recall: 0.4476 - val_auc: 0.7656\n",
      "Epoch 36/50\n",
      "161/161 [==============================] - 0s 3ms/step - loss: 0.0033 - accuracy: 0.9993 - tp: 169.0000 - tn: 159925.0000 - fp: 21.0000 - fn: 88.0000 - precision: 0.8895 - recall: 0.6576 - auc: 0.9365 - val_loss: 0.1863 - val_accuracy: 0.9978 - val_tp: 47.0000 - val_tn: 53240.0000 - val_fp: 57.0000 - val_fn: 58.0000 - val_precision: 0.4519 - val_recall: 0.4476 - val_auc: 0.7657\n",
      "Epoch 37/50\n",
      "161/161 [==============================] - 0s 2ms/step - loss: 0.0033 - accuracy: 0.9993 - tp: 169.0000 - tn: 159925.0000 - fp: 21.0000 - fn: 88.0000 - precision: 0.8895 - recall: 0.6576 - auc: 0.9307 - val_loss: 0.1836 - val_accuracy: 0.9978 - val_tp: 47.0000 - val_tn: 53239.0000 - val_fp: 58.0000 - val_fn: 58.0000 - val_precision: 0.4476 - val_recall: 0.4476 - val_auc: 0.7652\n",
      "Epoch 38/50\n",
      "161/161 [==============================] - 0s 2ms/step - loss: 0.0033 - accuracy: 0.9993 - tp: 171.0000 - tn: 159923.0000 - fp: 23.0000 - fn: 86.0000 - precision: 0.8814 - recall: 0.6654 - auc: 0.9345 - val_loss: 0.1836 - val_accuracy: 0.9978 - val_tp: 47.0000 - val_tn: 53240.0000 - val_fp: 57.0000 - val_fn: 58.0000 - val_precision: 0.4519 - val_recall: 0.4476 - val_auc: 0.7653\n",
      "Epoch 39/50\n",
      "161/161 [==============================] - 0s 2ms/step - loss: 0.0033 - accuracy: 0.9993 - tp: 174.0000 - tn: 159923.0000 - fp: 23.0000 - fn: 83.0000 - precision: 0.8832 - recall: 0.6770 - auc: 0.9365 - val_loss: 0.1858 - val_accuracy: 0.9979 - val_tp: 47.0000 - val_tn: 53244.0000 - val_fp: 53.0000 - val_fn: 58.0000 - val_precision: 0.4700 - val_recall: 0.4476 - val_auc: 0.7653\n",
      "Epoch 40/50\n",
      "161/161 [==============================] - 0s 2ms/step - loss: 0.0033 - accuracy: 0.9993 - tp: 169.0000 - tn: 159924.0000 - fp: 22.0000 - fn: 88.0000 - precision: 0.8848 - recall: 0.6576 - auc: 0.9365 - val_loss: 0.1827 - val_accuracy: 0.9978 - val_tp: 47.0000 - val_tn: 53237.0000 - val_fp: 60.0000 - val_fn: 58.0000 - val_precision: 0.4393 - val_recall: 0.4476 - val_auc: 0.7651\n",
      "Epoch 41/50\n",
      "161/161 [==============================] - 0s 2ms/step - loss: 0.0032 - accuracy: 0.9993 - tp: 172.0000 - tn: 159924.0000 - fp: 22.0000 - fn: 85.0000 - precision: 0.8866 - recall: 0.6693 - auc: 0.9384 - val_loss: 0.1854 - val_accuracy: 0.9978 - val_tp: 47.0000 - val_tn: 53239.0000 - val_fp: 58.0000 - val_fn: 58.0000 - val_precision: 0.4476 - val_recall: 0.4476 - val_auc: 0.7697\n",
      "Epoch 42/50\n",
      "161/161 [==============================] - 0s 2ms/step - loss: 0.0032 - accuracy: 0.9994 - tp: 175.0000 - tn: 159924.0000 - fp: 22.0000 - fn: 82.0000 - precision: 0.8883 - recall: 0.6809 - auc: 0.9365 - val_loss: 0.1835 - val_accuracy: 0.9979 - val_tp: 47.0000 - val_tn: 53245.0000 - val_fp: 52.0000 - val_fn: 58.0000 - val_precision: 0.4747 - val_recall: 0.4476 - val_auc: 0.7650\n",
      "Epoch 43/50\n",
      "161/161 [==============================] - 0s 2ms/step - loss: 0.0032 - accuracy: 0.9993 - tp: 172.0000 - tn: 159923.0000 - fp: 23.0000 - fn: 85.0000 - precision: 0.8821 - recall: 0.6693 - auc: 0.9365 - val_loss: 0.1866 - val_accuracy: 0.9981 - val_tp: 47.0000 - val_tn: 53251.0000 - val_fp: 46.0000 - val_fn: 58.0000 - val_precision: 0.5054 - val_recall: 0.4476 - val_auc: 0.7607\n",
      "Epoch 44/50\n",
      "161/161 [==============================] - 0s 3ms/step - loss: 0.0032 - accuracy: 0.9993 - tp: 171.0000 - tn: 159926.0000 - fp: 20.0000 - fn: 86.0000 - precision: 0.8953 - recall: 0.6654 - auc: 0.9385 - val_loss: 0.1842 - val_accuracy: 0.9980 - val_tp: 47.0000 - val_tn: 53249.0000 - val_fp: 48.0000 - val_fn: 58.0000 - val_precision: 0.4947 - val_recall: 0.4476 - val_auc: 0.7650\n",
      "Epoch 45/50\n",
      "161/161 [==============================] - 0s 3ms/step - loss: 0.0032 - accuracy: 0.9993 - tp: 172.0000 - tn: 159924.0000 - fp: 22.0000 - fn: 85.0000 - precision: 0.8866 - recall: 0.6693 - auc: 0.9385 - val_loss: 0.1822 - val_accuracy: 0.9980 - val_tp: 47.0000 - val_tn: 53249.0000 - val_fp: 48.0000 - val_fn: 58.0000 - val_precision: 0.4947 - val_recall: 0.4476 - val_auc: 0.7692\n",
      "Epoch 46/50\n",
      "161/161 [==============================] - 0s 3ms/step - loss: 0.0032 - accuracy: 0.9993 - tp: 174.0000 - tn: 159923.0000 - fp: 23.0000 - fn: 83.0000 - precision: 0.8832 - recall: 0.6770 - auc: 0.9442 - val_loss: 0.1821 - val_accuracy: 0.9980 - val_tp: 47.0000 - val_tn: 53249.0000 - val_fp: 48.0000 - val_fn: 58.0000 - val_precision: 0.4947 - val_recall: 0.4476 - val_auc: 0.7648\n",
      "Epoch 47/50\n",
      "161/161 [==============================] - 0s 2ms/step - loss: 0.0032 - accuracy: 0.9993 - tp: 173.0000 - tn: 159923.0000 - fp: 23.0000 - fn: 84.0000 - precision: 0.8827 - recall: 0.6732 - auc: 0.9385 - val_loss: 0.1805 - val_accuracy: 0.9979 - val_tp: 47.0000 - val_tn: 53245.0000 - val_fp: 52.0000 - val_fn: 58.0000 - val_precision: 0.4747 - val_recall: 0.4476 - val_auc: 0.7694\n",
      "Epoch 48/50\n",
      "161/161 [==============================] - 0s 3ms/step - loss: 0.0032 - accuracy: 0.9993 - tp: 172.0000 - tn: 159923.0000 - fp: 23.0000 - fn: 85.0000 - precision: 0.8821 - recall: 0.6693 - auc: 0.9384 - val_loss: 0.1866 - val_accuracy: 0.9981 - val_tp: 47.0000 - val_tn: 53251.0000 - val_fp: 46.0000 - val_fn: 58.0000 - val_precision: 0.5054 - val_recall: 0.4476 - val_auc: 0.7697\n",
      "Epoch 49/50\n",
      "161/161 [==============================] - 0s 3ms/step - loss: 0.0032 - accuracy: 0.9994 - tp: 175.0000 - tn: 159926.0000 - fp: 20.0000 - fn: 82.0000 - precision: 0.8974 - recall: 0.6809 - auc: 0.9404 - val_loss: 0.1878 - val_accuracy: 0.9979 - val_tp: 47.0000 - val_tn: 53245.0000 - val_fp: 52.0000 - val_fn: 58.0000 - val_precision: 0.4747 - val_recall: 0.4476 - val_auc: 0.7651\n",
      "Epoch 50/50\n",
      "161/161 [==============================] - 0s 2ms/step - loss: 0.0032 - accuracy: 0.9993 - tp: 175.0000 - tn: 159921.0000 - fp: 25.0000 - fn: 82.0000 - precision: 0.8750 - recall: 0.6809 - auc: 0.9386 - val_loss: 0.1868 - val_accuracy: 0.9980 - val_tp: 47.0000 - val_tn: 53249.0000 - val_fp: 48.0000 - val_fn: 58.0000 - val_precision: 0.4947 - val_recall: 0.4476 - val_auc: 0.7692\n"
     ]
    }
   ],
   "source": [
    "# Training the model\n",
    "batch_size = 1000\n",
    "epochs = 50\n",
    "training_history = model.fit(X_train,\n",
    "                             y_train,\n",
    "                             validation_data=(X_val, y_val),\n",
    "                             epochs=epochs,\n",
    "                             batch_size = batch_size,\n",
    "                             verbose=1)\n"
   ]
  },
  {
   "cell_type": "markdown",
   "metadata": {},
   "source": [
    "### Model Performance"
   ]
  },
  {
   "cell_type": "markdown",
   "metadata": {},
   "source": [
    "#### Checking Training History"
   ]
  },
  {
   "cell_type": "code",
   "execution_count": 17,
   "metadata": {},
   "outputs": [
    {
     "data": {
      "text/plain": [
       "<AxesSubplot:title={'center':'Loss'}, xlabel='Epoch'>"
      ]
     },
     "execution_count": 17,
     "metadata": {},
     "output_type": "execute_result"
    },
    {
     "data": {
      "image/png": "[encoded data removed]",
      "text/plain": [
       "<Figure size 432x288 with 1 Axes>"
      ]
     },
     "metadata": {
      "needs_background": "light"
     },
     "output_type": "display_data"
    }
   ],
   "source": [
    "# Plotting loss\n",
    "loss_df = pd.DataFrame(\n",
    "    {\n",
    "        \"Epoch\": range(1, epochs + 1),\n",
    "        \"Train\": training_history.history[\"loss\"],\n",
    "        \"Val\": training_history.history[\"val_loss\"],\n",
    "    }\n",
    ")\n",
    "loss_df.set_index(\"Epoch\", inplace=True)\n",
    "loss_df.plot(title=\"Loss\")"
   ]
  },
  {
   "cell_type": "code",
   "execution_count": 18,
   "metadata": {},
   "outputs": [
    {
     "data": {
      "text/plain": [
       "<AxesSubplot:title={'center':'Accuracy'}, xlabel='Epoch'>"
      ]
     },
     "execution_count": 18,
     "metadata": {},
     "output_type": "execute_result"
    },
    {
     "data": {
      "image/png": "[encoded data removed]",
      "text/plain": [
       "<Figure size 432x288 with 1 Axes>"
      ]
     },
     "metadata": {
      "needs_background": "light"
     },
     "output_type": "display_data"
    }
   ],
   "source": [
    "# Plotting accuracy\n",
    "accuracy_df = pd.DataFrame(\n",
    "    {\n",
    "        \"Epoch\": range(1, epochs + 1),\n",
    "        \"Train\": training_history.history[\"accuracy\"],\n",
    "        \"Val\": training_history.history[\"val_accuracy\"],\n",
    "    }\n",
    ")\n",
    "accuracy_df.set_index(\"Epoch\", inplace=True)\n",
    "accuracy_df.plot(title=\"Accuracy\")"
   ]
  },
  {
   "cell_type": "code",
   "execution_count": 19,
   "metadata": {},
   "outputs": [
    {
     "data": {
      "text/plain": [
       "<AxesSubplot:title={'center':'AUC'}, xlabel='Epoch'>"
      ]
     },
     "execution_count": 19,
     "metadata": {},
     "output_type": "execute_result"
    },
    {
     "data": {
      "image/png": "[encoded data removed]",
      "text/plain": [
       "<Figure size 432x288 with 1 Axes>"
      ]
     },
     "metadata": {
      "needs_background": "light"
     },
     "output_type": "display_data"
    }
   ],
   "source": [
    "# Plotting AUC\n",
    "auc_df = pd.DataFrame(\n",
    "    {\n",
    "        \"Epoch\": range(1, epochs + 1),\n",
    "        \"Train\": training_history.history[\"auc\"],\n",
    "        \"Val\": training_history.history[\"val_auc\"],\n",
    "    }\n",
    ")\n",
    "auc_df.set_index(\"Epoch\", inplace=True)\n",
    "auc_df.plot(title=\"AUC\")"
   ]
  },
  {
   "cell_type": "markdown",
   "metadata": {},
   "source": [
    "#### Plotting the ROC Curve"
   ]
  },
  {
   "cell_type": "code",
   "execution_count": 20,
   "metadata": {},
   "outputs": [],
   "source": [
    "# Import the roc_curve and auc metrics from sklearn\n",
    "from sklearn.metrics import roc_curve, auc"
   ]
  },
  {
   "cell_type": "code",
   "execution_count": 21,
   "metadata": {},
   "outputs": [
    {
     "name": "stdout",
     "output_type": "stream",
     "text": [
      "161/161 [==============================] - 0s 1ms/step\n",
      "72/72 [==============================] - 0s 1ms/step\n"
     ]
    }
   ],
   "source": [
    "# Making predictions to feed the roc_curve module\n",
    "train_predictions = model.predict(X_train, batch_size=1000)\n",
    "test_predictions = model.predict(X_test, batch_size=1000)"
   ]
  },
  {
   "cell_type": "code",
   "execution_count": 22,
   "metadata": {},
   "outputs": [],
   "source": [
    "# Calculate the ROC curve and AUC for the training set\n",
    "fpr_train, tpr_train, thresholds_train = roc_curve(y_train, train_predictions)\n",
    "auc_train = auc(fpr_train, tpr_train)\n",
    "auc_train = round(auc_train, 4)\n",
    "# Calculate the ROC curve and AUC for the testing set\n",
    "fpr_test, tpr_test, thresholds_test = roc_curve(y_test, test_predictions)\n",
    "auc_test = auc(fpr_test, tpr_test)\n",
    "auc_test = round(auc_test, 4)"
   ]
  },
  {
   "cell_type": "code",
   "execution_count": 23,
   "metadata": {},
   "outputs": [],
   "source": [
    "# Create a DataFrame with the fpr and tpr results\n",
    "roc_df_train = pd.DataFrame({'FPR Train': fpr_train, 'TPR Train': tpr_train})\n",
    "\n",
    "roc_df_test = pd.DataFrame({'FPR Test': fpr_test, 'TPR Test': tpr_test})"
   ]
  },
  {
   "cell_type": "code",
   "execution_count": 28,
   "metadata": {},
   "outputs": [
    {
     "data": {
      "text/plain": [
       "<AxesSubplot:title={'center':'Test ROC Curve (AUC=0.695)'}, xlabel='FPR Test'>"
      ]
     },
     "execution_count": 28,
     "metadata": {},
     "output_type": "execute_result"
    },
    {
     "data": {
      "image/png": "[encoded data removed]",
      "text/plain": [
       "<Figure size 432x288 with 1 Axes>"
      ]
     },
     "metadata": {
      "needs_background": "light"
     },
     "output_type": "display_data"
    },
    {
     "data": {
      "image/png": "[encoded data removed]",
      "text/plain": [
       "<Figure size 432x288 with 1 Axes>"
      ]
     },
     "metadata": {
      "needs_background": "light"
     },
     "output_type": "display_data"
    }
   ],
   "source": [
    "# Plotting the ROC Curves\n",
    "roc_df_train.plot(x='FPR Train', y='TPR Train', xlim=([-0.05, 1.05]), title=f'Test ROC Curve (AUC={auc_test})')\n",
    "\n",
    "roc_df_test.plot(x='FPR Test', y='TPR Test', color='red', style='--', xlim=([-0.05, 1.05]), title=f'Test ROC Curve (AUC={auc_test})')"
   ]
  },
  {
   "cell_type": "markdown",
   "metadata": {},
   "source": [
    "#### Evaluate the Model"
   ]
  },
  {
   "cell_type": "code",
   "execution_count": 29,
   "metadata": {},
   "outputs": [
    {
     "data": {
      "text/plain": [
       "{'loss': 0.1978912204504013,\n",
       " 'accuracy': 0.997949481010437,\n",
       " 'tp': 52.0,\n",
       " 'tn': 71004.0,\n",
       " 'fp': 68.0,\n",
       " 'fn': 78.0,\n",
       " 'precision': 0.4333333373069763,\n",
       " 'recall': 0.4000000059604645,\n",
       " 'auc': 0.7688252925872803}"
      ]
     },
     "metadata": {},
     "output_type": "display_data"
    }
   ],
   "source": [
    "# Evaluate the model\n",
    "scores = model.evaluate(X_test, y_test, verbose=0)\n",
    "# Define metrics dictionary\n",
    "metrics = {k: v for k, v in zip(model.metrics_names, scores)}\n",
    "# Display evaluation metrics results\n",
    "display(metrics)"
   ]
  },
  {
   "cell_type": "markdown",
   "metadata": {},
   "source": [
    "#### Confusion Matrix"
   ]
  },
  {
   "cell_type": "code",
   "execution_count": 31,
   "metadata": {},
   "outputs": [
    {
     "data": {
      "text/html": [
       "<div>\n",
       "<style scoped>\n",
       "    .dataframe tbody tr th:only-of-type {\n",
       "        vertical-align: middle;\n",
       "    }\n",
       "\n",
       "    .dataframe tbody tr th {\n",
       "        vertical-align: top;\n",
       "    }\n",
       "\n",
       "    .dataframe thead th {\n",
       "        text-align: right;\n",
       "    }\n",
       "</style>\n",
       "<table border=\"1\" class=\"dataframe\">\n",
       "  <thead>\n",
       "    <tr style=\"text-align: right;\">\n",
       "      <th>Predicted</th>\n",
       "      <th>Positive (1)</th>\n",
       "      <th>Negative (0)</th>\n",
       "    </tr>\n",
       "    <tr>\n",
       "      <th>Actual</th>\n",
       "      <th></th>\n",
       "      <th></th>\n",
       "    </tr>\n",
       "  </thead>\n",
       "  <tbody>\n",
       "    <tr>\n",
       "      <th>Positive(1)</th>\n",
       "      <td>TP=52.0</td>\n",
       "      <td>FN=68.0</td>\n",
       "    </tr>\n",
       "    <tr>\n",
       "      <th>Negative(0)</th>\n",
       "      <td>FP=78.0</td>\n",
       "      <td>TN=71004.0</td>\n",
       "    </tr>\n",
       "  </tbody>\n",
       "</table>\n",
       "</div>"
      ],
      "text/plain": [
       "Predicted   Positive (1) Negative (0)\n",
       "Actual                               \n",
       "Positive(1)      TP=52.0      FN=68.0\n",
       "Negative(0)      FP=78.0   TN=71004.0"
      ]
     },
     "execution_count": 31,
     "metadata": {},
     "output_type": "execute_result"
    }
   ],
   "source": [
    "# Define the confusion matrix data\n",
    "cm_df = pd.DataFrame(\n",
    "    {\n",
    "        \"Positive (1)\": [f\"TP={metrics['tp']}\", f\"FP={metrics['fn']}\"],\n",
    "        \"Negative (0)\": [f\"FN={metrics['fp']}\", f\"TN={metrics['tn']}\"],\n",
    "    },\n",
    "    index=[\"Positive(1)\", \"Negative(0)\"],\n",
    ")\n",
    "cm_df.index.name = \"Actual\"\n",
    "cm_df.columns.name = \"Predicted\"\n",
    "                         \n",
    "# Show the confusion matrix\n",
    "cm_df"
   ]
  },
  {
   "cell_type": "markdown",
   "metadata": {},
   "source": [
    "#### Classification Report"
   ]
  },
  {
   "cell_type": "code",
   "execution_count": 32,
   "metadata": {},
   "outputs": [
    {
     "name": "stdout",
     "output_type": "stream",
     "text": [
      "2226/2226 [==============================] - 2s 1ms/step\n",
      "              precision    recall  f1-score   support\n",
      "\n",
      "           0       1.00      1.00      1.00     71082\n",
      "           1       0.40      0.43      0.42       120\n",
      "\n",
      "    accuracy                           1.00     71202\n",
      "   macro avg       0.70      0.72      0.71     71202\n",
      "weighted avg       1.00      1.00      1.00     71202\n",
      "\n"
     ]
    }
   ],
   "source": [
    "# Import the classification_report method from sklearn\n",
    "from sklearn.metrics import classification_report\n",
    "\n",
    "# Predict classes using testing data\n",
    "y_predict_classes = (model.predict(X_test) > 0.5).astype('int32')\n",
    "# Display classification report\n",
    "print(classification_report(y_predict_classes, y_test))"
   ]
  },
  {
   "cell_type": "code",
   "execution_count": null,
   "metadata": {},
   "outputs": [],
   "source": []
  }
 ],
 "metadata": {
  "file_extension": ".py",
  "kernelspec": {
   "display_name": "Python 3 (ipykernel)",
   "language": "python",
   "name": "python3"
  },
  "language_info": {
   "codemirror_mode": {
    "name": "ipython",
    "version": 3
   },
   "file_extension": ".py",
   "mimetype": "text/x-python",
   "name": "python",
   "nbconvert_exporter": "python",
   "pygments_lexer": "ipython3",
   "version": "3.7.13"
  },
  "mimetype": "text/x-python",
  "name": "python",
  "npconvert_exporter": "python",
  "pygments_lexer": "ipython3",
  "version": 3
 },
 "nbformat": 4,
 "nbformat_minor": 4
}
