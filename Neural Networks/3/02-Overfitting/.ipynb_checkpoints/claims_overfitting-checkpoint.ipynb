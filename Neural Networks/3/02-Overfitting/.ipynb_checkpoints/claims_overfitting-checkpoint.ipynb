{
 "cells": [
  {
   "cell_type": "markdown",
   "id": "e8790310",
   "metadata": {},
   "source": [
    "# Insurtech: Categorical Risk\n",
    "\n",
    "## Background\n",
    "\n",
    "The insurance business revolves around quantifying risk: the insurer invests insurance premiums in financial markets, and makes payouts in the form of insurance claims. Both investments and claims payouts require models in order to quantify and predict risk, or the level of potential financial loss. \n",
    "\n",
    "This dataset contains historical claims payouts for a number of different medical insurance buyers, along with their characteristics (\"age\", \"smoker\", and so forth). Can you build a deep neural network that uses people's characteristics to quantify the potential level of dollar claims, and can you model be made robust to overfitting? \n",
    "\n",
    "## Instructions\n",
    "\n",
    "### Preparing the Data\n",
    "1) Read in the data.\n",
    "\n",
    "2) Use `pd.qcut` to split the dependent variable, `charges`, into 5 categorical buckets. Save this result to a `charges_quantile` column.\n",
    "\n",
    "3) Use `LabelEncoder` and `to_categorical` to set this column as your `y` variable. \n",
    "\n",
    "4) Set the remaining data as your `X` data.\n",
    "\n",
    "5) Split the data into training and test windows using `train_test_split`.\n",
    "\n",
    "### Fitting the Model\n",
    "\n",
    "1) Fit and evaluate the model, including at least one dropout layer, and one layer with regularization. Include a validation set as part of fitting the model.\n",
    "\n",
    "2) Plot performance on the training and validation set across epochs. \n",
    "\n",
    "3) Finally, re-fit the new model, adjusting the amount of epochs for training so as to avoid overfitting as much as possible."
   ]
  },
  {
   "cell_type": "code",
   "execution_count": 1,
   "id": "038c919a",
   "metadata": {},
   "outputs": [],
   "source": [
    "import pandas as pd\n",
    "import numpy as np"
   ]
  },
  {
   "cell_type": "code",
   "execution_count": 2,
   "id": "292c574b",
   "metadata": {},
   "outputs": [],
   "source": [
    "from keras.models import Sequential\n",
    "from keras.layers import Dense, Activation\n",
    "\n",
    "# This code is neccessary to produce the same results every time\n",
    "import tensorflow as tf\n",
    "tf.keras.utils.set_random_seed(1)"
   ]
  },
  {
   "cell_type": "code",
   "execution_count": 3,
   "id": "322048df",
   "metadata": {},
   "outputs": [],
   "source": [
    "# Read in the data\n",
    "df = pd.read_csv('insurance_claims.csv')"
   ]
  },
  {
   "cell_type": "code",
   "execution_count": 4,
   "id": "6445c810",
   "metadata": {},
   "outputs": [
    {
     "data": {
      "text/html": [
       "<div>\n",
       "<style scoped>\n",
       "    .dataframe tbody tr th:only-of-type {\n",
       "        vertical-align: middle;\n",
       "    }\n",
       "\n",
       "    .dataframe tbody tr th {\n",
       "        vertical-align: top;\n",
       "    }\n",
       "\n",
       "    .dataframe thead th {\n",
       "        text-align: right;\n",
       "    }\n",
       "</style>\n",
       "<table border=\"1\" class=\"dataframe\">\n",
       "  <thead>\n",
       "    <tr style=\"text-align: right;\">\n",
       "      <th></th>\n",
       "      <th>age</th>\n",
       "      <th>bmi</th>\n",
       "      <th>children</th>\n",
       "      <th>smoker</th>\n",
       "      <th>charges</th>\n",
       "    </tr>\n",
       "  </thead>\n",
       "  <tbody>\n",
       "    <tr>\n",
       "      <th>0</th>\n",
       "      <td>19</td>\n",
       "      <td>27.900</td>\n",
       "      <td>0</td>\n",
       "      <td>1</td>\n",
       "      <td>16884.92400</td>\n",
       "    </tr>\n",
       "    <tr>\n",
       "      <th>1</th>\n",
       "      <td>18</td>\n",
       "      <td>33.770</td>\n",
       "      <td>1</td>\n",
       "      <td>0</td>\n",
       "      <td>1725.55230</td>\n",
       "    </tr>\n",
       "    <tr>\n",
       "      <th>2</th>\n",
       "      <td>28</td>\n",
       "      <td>33.000</td>\n",
       "      <td>3</td>\n",
       "      <td>0</td>\n",
       "      <td>4449.46200</td>\n",
       "    </tr>\n",
       "    <tr>\n",
       "      <th>3</th>\n",
       "      <td>33</td>\n",
       "      <td>22.705</td>\n",
       "      <td>0</td>\n",
       "      <td>0</td>\n",
       "      <td>21984.47061</td>\n",
       "    </tr>\n",
       "    <tr>\n",
       "      <th>4</th>\n",
       "      <td>32</td>\n",
       "      <td>28.880</td>\n",
       "      <td>0</td>\n",
       "      <td>0</td>\n",
       "      <td>3866.85520</td>\n",
       "    </tr>\n",
       "  </tbody>\n",
       "</table>\n",
       "</div>"
      ],
      "text/plain": [
       "   age     bmi  children  smoker      charges\n",
       "0   19  27.900         0       1  16884.92400\n",
       "1   18  33.770         1       0   1725.55230\n",
       "2   28  33.000         3       0   4449.46200\n",
       "3   33  22.705         0       0  21984.47061\n",
       "4   32  28.880         0       0   3866.85520"
      ]
     },
     "execution_count": 4,
     "metadata": {},
     "output_type": "execute_result"
    }
   ],
   "source": [
    "df.head()"
   ]
  },
  {
   "cell_type": "code",
   "execution_count": 5,
   "id": "f5765905",
   "metadata": {},
   "outputs": [
    {
     "data": {
      "text/plain": [
       "1    268\n",
       "5    268\n",
       "3    268\n",
       "4    267\n",
       "2    267\n",
       "Name: charges_quantile, dtype: int64"
      ]
     },
     "execution_count": 5,
     "metadata": {},
     "output_type": "execute_result"
    }
   ],
   "source": [
    "# Use qcut to group claims data (\"charges\") into 5 buckets\n",
    "df['charges_quantile'] = (pd.qcut(df['charges'], q=5, labels=False))+1\n",
    "\n",
    "# Verify buckets are approximately balanced \n",
    "df['charges_quantile'].value_counts()"
   ]
  },
  {
   "cell_type": "code",
   "execution_count": 6,
   "id": "e029a4ce",
   "metadata": {},
   "outputs": [],
   "source": [
    "# Save bucket (\"quantile\") value as the new  `y` variable\n",
    "y_quantile = df['charges_quantile']"
   ]
  },
  {
   "cell_type": "code",
   "execution_count": 7,
   "id": "56854242",
   "metadata": {},
   "outputs": [],
   "source": [
    "# Save the unique count of categories for later use\n",
    "number_of_classes = len(y_quantile.unique())\n"
   ]
  },
  {
   "cell_type": "code",
   "execution_count": 8,
   "id": "b225898d",
   "metadata": {},
   "outputs": [
    {
     "data": {
      "text/plain": [
       "array([3, 0, 1, ..., 0, 0, 4], dtype=int64)"
      ]
     },
     "execution_count": 8,
     "metadata": {},
     "output_type": "execute_result"
    }
   ],
   "source": [
    "# Encode quantiles into labels\n",
    "from sklearn.preprocessing import LabelEncoder\n",
    "encoder = LabelEncoder()\n",
    "encoder.fit(y_quantile)\n",
    "encoded_y = encoder.transform(y_quantile)\n",
    "encoded_y\n"
   ]
  },
  {
   "cell_type": "code",
   "execution_count": 9,
   "id": "fa4a563f",
   "metadata": {},
   "outputs": [],
   "source": [
    "# Encode labels into categories\n",
    "from keras.utils.np_utils import to_categorical\n",
    "y_categorical = to_categorical(encoded_y, num_classes=number_of_classes)\n"
   ]
  },
  {
   "cell_type": "code",
   "execution_count": 10,
   "id": "f1219ca4",
   "metadata": {},
   "outputs": [
    {
     "data": {
      "text/html": [
       "<div>\n",
       "<style scoped>\n",
       "    .dataframe tbody tr th:only-of-type {\n",
       "        vertical-align: middle;\n",
       "    }\n",
       "\n",
       "    .dataframe tbody tr th {\n",
       "        vertical-align: top;\n",
       "    }\n",
       "\n",
       "    .dataframe thead th {\n",
       "        text-align: right;\n",
       "    }\n",
       "</style>\n",
       "<table border=\"1\" class=\"dataframe\">\n",
       "  <thead>\n",
       "    <tr style=\"text-align: right;\">\n",
       "      <th></th>\n",
       "      <th>age</th>\n",
       "      <th>bmi</th>\n",
       "      <th>children</th>\n",
       "      <th>smoker</th>\n",
       "    </tr>\n",
       "  </thead>\n",
       "  <tbody>\n",
       "    <tr>\n",
       "      <th>0</th>\n",
       "      <td>19</td>\n",
       "      <td>27.900</td>\n",
       "      <td>0</td>\n",
       "      <td>1</td>\n",
       "    </tr>\n",
       "    <tr>\n",
       "      <th>1</th>\n",
       "      <td>18</td>\n",
       "      <td>33.770</td>\n",
       "      <td>1</td>\n",
       "      <td>0</td>\n",
       "    </tr>\n",
       "    <tr>\n",
       "      <th>2</th>\n",
       "      <td>28</td>\n",
       "      <td>33.000</td>\n",
       "      <td>3</td>\n",
       "      <td>0</td>\n",
       "    </tr>\n",
       "    <tr>\n",
       "      <th>3</th>\n",
       "      <td>33</td>\n",
       "      <td>22.705</td>\n",
       "      <td>0</td>\n",
       "      <td>0</td>\n",
       "    </tr>\n",
       "    <tr>\n",
       "      <th>4</th>\n",
       "      <td>32</td>\n",
       "      <td>28.880</td>\n",
       "      <td>0</td>\n",
       "      <td>0</td>\n",
       "    </tr>\n",
       "  </tbody>\n",
       "</table>\n",
       "</div>"
      ],
      "text/plain": [
       "   age     bmi  children  smoker\n",
       "0   19  27.900         0       1\n",
       "1   18  33.770         1       0\n",
       "2   28  33.000         3       0\n",
       "3   33  22.705         0       0\n",
       "4   32  28.880         0       0"
      ]
     },
     "execution_count": 10,
     "metadata": {},
     "output_type": "execute_result"
    }
   ],
   "source": [
    "# Specify X (predictor) variables\n",
    "\n",
    "X = df[['age', 'bmi', 'children', 'smoker']]\n",
    "X.head()"
   ]
  },
  {
   "cell_type": "code",
   "execution_count": 11,
   "id": "09f6d2b3",
   "metadata": {},
   "outputs": [],
   "source": [
    "# Split into training and testing windows\n",
    "from sklearn.model_selection import train_test_split\n",
    "X_train, X_test, y_train, y_test = train_test_split(X, y_categorical, random_state=1)"
   ]
  },
  {
   "cell_type": "code",
   "execution_count": 12,
   "id": "047e581e",
   "metadata": {},
   "outputs": [
    {
     "data": {
      "text/plain": [
       "array([[1., 0., 0., 0., 0.],\n",
       "       [1., 0., 0., 0., 0.],\n",
       "       [0., 1., 0., 0., 0.],\n",
       "       ...,\n",
       "       [0., 0., 0., 0., 1.],\n",
       "       [0., 0., 0., 1., 0.],\n",
       "       [0., 0., 0., 1., 0.]], dtype=float32)"
      ]
     },
     "execution_count": 12,
     "metadata": {},
     "output_type": "execute_result"
    }
   ],
   "source": [
    "# Preview the `y_train` values\n",
    "y_train"
   ]
  },
  {
   "cell_type": "code",
   "execution_count": 13,
   "id": "d8a8314d",
   "metadata": {},
   "outputs": [
    {
     "data": {
      "text/plain": [
       "4"
      ]
     },
     "execution_count": 13,
     "metadata": {},
     "output_type": "execute_result"
    }
   ],
   "source": [
    "# Save the count of unique predictor variables for use in model\n",
    "number_of_predictors = len(X.columns)\n",
    "len(X.columns)\n",
    "\n"
   ]
  },
  {
   "cell_type": "markdown",
   "id": "a1c124ca",
   "metadata": {},
   "source": [
    "### Build the Model\n",
    "\n"
   ]
  },
  {
   "cell_type": "code",
   "execution_count": 14,
   "id": "88fff3da",
   "metadata": {},
   "outputs": [],
   "source": [
    "# Import the `Dropout` layer\n",
    "from keras.layers import Dropout\n",
    "# Import regularization functions\n",
    "from keras.regularizers import l1, l2"
   ]
  },
  {
   "cell_type": "code",
   "execution_count": 15,
   "id": "d3f0702b",
   "metadata": {},
   "outputs": [],
   "source": [
    "# Build the Model\n",
    "model = Sequential()\n",
    "# Add a dense layer (as before)\n",
    "model.add(Dense(10, input_dim=number_of_predictors, activation='relu'))\n",
    "# Now add a dropout layer\n",
    "model.add(Dropout(.2, input_shape=(10, )))\n",
    "# Add regularization to another dense layer\n",
    "model.add(Dense(5, activation='relu', kernel_regularizer=l2(0.01), bias_regularizer=l2(0.01)))"
   ]
  },
  {
   "cell_type": "code",
   "execution_count": 16,
   "id": "2e188acc",
   "metadata": {},
   "outputs": [],
   "source": [
    "# Add the final output layer\n",
    "# (Hint: Set the # of possible outputs equal to the number classes)\n",
    "model.add(Dense(number_of_classes, activation='sigmoid'))"
   ]
  },
  {
   "cell_type": "code",
   "execution_count": 17,
   "id": "234f97d9",
   "metadata": {},
   "outputs": [],
   "source": [
    "# Compile the model\n",
    "model.compile(loss='categorical_crossentropy', optimizer='adam', metrics=['categorical_accuracy'])"
   ]
  },
  {
   "cell_type": "code",
   "execution_count": 18,
   "id": "fb552948",
   "metadata": {},
   "outputs": [
    {
     "name": "stdout",
     "output_type": "stream",
     "text": [
      "Model: \"sequential\"\n",
      "_________________________________________________________________\n",
      " Layer (type)                Output Shape              Param #   \n",
      "=================================================================\n",
      " dense (Dense)               (None, 10)                50        \n",
      "                                                                 \n",
      " dropout (Dropout)           (None, 10)                0         \n",
      "                                                                 \n",
      " dense_1 (Dense)             (None, 5)                 55        \n",
      "                                                                 \n",
      " dense_2 (Dense)             (None, 5)                 30        \n",
      "                                                                 \n",
      "=================================================================\n",
      "Total params: 135\n",
      "Trainable params: 135\n",
      "Non-trainable params: 0\n",
      "_________________________________________________________________\n"
     ]
    }
   ],
   "source": [
    "# Summarise the model\n",
    "model.summary()"
   ]
  },
  {
   "cell_type": "code",
   "execution_count": 19,
   "id": "0cd4bbee",
   "metadata": {},
   "outputs": [
    {
     "name": "stdout",
     "output_type": "stream",
     "text": [
      "Epoch 1/50\n",
      "81/81 [==============================] - 1s 5ms/step - loss: 10.1557 - categorical_accuracy: 0.1958 - val_loss: 4.4924 - val_categorical_accuracy: 0.3035\n",
      "Epoch 2/50\n",
      "81/81 [==============================] - 0s 2ms/step - loss: 4.7137 - categorical_accuracy: 0.2494 - val_loss: 2.3730 - val_categorical_accuracy: 0.3433\n",
      "Epoch 3/50\n",
      "81/81 [==============================] - 0s 2ms/step - loss: 3.2450 - categorical_accuracy: 0.2581 - val_loss: 1.9358 - val_categorical_accuracy: 0.3184\n",
      "Epoch 4/50\n",
      "81/81 [==============================] - 0s 2ms/step - loss: 2.6655 - categorical_accuracy: 0.2731 - val_loss: 1.7051 - val_categorical_accuracy: 0.3284\n",
      "Epoch 5/50\n",
      "81/81 [==============================] - 0s 2ms/step - loss: 2.2114 - categorical_accuracy: 0.2993 - val_loss: 1.5364 - val_categorical_accuracy: 0.3134\n",
      "Epoch 6/50\n",
      "81/81 [==============================] - 0s 2ms/step - loss: 1.8961 - categorical_accuracy: 0.2855 - val_loss: 1.4715 - val_categorical_accuracy: 0.3085\n",
      "Epoch 7/50\n",
      "81/81 [==============================] - 0s 2ms/step - loss: 1.8726 - categorical_accuracy: 0.2868 - val_loss: 1.4506 - val_categorical_accuracy: 0.3184\n",
      "Epoch 8/50\n",
      "81/81 [==============================] - 0s 2ms/step - loss: 1.7564 - categorical_accuracy: 0.3017 - val_loss: 1.4255 - val_categorical_accuracy: 0.3134\n",
      "Epoch 9/50\n",
      "81/81 [==============================] - 0s 2ms/step - loss: 1.6463 - categorical_accuracy: 0.2918 - val_loss: 1.3868 - val_categorical_accuracy: 0.3930\n",
      "Epoch 10/50\n",
      "81/81 [==============================] - 0s 2ms/step - loss: 1.5857 - categorical_accuracy: 0.3092 - val_loss: 1.3817 - val_categorical_accuracy: 0.3632\n",
      "Epoch 11/50\n",
      "81/81 [==============================] - 0s 2ms/step - loss: 1.5371 - categorical_accuracy: 0.3180 - val_loss: 1.3741 - val_categorical_accuracy: 0.4478\n",
      "Epoch 12/50\n",
      "81/81 [==============================] - 0s 2ms/step - loss: 1.5010 - categorical_accuracy: 0.3367 - val_loss: 1.3433 - val_categorical_accuracy: 0.4876\n",
      "Epoch 13/50\n",
      "81/81 [==============================] - 0s 2ms/step - loss: 1.4848 - categorical_accuracy: 0.3566 - val_loss: 1.3503 - val_categorical_accuracy: 0.4527\n",
      "Epoch 14/50\n",
      "81/81 [==============================] - 0s 2ms/step - loss: 1.4711 - categorical_accuracy: 0.3591 - val_loss: 1.3301 - val_categorical_accuracy: 0.4527\n",
      "Epoch 15/50\n",
      "81/81 [==============================] - 0s 2ms/step - loss: 1.4476 - categorical_accuracy: 0.3703 - val_loss: 1.3446 - val_categorical_accuracy: 0.4478\n",
      "Epoch 16/50\n",
      "81/81 [==============================] - 0s 2ms/step - loss: 1.4463 - categorical_accuracy: 0.3541 - val_loss: 1.3343 - val_categorical_accuracy: 0.4726\n",
      "Epoch 17/50\n",
      "81/81 [==============================] - 0s 2ms/step - loss: 1.4342 - categorical_accuracy: 0.3791 - val_loss: 1.3323 - val_categorical_accuracy: 0.4378\n",
      "Epoch 18/50\n",
      "81/81 [==============================] - 0s 2ms/step - loss: 1.4287 - categorical_accuracy: 0.3579 - val_loss: 1.3080 - val_categorical_accuracy: 0.4776\n",
      "Epoch 19/50\n",
      "81/81 [==============================] - 0s 2ms/step - loss: 1.4164 - categorical_accuracy: 0.3691 - val_loss: 1.3233 - val_categorical_accuracy: 0.4577\n",
      "Epoch 20/50\n",
      "81/81 [==============================] - 0s 2ms/step - loss: 1.4169 - categorical_accuracy: 0.3741 - val_loss: 1.2976 - val_categorical_accuracy: 0.4826\n",
      "Epoch 21/50\n",
      "81/81 [==============================] - 0s 2ms/step - loss: 1.4025 - categorical_accuracy: 0.3666 - val_loss: 1.3032 - val_categorical_accuracy: 0.4726\n",
      "Epoch 22/50\n",
      "81/81 [==============================] - 0s 2ms/step - loss: 1.3950 - categorical_accuracy: 0.3703 - val_loss: 1.2823 - val_categorical_accuracy: 0.4925\n",
      "Epoch 23/50\n",
      "81/81 [==============================] - 0s 2ms/step - loss: 1.3936 - categorical_accuracy: 0.3915 - val_loss: 1.2872 - val_categorical_accuracy: 0.4826\n",
      "Epoch 24/50\n",
      "81/81 [==============================] - 0s 2ms/step - loss: 1.3881 - categorical_accuracy: 0.3890 - val_loss: 1.2923 - val_categorical_accuracy: 0.4627\n",
      "Epoch 25/50\n",
      "81/81 [==============================] - 0s 2ms/step - loss: 1.3824 - categorical_accuracy: 0.3766 - val_loss: 1.3527 - val_categorical_accuracy: 0.3930\n",
      "Epoch 26/50\n",
      "81/81 [==============================] - 0s 2ms/step - loss: 1.3837 - categorical_accuracy: 0.3878 - val_loss: 1.2738 - val_categorical_accuracy: 0.4776\n",
      "Epoch 27/50\n",
      "81/81 [==============================] - 0s 2ms/step - loss: 1.3726 - categorical_accuracy: 0.3865 - val_loss: 1.2894 - val_categorical_accuracy: 0.4627\n",
      "Epoch 28/50\n",
      "81/81 [==============================] - 0s 2ms/step - loss: 1.3754 - categorical_accuracy: 0.4090 - val_loss: 1.2731 - val_categorical_accuracy: 0.4776\n",
      "Epoch 29/50\n",
      "81/81 [==============================] - 0s 2ms/step - loss: 1.3731 - categorical_accuracy: 0.3890 - val_loss: 1.2653 - val_categorical_accuracy: 0.5025\n",
      "Epoch 30/50\n",
      "81/81 [==============================] - 0s 3ms/step - loss: 1.3762 - categorical_accuracy: 0.3903 - val_loss: 1.2606 - val_categorical_accuracy: 0.4925\n",
      "Epoch 31/50\n",
      "81/81 [==============================] - 0s 2ms/step - loss: 1.3604 - categorical_accuracy: 0.4115 - val_loss: 1.2625 - val_categorical_accuracy: 0.4876\n",
      "Epoch 32/50\n",
      "81/81 [==============================] - 0s 2ms/step - loss: 1.3519 - categorical_accuracy: 0.3990 - val_loss: 1.2616 - val_categorical_accuracy: 0.4925\n",
      "Epoch 33/50\n",
      "81/81 [==============================] - 0s 2ms/step - loss: 1.3580 - categorical_accuracy: 0.3953 - val_loss: 1.2596 - val_categorical_accuracy: 0.4876\n",
      "Epoch 34/50\n",
      "81/81 [==============================] - 0s 2ms/step - loss: 1.3695 - categorical_accuracy: 0.3828 - val_loss: 1.2546 - val_categorical_accuracy: 0.5075\n",
      "Epoch 35/50\n",
      "81/81 [==============================] - 0s 3ms/step - loss: 1.3610 - categorical_accuracy: 0.3940 - val_loss: 1.2363 - val_categorical_accuracy: 0.5274\n",
      "Epoch 36/50\n",
      "81/81 [==============================] - 0s 3ms/step - loss: 1.3562 - categorical_accuracy: 0.4027 - val_loss: 1.2462 - val_categorical_accuracy: 0.4975\n",
      "Epoch 37/50\n",
      "81/81 [==============================] - 0s 2ms/step - loss: 1.3756 - categorical_accuracy: 0.3691 - val_loss: 1.2501 - val_categorical_accuracy: 0.4876\n",
      "Epoch 38/50\n",
      "81/81 [==============================] - 0s 2ms/step - loss: 1.3531 - categorical_accuracy: 0.3865 - val_loss: 1.2623 - val_categorical_accuracy: 0.4726\n",
      "Epoch 39/50\n",
      "81/81 [==============================] - 0s 2ms/step - loss: 1.3417 - categorical_accuracy: 0.4214 - val_loss: 1.2236 - val_categorical_accuracy: 0.5473\n",
      "Epoch 40/50\n",
      "81/81 [==============================] - 0s 2ms/step - loss: 1.3388 - categorical_accuracy: 0.4239 - val_loss: 1.2198 - val_categorical_accuracy: 0.5721\n",
      "Epoch 41/50\n",
      "81/81 [==============================] - 0s 2ms/step - loss: 1.3453 - categorical_accuracy: 0.4027 - val_loss: 1.2333 - val_categorical_accuracy: 0.4876\n",
      "Epoch 42/50\n",
      "81/81 [==============================] - 0s 2ms/step - loss: 1.3250 - categorical_accuracy: 0.4227 - val_loss: 1.2258 - val_categorical_accuracy: 0.5075\n",
      "Epoch 43/50\n",
      "81/81 [==============================] - 0s 2ms/step - loss: 1.3636 - categorical_accuracy: 0.3778 - val_loss: 1.2239 - val_categorical_accuracy: 0.5075\n",
      "Epoch 44/50\n",
      "81/81 [==============================] - 0s 2ms/step - loss: 1.3460 - categorical_accuracy: 0.4102 - val_loss: 1.2108 - val_categorical_accuracy: 0.5522\n",
      "Epoch 45/50\n",
      "81/81 [==============================] - 0s 2ms/step - loss: 1.3303 - categorical_accuracy: 0.4052 - val_loss: 1.2250 - val_categorical_accuracy: 0.5423\n",
      "Epoch 46/50\n",
      "81/81 [==============================] - 0s 2ms/step - loss: 1.3332 - categorical_accuracy: 0.4027 - val_loss: 1.2066 - val_categorical_accuracy: 0.5423\n",
      "Epoch 47/50\n",
      "81/81 [==============================] - 0s 2ms/step - loss: 1.3404 - categorical_accuracy: 0.3878 - val_loss: 1.2068 - val_categorical_accuracy: 0.5323\n",
      "Epoch 48/50\n",
      "81/81 [==============================] - 0s 2ms/step - loss: 1.3479 - categorical_accuracy: 0.4152 - val_loss: 1.2332 - val_categorical_accuracy: 0.4726\n",
      "Epoch 49/50\n",
      "81/81 [==============================] - 0s 2ms/step - loss: 1.3362 - categorical_accuracy: 0.3928 - val_loss: 1.2113 - val_categorical_accuracy: 0.5025\n",
      "Epoch 50/50\n",
      "81/81 [==============================] - 0s 2ms/step - loss: 1.3333 - categorical_accuracy: 0.4202 - val_loss: 1.2052 - val_categorical_accuracy: 0.5522\n"
     ]
    },
    {
     "data": {
      "text/plain": [
       "<keras.callbacks.History at 0x2bebde58208>"
      ]
     },
     "execution_count": 19,
     "metadata": {},
     "output_type": "execute_result"
    }
   ],
   "source": [
    "# Add in validation loss to select the number of epochs\n",
    "# Fit the model\n",
    "number_of_epochs = 50\n",
    "model.fit(X_train, y_train,\n",
    "          epochs=number_of_epochs,\n",
    "          batch_size=10,\n",
    "          validation_split=.2,\n",
    "          shuffle=True)"
   ]
  },
  {
   "cell_type": "code",
   "execution_count": 20,
   "id": "53b0063a",
   "metadata": {},
   "outputs": [
    {
     "data": {
      "text/plain": [
       "dict_keys(['loss', 'categorical_accuracy', 'val_loss', 'val_categorical_accuracy'])"
      ]
     },
     "execution_count": 20,
     "metadata": {},
     "output_type": "execute_result"
    }
   ],
   "source": [
    "# Save model history across epochs\n",
    "model_history = model.history.history\n",
    "model_history.keys()"
   ]
  },
  {
   "cell_type": "code",
   "execution_count": 21,
   "id": "2124d070",
   "metadata": {},
   "outputs": [
    {
     "data": {
      "text/plain": [
       "[0.1957605928182602,\n",
       " 0.2493765652179718,\n",
       " 0.25810474157333374,\n",
       " 0.27306732535362244,\n",
       " 0.29925188422203064,\n",
       " 0.28553617000579834,\n",
       " 0.28678303956985474,\n",
       " 0.30174562335014343,\n",
       " 0.2917705774307251,\n",
       " 0.309226930141449,\n",
       " 0.3179551064968109,\n",
       " 0.3366583585739136,\n",
       " 0.35660848021507263,\n",
       " 0.3591022491455078,\n",
       " 0.37032419443130493,\n",
       " 0.35411471128463745,\n",
       " 0.37905237078666687,\n",
       " 0.35785534977912903,\n",
       " 0.36907729506492615,\n",
       " 0.3740648329257965,\n",
       " 0.36658355593681335,\n",
       " 0.37032419443130493,\n",
       " 0.3915211856365204,\n",
       " 0.3890274167060852,\n",
       " 0.3765586018562317,\n",
       " 0.3877805471420288,\n",
       " 0.3865336775779724,\n",
       " 0.40897756814956665,\n",
       " 0.3890274167060852,\n",
       " 0.390274316072464,\n",
       " 0.41147130727767944,\n",
       " 0.3990024924278259,\n",
       " 0.39526185393333435,\n",
       " 0.38279300928115845,\n",
       " 0.39401495456695557,\n",
       " 0.4027431309223175,\n",
       " 0.36907729506492615,\n",
       " 0.3865336775779724,\n",
       " 0.42144638299942017,\n",
       " 0.42394015192985535,\n",
       " 0.4027431309223175,\n",
       " 0.42269325256347656,\n",
       " 0.3778054714202881,\n",
       " 0.41022443771362305,\n",
       " 0.4052368998527527,\n",
       " 0.4027431309223175,\n",
       " 0.3877805471420288,\n",
       " 0.4152119755744934,\n",
       " 0.39276808500289917,\n",
       " 0.42019951343536377]"
      ]
     },
     "execution_count": 21,
     "metadata": {},
     "output_type": "execute_result"
    }
   ],
   "source": [
    "# View `categorical_accuracy` for the training dataset\n",
    "model_history['categorical_accuracy']"
   ]
  },
  {
   "cell_type": "code",
   "execution_count": 22,
   "id": "3ef4fda4",
   "metadata": {},
   "outputs": [
    {
     "data": {
      "text/plain": [
       "<AxesSubplot:title={'center':'Performance Across Training and Validation'}>"
      ]
     },
     "execution_count": 22,
     "metadata": {},
     "output_type": "execute_result"
    },
    {
     "data": {
      "image/png": "[encoded data removed]",
      "text/plain": [
       "<Figure size 432x288 with 1 Axes>"
      ]
     },
     "metadata": {
      "needs_background": "light"
     },
     "output_type": "display_data"
    }
   ],
   "source": [
    "# Save accuracy for training and validation set across epochs into a DataFrame and Plot\n",
    "\n",
    "training_results = pd.DataFrame(index=range(1, number_of_epochs+1))\n",
    "training_results['Training'] = model_history['categorical_accuracy']\n",
    "training_results['Validation'] = model_history['val_categorical_accuracy']\n",
    "training_results.plot(title='Performance Across Training and Validation')"
   ]
  },
  {
   "cell_type": "code",
   "execution_count": 23,
   "id": "e1dc8737",
   "metadata": {},
   "outputs": [
    {
     "name": "stdout",
     "output_type": "stream",
     "text": [
      "Epoch 1/10\n",
      "1/1 [==============================] - 0s 71ms/step - loss: 1.3189 - categorical_accuracy: 0.4165 - val_loss: 1.2038 - val_categorical_accuracy: 0.5423\n",
      "Epoch 2/10\n",
      "1/1 [==============================] - 0s 32ms/step - loss: 1.3194 - categorical_accuracy: 0.4040 - val_loss: 1.2026 - val_categorical_accuracy: 0.5373\n",
      "Epoch 3/10\n",
      "1/1 [==============================] - 0s 30ms/step - loss: 1.3242 - categorical_accuracy: 0.3965 - val_loss: 1.2016 - val_categorical_accuracy: 0.5423\n",
      "Epoch 4/10\n",
      "1/1 [==============================] - 0s 33ms/step - loss: 1.3095 - categorical_accuracy: 0.4152 - val_loss: 1.2007 - val_categorical_accuracy: 0.5373\n",
      "Epoch 5/10\n",
      "1/1 [==============================] - 0s 31ms/step - loss: 1.3022 - categorical_accuracy: 0.4177 - val_loss: 1.2000 - val_categorical_accuracy: 0.5323\n",
      "Epoch 6/10\n",
      "1/1 [==============================] - 0s 50ms/step - loss: 1.2972 - categorical_accuracy: 0.4377 - val_loss: 1.1993 - val_categorical_accuracy: 0.5323\n",
      "Epoch 7/10\n",
      "1/1 [==============================] - 0s 32ms/step - loss: 1.3128 - categorical_accuracy: 0.4314 - val_loss: 1.1987 - val_categorical_accuracy: 0.5274\n",
      "Epoch 8/10\n",
      "1/1 [==============================] - 0s 31ms/step - loss: 1.3205 - categorical_accuracy: 0.4214 - val_loss: 1.1982 - val_categorical_accuracy: 0.5274\n",
      "Epoch 9/10\n",
      "1/1 [==============================] - 0s 31ms/step - loss: 1.3257 - categorical_accuracy: 0.4052 - val_loss: 1.1977 - val_categorical_accuracy: 0.5174\n",
      "Epoch 10/10\n",
      "1/1 [==============================] - 0s 29ms/step - loss: 1.3121 - categorical_accuracy: 0.4289 - val_loss: 1.1974 - val_categorical_accuracy: 0.5174\n"
     ]
    },
    {
     "data": {
      "text/plain": [
       "<keras.callbacks.History at 0x2bec0d48b08>"
      ]
     },
     "execution_count": 23,
     "metadata": {},
     "output_type": "execute_result"
    }
   ],
   "source": [
    "# Re-Fit the model, this time with epoch count selected so as to avoid overfitting\n",
    "number_of_epochs = 10\n",
    "model.fit(X_train, y_train,\n",
    "          epochs=number_of_epochs,\n",
    "          batch_size=1000,\n",
    "          validation_split=0.2,\n",
    "          shuffle=True)"
   ]
  },
  {
   "cell_type": "code",
   "execution_count": null,
   "id": "5a2da506-1c19-4e25-84a8-12006fd612a2",
   "metadata": {},
   "outputs": [],
   "source": []
  }
 ],
 "metadata": {
  "kernelspec": {
   "display_name": "Python 3 (ipykernel)",
   "language": "python",
   "name": "python3"
  },
  "language_info": {
   "codemirror_mode": {
    "name": "ipython",
    "version": 3
   },
   "file_extension": ".py",
   "mimetype": "text/x-python",
   "name": "python",
   "nbconvert_exporter": "python",
   "pygments_lexer": "ipython3",
   "version": "3.7.13"
  }
 },
 "nbformat": 4,
 "nbformat_minor": 5
}
